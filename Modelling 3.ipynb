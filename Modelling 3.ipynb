{
 "cells": [
  {
   "cell_type": "code",
   "execution_count": 45,
   "metadata": {
    "id": "bctj9IgRmSOo"
   },
   "outputs": [],
   "source": [
    "import pandas as pd\n",
    "import numpy as np\n",
    "import seaborn as sns\n",
    "import matplotlib.pyplot as plt\n",
    "from sklearn.preprocessing import StandardScaler\n",
    "from sklearn.cluster import KMeans\n",
    "import warnings\n",
    "import random"
   ]
  },
  {
   "cell_type": "code",
   "execution_count": 2,
   "metadata": {
    "colab": {
     "base_uri": "https://localhost:8080/",
     "height": 195
    },
    "id": "mu8lFWGomSOu",
    "outputId": "ff90d2ba-b24a-41d4-9104-7b80aa573226"
   },
   "outputs": [
    {
     "data": {
      "text/html": [
       "<div>\n",
       "<style scoped>\n",
       "    .dataframe tbody tr th:only-of-type {\n",
       "        vertical-align: middle;\n",
       "    }\n",
       "\n",
       "    .dataframe tbody tr th {\n",
       "        vertical-align: top;\n",
       "    }\n",
       "\n",
       "    .dataframe thead th {\n",
       "        text-align: right;\n",
       "    }\n",
       "</style>\n",
       "<table border=\"1\" class=\"dataframe\">\n",
       "  <thead>\n",
       "    <tr style=\"text-align: right;\">\n",
       "      <th></th>\n",
       "      <th>pc_code</th>\n",
       "      <th>pc_description</th>\n",
       "      <th>unit</th>\n",
       "      <th>country_code</th>\n",
       "      <th>country_name</th>\n",
       "      <th>quantity</th>\n",
       "      <th>value</th>\n",
       "    </tr>\n",
       "  </thead>\n",
       "  <tbody>\n",
       "    <tr>\n",
       "      <th>0</th>\n",
       "      <td>99</td>\n",
       "      <td>Other Commodities</td>\n",
       "      <td>Na</td>\n",
       "      <td>599</td>\n",
       "      <td>Unspecified</td>\n",
       "      <td>NaN</td>\n",
       "      <td>270.889542</td>\n",
       "    </tr>\n",
       "    <tr>\n",
       "      <th>1</th>\n",
       "      <td>99</td>\n",
       "      <td>Other Commodities</td>\n",
       "      <td>Na</td>\n",
       "      <td>1213</td>\n",
       "      <td>Kenya</td>\n",
       "      <td>NaN</td>\n",
       "      <td>17.159452</td>\n",
       "    </tr>\n",
       "    <tr>\n",
       "      <th>2</th>\n",
       "      <td>99</td>\n",
       "      <td>Other Commodities</td>\n",
       "      <td>Na</td>\n",
       "      <td>1395</td>\n",
       "      <td>Tanzania Rep</td>\n",
       "      <td>NaN</td>\n",
       "      <td>8.896539</td>\n",
       "    </tr>\n",
       "    <tr>\n",
       "      <th>3</th>\n",
       "      <td>99</td>\n",
       "      <td>Other Commodities</td>\n",
       "      <td>Na</td>\n",
       "      <td>1417</td>\n",
       "      <td>Uganda</td>\n",
       "      <td>NaN</td>\n",
       "      <td>5.181412</td>\n",
       "    </tr>\n",
       "    <tr>\n",
       "      <th>4</th>\n",
       "      <td>99</td>\n",
       "      <td>Other Commodities</td>\n",
       "      <td>Na</td>\n",
       "      <td>2035</td>\n",
       "      <td>Benin</td>\n",
       "      <td>NaN</td>\n",
       "      <td>2.476015</td>\n",
       "    </tr>\n",
       "  </tbody>\n",
       "</table>\n",
       "</div>"
      ],
      "text/plain": [
       "  pc_code     pc_description unit  country_code  country_name  quantity  \\\n",
       "0      99  Other Commodities   Na           599   Unspecified       NaN   \n",
       "1      99  Other Commodities   Na          1213         Kenya       NaN   \n",
       "2      99  Other Commodities   Na          1395  Tanzania Rep       NaN   \n",
       "3      99  Other Commodities   Na          1417        Uganda       NaN   \n",
       "4      99  Other Commodities   Na          2035         Benin       NaN   \n",
       "\n",
       "        value  \n",
       "0  270.889542  \n",
       "1   17.159452  \n",
       "2    8.896539  \n",
       "3    5.181412  \n",
       "4    2.476015  "
      ]
     },
     "execution_count": 2,
     "metadata": {},
     "output_type": "execute_result"
    }
   ],
   "source": [
    "df = pd.read_csv(\"PC_Export_2016_2017.csv\")\n",
    "df.head()"
   ]
  },
  {
   "cell_type": "code",
   "execution_count": 3,
   "metadata": {
    "colab": {
     "base_uri": "https://localhost:8080/",
     "height": 284
    },
    "id": "sTYQZu_KmSO_",
    "outputId": "123c438c-086e-4d9f-9b4c-c6efc668c572"
   },
   "outputs": [
    {
     "data": {
      "text/html": [
       "<div>\n",
       "<style scoped>\n",
       "    .dataframe tbody tr th:only-of-type {\n",
       "        vertical-align: middle;\n",
       "    }\n",
       "\n",
       "    .dataframe tbody tr th {\n",
       "        vertical-align: top;\n",
       "    }\n",
       "\n",
       "    .dataframe thead th {\n",
       "        text-align: right;\n",
       "    }\n",
       "</style>\n",
       "<table border=\"1\" class=\"dataframe\">\n",
       "  <thead>\n",
       "    <tr style=\"text-align: right;\">\n",
       "      <th></th>\n",
       "      <th>country_code</th>\n",
       "      <th>quantity</th>\n",
       "      <th>value</th>\n",
       "    </tr>\n",
       "  </thead>\n",
       "  <tbody>\n",
       "    <tr>\n",
       "      <th>count</th>\n",
       "      <td>20844.000000</td>\n",
       "      <td>1.006500e+04</td>\n",
       "      <td>20844.000000</td>\n",
       "    </tr>\n",
       "    <tr>\n",
       "      <th>mean</th>\n",
       "      <td>9053.099645</td>\n",
       "      <td>3.903794e+06</td>\n",
       "      <td>13.267463</td>\n",
       "    </tr>\n",
       "    <tr>\n",
       "      <th>std</th>\n",
       "      <td>4495.312603</td>\n",
       "      <td>7.484555e+07</td>\n",
       "      <td>136.903421</td>\n",
       "    </tr>\n",
       "    <tr>\n",
       "      <th>min</th>\n",
       "      <td>2.000000</td>\n",
       "      <td>0.000000e+00</td>\n",
       "      <td>0.000000</td>\n",
       "    </tr>\n",
       "    <tr>\n",
       "      <th>25%</th>\n",
       "      <td>4365.000000</td>\n",
       "      <td>1.360000e+02</td>\n",
       "      <td>0.024924</td>\n",
       "    </tr>\n",
       "    <tr>\n",
       "      <th>50%</th>\n",
       "      <td>10179.000000</td>\n",
       "      <td>5.175000e+03</td>\n",
       "      <td>0.299185</td>\n",
       "    </tr>\n",
       "    <tr>\n",
       "      <th>75%</th>\n",
       "      <td>13101.000000</td>\n",
       "      <td>1.690850e+05</td>\n",
       "      <td>2.788682</td>\n",
       "    </tr>\n",
       "    <tr>\n",
       "      <th>max</th>\n",
       "      <td>16409.000000</td>\n",
       "      <td>5.710303e+09</td>\n",
       "      <td>9599.857922</td>\n",
       "    </tr>\n",
       "  </tbody>\n",
       "</table>\n",
       "</div>"
      ],
      "text/plain": [
       "       country_code      quantity         value\n",
       "count  20844.000000  1.006500e+04  20844.000000\n",
       "mean    9053.099645  3.903794e+06     13.267463\n",
       "std     4495.312603  7.484555e+07    136.903421\n",
       "min        2.000000  0.000000e+00      0.000000\n",
       "25%     4365.000000  1.360000e+02      0.024924\n",
       "50%    10179.000000  5.175000e+03      0.299185\n",
       "75%    13101.000000  1.690850e+05      2.788682\n",
       "max    16409.000000  5.710303e+09   9599.857922"
      ]
     },
     "execution_count": 3,
     "metadata": {},
     "output_type": "execute_result"
    }
   ],
   "source": [
    "df.describe()"
   ]
  },
  {
   "cell_type": "code",
   "execution_count": 4,
   "metadata": {
    "colab": {
     "base_uri": "https://localhost:8080/"
    },
    "id": "Ry5rF3HSmSPA",
    "outputId": "4bb66307-4909-4747-bfb6-78e31cd0a6e4"
   },
   "outputs": [
    {
     "name": "stdout",
     "output_type": "stream",
     "text": [
      "<class 'pandas.core.frame.DataFrame'>\n",
      "RangeIndex: 20844 entries, 0 to 20843\n",
      "Data columns (total 7 columns):\n",
      " #   Column          Non-Null Count  Dtype  \n",
      "---  ------          --------------  -----  \n",
      " 0   pc_code         20844 non-null  object \n",
      " 1   pc_description  20844 non-null  object \n",
      " 2   unit            20844 non-null  object \n",
      " 3   country_code    20844 non-null  int64  \n",
      " 4   country_name    20844 non-null  object \n",
      " 5   quantity        10065 non-null  float64\n",
      " 6   value           20844 non-null  float64\n",
      "dtypes: float64(2), int64(1), object(4)\n",
      "memory usage: 1.1+ MB\n"
     ]
    }
   ],
   "source": [
    "#untuk mengetahui informasi dari setiap variabel \n",
    "df.info()"
   ]
  },
  {
   "cell_type": "markdown",
   "metadata": {
    "id": "DmIdgCGtmSPC"
   },
   "source": [
    "Memeriksa nilai yang null"
   ]
  },
  {
   "cell_type": "code",
   "execution_count": 5,
   "metadata": {
    "colab": {
     "base_uri": "https://localhost:8080/",
     "height": 77
    },
    "id": "_PkhCK9TmSPD",
    "outputId": "962160fe-0a56-41eb-cc0b-b2d9e5128df7"
   },
   "outputs": [
    {
     "data": {
      "text/html": [
       "<div>\n",
       "<style scoped>\n",
       "    .dataframe tbody tr th:only-of-type {\n",
       "        vertical-align: middle;\n",
       "    }\n",
       "\n",
       "    .dataframe tbody tr th {\n",
       "        vertical-align: top;\n",
       "    }\n",
       "\n",
       "    .dataframe thead th {\n",
       "        text-align: right;\n",
       "    }\n",
       "</style>\n",
       "<table border=\"1\" class=\"dataframe\">\n",
       "  <thead>\n",
       "    <tr style=\"text-align: right;\">\n",
       "      <th></th>\n",
       "      <th>Total</th>\n",
       "      <th>Missing Percent</th>\n",
       "    </tr>\n",
       "  </thead>\n",
       "  <tbody>\n",
       "    <tr>\n",
       "      <th>quantity</th>\n",
       "      <td>10779</td>\n",
       "      <td>51.712723</td>\n",
       "    </tr>\n",
       "  </tbody>\n",
       "</table>\n",
       "</div>"
      ],
      "text/plain": [
       "          Total  Missing Percent\n",
       "quantity  10779        51.712723"
      ]
     },
     "execution_count": 5,
     "metadata": {},
     "output_type": "execute_result"
    }
   ],
   "source": [
    "total = df.isnull().sum().sort_values(ascending=False)\n",
    "\n",
    "percent = (df.isnull().sum()/df.isnull().count())\\\n",
    ".sort_values(ascending=False)\n",
    "\n",
    "missing_data = pd.concat([total, percent], axis=1, \\\n",
    "                        keys=['Total', 'Missing Percent'])\n",
    "\n",
    "missing_data['Missing Percent'] = \\\n",
    "missing_data['Missing Percent'].apply(lambda x: x * 100)\n",
    "\n",
    "missing_data.loc[missing_data['Missing Percent'] > 10][:10]"
   ]
  },
  {
   "cell_type": "code",
   "execution_count": 6,
   "metadata": {
    "colab": {
     "base_uri": "https://localhost:8080/"
    },
    "id": "CBv9Qj_OmSPF",
    "outputId": "647ea080-7f28-4fae-c7fe-6ca5bab02677"
   },
   "outputs": [
    {
     "name": "stdout",
     "output_type": "stream",
     "text": [
      "(20844, 7)\n"
     ]
    }
   ],
   "source": [
    "print(df.shape)"
   ]
  },
  {
   "cell_type": "markdown",
   "metadata": {
    "id": "Qg4y7jw9mSPG"
   },
   "source": [
    "Analisis Variabel Secara Individual"
   ]
  },
  {
   "cell_type": "code",
   "execution_count": 7,
   "metadata": {
    "id": "biZgsxsjmSPH"
   },
   "outputs": [],
   "source": [
    "numerical_vars = ['country_code','quantity','value']\n",
    "categorical_vars = ['pc_code','pc_description','unit','country_name']"
   ]
  },
  {
   "cell_type": "code",
   "execution_count": 8,
   "metadata": {
    "id": "L-Vhu584mSPH"
   },
   "outputs": [],
   "source": [
    "df = df[numerical_vars+categorical_vars]"
   ]
  },
  {
   "cell_type": "code",
   "execution_count": 9,
   "metadata": {
    "colab": {
     "base_uri": "https://localhost:8080/"
    },
    "id": "O992yuWGmSPJ",
    "outputId": "f2b836cb-11e4-47f5-aa72-b6099dca272e"
   },
   "outputs": [
    {
     "name": "stdout",
     "output_type": "stream",
     "text": [
      "(20844, 7)\n"
     ]
    }
   ],
   "source": [
    "print(df.shape)"
   ]
  },
  {
   "cell_type": "markdown",
   "metadata": {
    "id": "CkLt6GfkmSPL"
   },
   "source": [
    "Memahami Variabel Numerical"
   ]
  },
  {
   "cell_type": "code",
   "execution_count": 12,
   "metadata": {
    "colab": {
     "base_uri": "https://localhost:8080/"
    },
    "id": "uOJPDhiGmSPN",
    "outputId": "ce281eb1-1f37-4ac3-91bd-1fb41aa09ac7"
   },
   "outputs": [
    {
     "data": {
      "text/plain": [
       "count    20844.000000\n",
       "mean      9053.099645\n",
       "std       4495.312603\n",
       "min          2.000000\n",
       "25%       4365.000000\n",
       "50%      10179.000000\n",
       "75%      13101.000000\n",
       "max      16409.000000\n",
       "Name: country_code, dtype: float64"
      ]
     },
     "execution_count": 12,
     "metadata": {},
     "output_type": "execute_result"
    }
   ],
   "source": [
    "df['country_code'].describe()"
   ]
  },
  {
   "cell_type": "code",
   "execution_count": 13,
   "metadata": {
    "colab": {
     "base_uri": "https://localhost:8080/"
    },
    "id": "lChDqUTgmSPP",
    "outputId": "0da7a7d2-769e-44f7-ce80-1cb7c3e9bd21",
    "scrolled": false
   },
   "outputs": [
    {
     "data": {
      "text/plain": [
       "count    1.006500e+04\n",
       "mean     3.903794e+06\n",
       "std      7.484555e+07\n",
       "min      0.000000e+00\n",
       "25%      1.360000e+02\n",
       "50%      5.175000e+03\n",
       "75%      1.690850e+05\n",
       "max      5.710303e+09\n",
       "Name: quantity, dtype: float64"
      ]
     },
     "execution_count": 13,
     "metadata": {},
     "output_type": "execute_result"
    }
   ],
   "source": [
    "df['quantity'].describe()"
   ]
  },
  {
   "cell_type": "code",
   "execution_count": 14,
   "metadata": {
    "colab": {
     "base_uri": "https://localhost:8080/"
    },
    "id": "E6E-FuCkmSPP",
    "outputId": "929cb574-4086-4fef-c6e9-d7da004e6c72",
    "scrolled": true
   },
   "outputs": [
    {
     "data": {
      "text/plain": [
       "count    20844.000000\n",
       "mean        13.267463\n",
       "std        136.903421\n",
       "min          0.000000\n",
       "25%          0.024924\n",
       "50%          0.299185\n",
       "75%          2.788682\n",
       "max       9599.857922\n",
       "Name: value, dtype: float64"
      ]
     },
     "execution_count": 14,
     "metadata": {},
     "output_type": "execute_result"
    }
   ],
   "source": [
    "df['value'].describe()"
   ]
  },
  {
   "cell_type": "code",
   "execution_count": 15,
   "metadata": {
    "colab": {
     "base_uri": "https://localhost:8080/",
     "height": 284
    },
    "id": "JseFeaRkmSPR",
    "outputId": "2513ad64-d9ad-49f2-aad5-2c2cf2763c9e"
   },
   "outputs": [
    {
     "data": {
      "text/html": [
       "<div>\n",
       "<style scoped>\n",
       "    .dataframe tbody tr th:only-of-type {\n",
       "        vertical-align: middle;\n",
       "    }\n",
       "\n",
       "    .dataframe tbody tr th {\n",
       "        vertical-align: top;\n",
       "    }\n",
       "\n",
       "    .dataframe thead th {\n",
       "        text-align: right;\n",
       "    }\n",
       "</style>\n",
       "<table border=\"1\" class=\"dataframe\">\n",
       "  <thead>\n",
       "    <tr style=\"text-align: right;\">\n",
       "      <th></th>\n",
       "      <th>country_code</th>\n",
       "      <th>quantity</th>\n",
       "      <th>value</th>\n",
       "    </tr>\n",
       "  </thead>\n",
       "  <tbody>\n",
       "    <tr>\n",
       "      <th>count</th>\n",
       "      <td>20844.000000</td>\n",
       "      <td>1.006500e+04</td>\n",
       "      <td>20844.000000</td>\n",
       "    </tr>\n",
       "    <tr>\n",
       "      <th>mean</th>\n",
       "      <td>9053.099645</td>\n",
       "      <td>3.903794e+06</td>\n",
       "      <td>13.267463</td>\n",
       "    </tr>\n",
       "    <tr>\n",
       "      <th>std</th>\n",
       "      <td>4495.312603</td>\n",
       "      <td>7.484555e+07</td>\n",
       "      <td>136.903421</td>\n",
       "    </tr>\n",
       "    <tr>\n",
       "      <th>min</th>\n",
       "      <td>2.000000</td>\n",
       "      <td>0.000000e+00</td>\n",
       "      <td>0.000000</td>\n",
       "    </tr>\n",
       "    <tr>\n",
       "      <th>25%</th>\n",
       "      <td>4365.000000</td>\n",
       "      <td>1.360000e+02</td>\n",
       "      <td>0.024924</td>\n",
       "    </tr>\n",
       "    <tr>\n",
       "      <th>50%</th>\n",
       "      <td>10179.000000</td>\n",
       "      <td>5.175000e+03</td>\n",
       "      <td>0.299185</td>\n",
       "    </tr>\n",
       "    <tr>\n",
       "      <th>75%</th>\n",
       "      <td>13101.000000</td>\n",
       "      <td>1.690850e+05</td>\n",
       "      <td>2.788682</td>\n",
       "    </tr>\n",
       "    <tr>\n",
       "      <th>max</th>\n",
       "      <td>16409.000000</td>\n",
       "      <td>5.710303e+09</td>\n",
       "      <td>9599.857922</td>\n",
       "    </tr>\n",
       "  </tbody>\n",
       "</table>\n",
       "</div>"
      ],
      "text/plain": [
       "       country_code      quantity         value\n",
       "count  20844.000000  1.006500e+04  20844.000000\n",
       "mean    9053.099645  3.903794e+06     13.267463\n",
       "std     4495.312603  7.484555e+07    136.903421\n",
       "min        2.000000  0.000000e+00      0.000000\n",
       "25%     4365.000000  1.360000e+02      0.024924\n",
       "50%    10179.000000  5.175000e+03      0.299185\n",
       "75%    13101.000000  1.690850e+05      2.788682\n",
       "max    16409.000000  5.710303e+09   9599.857922"
      ]
     },
     "execution_count": 15,
     "metadata": {},
     "output_type": "execute_result"
    }
   ],
   "source": [
    "df[numerical_vars].describe()"
   ]
  },
  {
   "cell_type": "markdown",
   "metadata": {
    "id": "mWJ7_lxxmSPS"
   },
   "source": [
    "Memahami Variabel Categorical"
   ]
  },
  {
   "cell_type": "code",
   "execution_count": 16,
   "metadata": {
    "colab": {
     "base_uri": "https://localhost:8080/"
    },
    "id": "gyXvNvM5mSPM",
    "outputId": "f9229d73-c4d7-4708-9e30-1ddc1fce576e"
   },
   "outputs": [
    {
     "data": {
      "text/plain": [
       "count     20844\n",
       "unique      168\n",
       "top          99\n",
       "freq        209\n",
       "Name: pc_code, dtype: object"
      ]
     },
     "execution_count": 16,
     "metadata": {},
     "output_type": "execute_result"
    }
   ],
   "source": [
    "df['pc_code'].describe()"
   ]
  },
  {
   "cell_type": "code",
   "execution_count": 17,
   "metadata": {
    "colab": {
     "base_uri": "https://localhost:8080/"
    },
    "id": "tjVMtS7cmSPS",
    "outputId": "5903308a-4eb5-4741-e994-5f39f0434e51"
   },
   "outputs": [
    {
     "data": {
      "text/plain": [
       "count                              20844\n",
       "unique                               168\n",
       "top       Drug Formulations, Biologicals\n",
       "freq                                 209\n",
       "Name: pc_description, dtype: object"
      ]
     },
     "execution_count": 17,
     "metadata": {},
     "output_type": "execute_result"
    }
   ],
   "source": [
    "df['pc_description'].describe()"
   ]
  },
  {
   "cell_type": "code",
   "execution_count": 18,
   "metadata": {
    "colab": {
     "base_uri": "https://localhost:8080/"
    },
    "id": "iJCPpVAMmSPZ",
    "outputId": "5665a730-f347-4365-8217-de785eaa8e88"
   },
   "outputs": [
    {
     "data": {
      "text/plain": [
       "count     20844\n",
       "unique        6\n",
       "top          Na\n",
       "freq      10779\n",
       "Name: unit, dtype: object"
      ]
     },
     "execution_count": 18,
     "metadata": {},
     "output_type": "execute_result"
    }
   ],
   "source": [
    "df['unit'].describe()"
   ]
  },
  {
   "cell_type": "code",
   "execution_count": 19,
   "metadata": {
    "colab": {
     "base_uri": "https://localhost:8080/"
    },
    "id": "4EqSqJ0WmSPa",
    "outputId": "7029bc72-ed05-450e-9965-55fa40860243"
   },
   "outputs": [
    {
     "data": {
      "text/plain": [
       "count     20844\n",
       "unique      233\n",
       "top       U S A\n",
       "freq        161\n",
       "Name: country_name, dtype: object"
      ]
     },
     "execution_count": 19,
     "metadata": {},
     "output_type": "execute_result"
    }
   ],
   "source": [
    "df['country_name'].describe()"
   ]
  },
  {
   "cell_type": "code",
   "execution_count": 20,
   "metadata": {
    "colab": {
     "base_uri": "https://localhost:8080/",
     "height": 166
    },
    "id": "DmvBlMR5mSPb",
    "outputId": "6e810bdb-dbd8-4f92-b491-914c916f5c45"
   },
   "outputs": [
    {
     "data": {
      "text/html": [
       "<div>\n",
       "<style scoped>\n",
       "    .dataframe tbody tr th:only-of-type {\n",
       "        vertical-align: middle;\n",
       "    }\n",
       "\n",
       "    .dataframe tbody tr th {\n",
       "        vertical-align: top;\n",
       "    }\n",
       "\n",
       "    .dataframe thead th {\n",
       "        text-align: right;\n",
       "    }\n",
       "</style>\n",
       "<table border=\"1\" class=\"dataframe\">\n",
       "  <thead>\n",
       "    <tr style=\"text-align: right;\">\n",
       "      <th></th>\n",
       "      <th>pc_code</th>\n",
       "      <th>pc_description</th>\n",
       "      <th>unit</th>\n",
       "      <th>country_name</th>\n",
       "    </tr>\n",
       "  </thead>\n",
       "  <tbody>\n",
       "    <tr>\n",
       "      <th>count</th>\n",
       "      <td>20844</td>\n",
       "      <td>20844</td>\n",
       "      <td>20844</td>\n",
       "      <td>20844</td>\n",
       "    </tr>\n",
       "    <tr>\n",
       "      <th>unique</th>\n",
       "      <td>168</td>\n",
       "      <td>168</td>\n",
       "      <td>6</td>\n",
       "      <td>233</td>\n",
       "    </tr>\n",
       "    <tr>\n",
       "      <th>top</th>\n",
       "      <td>99</td>\n",
       "      <td>Drug Formulations, Biologicals</td>\n",
       "      <td>Na</td>\n",
       "      <td>U S A</td>\n",
       "    </tr>\n",
       "    <tr>\n",
       "      <th>freq</th>\n",
       "      <td>209</td>\n",
       "      <td>209</td>\n",
       "      <td>10779</td>\n",
       "      <td>161</td>\n",
       "    </tr>\n",
       "  </tbody>\n",
       "</table>\n",
       "</div>"
      ],
      "text/plain": [
       "       pc_code                  pc_description   unit country_name\n",
       "count    20844                           20844  20844        20844\n",
       "unique     168                             168      6          233\n",
       "top         99  Drug Formulations, Biologicals     Na        U S A\n",
       "freq       209                             209  10779          161"
      ]
     },
     "execution_count": 20,
     "metadata": {},
     "output_type": "execute_result"
    }
   ],
   "source": [
    "df[categorical_vars].describe()"
   ]
  },
  {
   "cell_type": "markdown",
   "metadata": {
    "id": "0QwcUl5SmSPc"
   },
   "source": [
    "Data Cleaning"
   ]
  },
  {
   "cell_type": "markdown",
   "metadata": {
    "id": "_sSZwlCGmSPd"
   },
   "source": [
    "Metode yang digunakan untuk menangani nilai yang null atau NaN yaitu dengan menggunakan Fill Forward yaitu digunakan untuk mengisi maju, dimana nilai terakhir yang diketahui yang akan digunakan untuk menggati nilai yang null"
   ]
  },
  {
   "cell_type": "code",
   "execution_count": 271,
   "metadata": {
    "id": "gFmkkz0g368g"
   },
   "outputs": [],
   "source": [
    "df = pd.read_csv(\"PC_Export_2016_2017.csv\")"
   ]
  },
  {
   "cell_type": "code",
   "execution_count": 272,
   "metadata": {
    "colab": {
     "base_uri": "https://localhost:8080/",
     "height": 195
    },
    "id": "cFBfo0LY5Wut",
    "outputId": "084700d2-562f-4515-fcc3-a9a0ce1cc561"
   },
   "outputs": [
    {
     "data": {
      "text/html": [
       "<div>\n",
       "<style scoped>\n",
       "    .dataframe tbody tr th:only-of-type {\n",
       "        vertical-align: middle;\n",
       "    }\n",
       "\n",
       "    .dataframe tbody tr th {\n",
       "        vertical-align: top;\n",
       "    }\n",
       "\n",
       "    .dataframe thead th {\n",
       "        text-align: right;\n",
       "    }\n",
       "</style>\n",
       "<table border=\"1\" class=\"dataframe\">\n",
       "  <thead>\n",
       "    <tr style=\"text-align: right;\">\n",
       "      <th></th>\n",
       "      <th>pc_code</th>\n",
       "      <th>pc_description</th>\n",
       "      <th>unit</th>\n",
       "      <th>country_code</th>\n",
       "      <th>country_name</th>\n",
       "      <th>quantity</th>\n",
       "      <th>value</th>\n",
       "    </tr>\n",
       "  </thead>\n",
       "  <tbody>\n",
       "    <tr>\n",
       "      <th>0</th>\n",
       "      <td>99</td>\n",
       "      <td>Other Commodities</td>\n",
       "      <td>Na</td>\n",
       "      <td>599</td>\n",
       "      <td>Unspecified</td>\n",
       "      <td>NaN</td>\n",
       "      <td>270.889542</td>\n",
       "    </tr>\n",
       "    <tr>\n",
       "      <th>1</th>\n",
       "      <td>99</td>\n",
       "      <td>Other Commodities</td>\n",
       "      <td>Na</td>\n",
       "      <td>1213</td>\n",
       "      <td>Kenya</td>\n",
       "      <td>NaN</td>\n",
       "      <td>17.159452</td>\n",
       "    </tr>\n",
       "    <tr>\n",
       "      <th>2</th>\n",
       "      <td>99</td>\n",
       "      <td>Other Commodities</td>\n",
       "      <td>Na</td>\n",
       "      <td>1395</td>\n",
       "      <td>Tanzania Rep</td>\n",
       "      <td>NaN</td>\n",
       "      <td>8.896539</td>\n",
       "    </tr>\n",
       "    <tr>\n",
       "      <th>3</th>\n",
       "      <td>99</td>\n",
       "      <td>Other Commodities</td>\n",
       "      <td>Na</td>\n",
       "      <td>1417</td>\n",
       "      <td>Uganda</td>\n",
       "      <td>NaN</td>\n",
       "      <td>5.181412</td>\n",
       "    </tr>\n",
       "    <tr>\n",
       "      <th>4</th>\n",
       "      <td>99</td>\n",
       "      <td>Other Commodities</td>\n",
       "      <td>Na</td>\n",
       "      <td>2035</td>\n",
       "      <td>Benin</td>\n",
       "      <td>NaN</td>\n",
       "      <td>2.476015</td>\n",
       "    </tr>\n",
       "  </tbody>\n",
       "</table>\n",
       "</div>"
      ],
      "text/plain": [
       "  pc_code     pc_description unit  country_code  country_name  quantity  \\\n",
       "0      99  Other Commodities   Na           599   Unspecified       NaN   \n",
       "1      99  Other Commodities   Na          1213         Kenya       NaN   \n",
       "2      99  Other Commodities   Na          1395  Tanzania Rep       NaN   \n",
       "3      99  Other Commodities   Na          1417        Uganda       NaN   \n",
       "4      99  Other Commodities   Na          2035         Benin       NaN   \n",
       "\n",
       "        value  \n",
       "0  270.889542  \n",
       "1   17.159452  \n",
       "2    8.896539  \n",
       "3    5.181412  \n",
       "4    2.476015  "
      ]
     },
     "execution_count": 272,
     "metadata": {},
     "output_type": "execute_result"
    }
   ],
   "source": [
    "df.head()"
   ]
  },
  {
   "cell_type": "code",
   "execution_count": 273,
   "metadata": {
    "id": "9Jph0Tg1sfTD"
   },
   "outputs": [],
   "source": [
    "dc = df.fillna(df.mean())"
   ]
  },
  {
   "cell_type": "code",
   "execution_count": 274,
   "metadata": {
    "colab": {
     "base_uri": "https://localhost:8080/",
     "height": 195
    },
    "id": "MfosADlAw2-N",
    "outputId": "e6f5545d-65bc-41ba-ffb2-0d773ce21694"
   },
   "outputs": [
    {
     "data": {
      "text/html": [
       "<div>\n",
       "<style scoped>\n",
       "    .dataframe tbody tr th:only-of-type {\n",
       "        vertical-align: middle;\n",
       "    }\n",
       "\n",
       "    .dataframe tbody tr th {\n",
       "        vertical-align: top;\n",
       "    }\n",
       "\n",
       "    .dataframe thead th {\n",
       "        text-align: right;\n",
       "    }\n",
       "</style>\n",
       "<table border=\"1\" class=\"dataframe\">\n",
       "  <thead>\n",
       "    <tr style=\"text-align: right;\">\n",
       "      <th></th>\n",
       "      <th>pc_code</th>\n",
       "      <th>pc_description</th>\n",
       "      <th>unit</th>\n",
       "      <th>country_code</th>\n",
       "      <th>country_name</th>\n",
       "      <th>quantity</th>\n",
       "      <th>value</th>\n",
       "    </tr>\n",
       "  </thead>\n",
       "  <tbody>\n",
       "    <tr>\n",
       "      <th>0</th>\n",
       "      <td>99</td>\n",
       "      <td>Other Commodities</td>\n",
       "      <td>Na</td>\n",
       "      <td>599</td>\n",
       "      <td>Unspecified</td>\n",
       "      <td>3.903794e+06</td>\n",
       "      <td>270.889542</td>\n",
       "    </tr>\n",
       "    <tr>\n",
       "      <th>1</th>\n",
       "      <td>99</td>\n",
       "      <td>Other Commodities</td>\n",
       "      <td>Na</td>\n",
       "      <td>1213</td>\n",
       "      <td>Kenya</td>\n",
       "      <td>3.903794e+06</td>\n",
       "      <td>17.159452</td>\n",
       "    </tr>\n",
       "    <tr>\n",
       "      <th>2</th>\n",
       "      <td>99</td>\n",
       "      <td>Other Commodities</td>\n",
       "      <td>Na</td>\n",
       "      <td>1395</td>\n",
       "      <td>Tanzania Rep</td>\n",
       "      <td>3.903794e+06</td>\n",
       "      <td>8.896539</td>\n",
       "    </tr>\n",
       "    <tr>\n",
       "      <th>3</th>\n",
       "      <td>99</td>\n",
       "      <td>Other Commodities</td>\n",
       "      <td>Na</td>\n",
       "      <td>1417</td>\n",
       "      <td>Uganda</td>\n",
       "      <td>3.903794e+06</td>\n",
       "      <td>5.181412</td>\n",
       "    </tr>\n",
       "    <tr>\n",
       "      <th>4</th>\n",
       "      <td>99</td>\n",
       "      <td>Other Commodities</td>\n",
       "      <td>Na</td>\n",
       "      <td>2035</td>\n",
       "      <td>Benin</td>\n",
       "      <td>3.903794e+06</td>\n",
       "      <td>2.476015</td>\n",
       "    </tr>\n",
       "  </tbody>\n",
       "</table>\n",
       "</div>"
      ],
      "text/plain": [
       "  pc_code     pc_description unit  country_code  country_name      quantity  \\\n",
       "0      99  Other Commodities   Na           599   Unspecified  3.903794e+06   \n",
       "1      99  Other Commodities   Na          1213         Kenya  3.903794e+06   \n",
       "2      99  Other Commodities   Na          1395  Tanzania Rep  3.903794e+06   \n",
       "3      99  Other Commodities   Na          1417        Uganda  3.903794e+06   \n",
       "4      99  Other Commodities   Na          2035         Benin  3.903794e+06   \n",
       "\n",
       "        value  \n",
       "0  270.889542  \n",
       "1   17.159452  \n",
       "2    8.896539  \n",
       "3    5.181412  \n",
       "4    2.476015  "
      ]
     },
     "execution_count": 274,
     "metadata": {},
     "output_type": "execute_result"
    }
   ],
   "source": [
    "dc.head()"
   ]
  },
  {
   "cell_type": "code",
   "execution_count": 276,
   "metadata": {
    "colab": {
     "base_uri": "https://localhost:8080/",
     "height": 195
    },
    "id": "0GiMAJ717I91",
    "outputId": "a32097c8-9f0a-4803-efbc-66d24bcfbc12"
   },
   "outputs": [
    {
     "data": {
      "text/html": [
       "<div>\n",
       "<style scoped>\n",
       "    .dataframe tbody tr th:only-of-type {\n",
       "        vertical-align: middle;\n",
       "    }\n",
       "\n",
       "    .dataframe tbody tr th {\n",
       "        vertical-align: top;\n",
       "    }\n",
       "\n",
       "    .dataframe thead th {\n",
       "        text-align: right;\n",
       "    }\n",
       "</style>\n",
       "<table border=\"1\" class=\"dataframe\">\n",
       "  <thead>\n",
       "    <tr style=\"text-align: right;\">\n",
       "      <th></th>\n",
       "      <th>pc_code</th>\n",
       "      <th>pc_description</th>\n",
       "      <th>unit</th>\n",
       "      <th>country_code</th>\n",
       "      <th>country_name</th>\n",
       "      <th>quantity</th>\n",
       "      <th>value</th>\n",
       "    </tr>\n",
       "  </thead>\n",
       "  <tbody>\n",
       "    <tr>\n",
       "      <th>0</th>\n",
       "      <td>99</td>\n",
       "      <td>Other Commodities</td>\n",
       "      <td>Na</td>\n",
       "      <td>599</td>\n",
       "      <td>Unspecified</td>\n",
       "      <td>3903794</td>\n",
       "      <td>270</td>\n",
       "    </tr>\n",
       "    <tr>\n",
       "      <th>1</th>\n",
       "      <td>99</td>\n",
       "      <td>Other Commodities</td>\n",
       "      <td>Na</td>\n",
       "      <td>1213</td>\n",
       "      <td>Kenya</td>\n",
       "      <td>3903794</td>\n",
       "      <td>17</td>\n",
       "    </tr>\n",
       "    <tr>\n",
       "      <th>2</th>\n",
       "      <td>99</td>\n",
       "      <td>Other Commodities</td>\n",
       "      <td>Na</td>\n",
       "      <td>1395</td>\n",
       "      <td>Tanzania Rep</td>\n",
       "      <td>3903794</td>\n",
       "      <td>8</td>\n",
       "    </tr>\n",
       "    <tr>\n",
       "      <th>3</th>\n",
       "      <td>99</td>\n",
       "      <td>Other Commodities</td>\n",
       "      <td>Na</td>\n",
       "      <td>1417</td>\n",
       "      <td>Uganda</td>\n",
       "      <td>3903794</td>\n",
       "      <td>5</td>\n",
       "    </tr>\n",
       "    <tr>\n",
       "      <th>4</th>\n",
       "      <td>99</td>\n",
       "      <td>Other Commodities</td>\n",
       "      <td>Na</td>\n",
       "      <td>2035</td>\n",
       "      <td>Benin</td>\n",
       "      <td>3903794</td>\n",
       "      <td>2</td>\n",
       "    </tr>\n",
       "  </tbody>\n",
       "</table>\n",
       "</div>"
      ],
      "text/plain": [
       "  pc_code     pc_description unit  country_code  country_name  quantity  value\n",
       "0      99  Other Commodities   Na           599   Unspecified   3903794    270\n",
       "1      99  Other Commodities   Na          1213         Kenya   3903794     17\n",
       "2      99  Other Commodities   Na          1395  Tanzania Rep   3903794      8\n",
       "3      99  Other Commodities   Na          1417        Uganda   3903794      5\n",
       "4      99  Other Commodities   Na          2035         Benin   3903794      2"
      ]
     },
     "execution_count": 276,
     "metadata": {},
     "output_type": "execute_result"
    }
   ],
   "source": [
    "dc['quantity'] = dc['quantity'].astype(int)\n",
    "dc['value'] = dc['value'].astype(int)\n",
    "dc.head()"
   ]
  },
  {
   "cell_type": "code",
   "execution_count": 277,
   "metadata": {
    "colab": {
     "base_uri": "https://localhost:8080/"
    },
    "id": "b46-crUxvfHA",
    "outputId": "4368fc37-796c-4c84-ff13-15f5da641c37"
   },
   "outputs": [
    {
     "name": "stdout",
     "output_type": "stream",
     "text": [
      "(20844, 7)\n"
     ]
    }
   ],
   "source": [
    "print(dc.shape)"
   ]
  },
  {
   "cell_type": "markdown",
   "metadata": {
    "id": "GFG2PEZ39_ya"
   },
   "source": [
    "Check Nilai Null setelah dilakukan data cleaning"
   ]
  },
  {
   "cell_type": "code",
   "execution_count": 278,
   "metadata": {
    "colab": {
     "base_uri": "https://localhost:8080/"
    },
    "id": "wnXkNKoEv0Le",
    "outputId": "a588a72f-50e4-4931-f78d-409de5ee5fb1"
   },
   "outputs": [
    {
     "data": {
      "text/plain": [
       "pc_code           0\n",
       "pc_description    0\n",
       "unit              0\n",
       "country_code      0\n",
       "country_name      0\n",
       "quantity          0\n",
       "value             0\n",
       "dtype: int64"
      ]
     },
     "execution_count": 278,
     "metadata": {},
     "output_type": "execute_result"
    }
   ],
   "source": [
    "dc.isnull().sum()"
   ]
  },
  {
   "cell_type": "code",
   "execution_count": 279,
   "metadata": {},
   "outputs": [
    {
     "data": {
      "text/html": [
       "<div>\n",
       "<style scoped>\n",
       "    .dataframe tbody tr th:only-of-type {\n",
       "        vertical-align: middle;\n",
       "    }\n",
       "\n",
       "    .dataframe tbody tr th {\n",
       "        vertical-align: top;\n",
       "    }\n",
       "\n",
       "    .dataframe thead th {\n",
       "        text-align: right;\n",
       "    }\n",
       "</style>\n",
       "<table border=\"1\" class=\"dataframe\">\n",
       "  <thead>\n",
       "    <tr style=\"text-align: right;\">\n",
       "      <th></th>\n",
       "      <th>Total</th>\n",
       "      <th>Missing Percent</th>\n",
       "    </tr>\n",
       "  </thead>\n",
       "  <tbody>\n",
       "  </tbody>\n",
       "</table>\n",
       "</div>"
      ],
      "text/plain": [
       "Empty DataFrame\n",
       "Columns: [Total, Missing Percent]\n",
       "Index: []"
      ]
     },
     "execution_count": 279,
     "metadata": {},
     "output_type": "execute_result"
    }
   ],
   "source": [
    "total = dc.isnull().sum().sort_values(ascending=False)\n",
    "\n",
    "percent = (dc.isnull().sum()/dc.isnull().count())\\\n",
    ".sort_values(ascending=False)\n",
    "\n",
    "missing_data = pd.concat([total, percent], axis=1, \\\n",
    "                        keys=['Total', 'Missing Percent'])\n",
    "\n",
    "missing_data['Missing Percent'] = \\\n",
    "missing_data['Missing Percent'].apply(lambda x: x * 100)\n",
    "\n",
    "missing_data.loc[missing_data['Missing Percent'] > 10][:10]"
   ]
  },
  {
   "cell_type": "markdown",
   "metadata": {},
   "source": [
    "Mengubah nilai attibut yang bernilai negatif menjadi nol."
   ]
  },
  {
   "cell_type": "code",
   "execution_count": 280,
   "metadata": {},
   "outputs": [],
   "source": [
    "dc['quantity'] = dc['quantity'].apply(lambda x : x if x > 0 else 0)"
   ]
  },
  {
   "cell_type": "code",
   "execution_count": 281,
   "metadata": {
    "scrolled": true
   },
   "outputs": [
    {
     "data": {
      "text/plain": [
       "pc_code               0\n",
       "pc_description        0\n",
       "unit                  0\n",
       "country_code          0\n",
       "country_name          0\n",
       "quantity            517\n",
       "value             13277\n",
       "dtype: int64"
      ]
     },
     "execution_count": 281,
     "metadata": {},
     "output_type": "execute_result"
    }
   ],
   "source": [
    "(dc == 0).astype(int).sum(axis=0)"
   ]
  },
  {
   "cell_type": "code",
   "execution_count": 282,
   "metadata": {},
   "outputs": [
    {
     "data": {
      "text/plain": [
       "count    2.084400e+04\n",
       "mean     3.449267e+06\n",
       "std      2.154227e+07\n",
       "min      0.000000e+00\n",
       "25%      6.826500e+03\n",
       "50%      3.903794e+06\n",
       "75%      3.903794e+06\n",
       "max      1.581681e+09\n",
       "Name: quantity, dtype: float64"
      ]
     },
     "execution_count": 282,
     "metadata": {},
     "output_type": "execute_result"
    }
   ],
   "source": [
    "dc['quantity'].describe()"
   ]
  },
  {
   "cell_type": "code",
   "execution_count": 283,
   "metadata": {},
   "outputs": [],
   "source": [
    "dc['quantity'] = dc['quantity'].apply(lambda x: random.uniform(1, 5) if x == 0 else x)"
   ]
  },
  {
   "cell_type": "code",
   "execution_count": 284,
   "metadata": {},
   "outputs": [],
   "source": [
    "dc['value'] = dc['value'].apply(lambda x: random.uniform(1, 5) if x == 0 else x)"
   ]
  },
  {
   "cell_type": "code",
   "execution_count": 305,
   "metadata": {},
   "outputs": [
    {
     "data": {
      "text/plain": [
       "pc_code           0\n",
       "pc_description    0\n",
       "unit              0\n",
       "country_code      0\n",
       "country_name      0\n",
       "quantity          0\n",
       "value             0\n",
       "dtype: int64"
      ]
     },
     "execution_count": 305,
     "metadata": {},
     "output_type": "execute_result"
    }
   ],
   "source": [
    "(dc == 0).astype(int).sum(axis=0)"
   ]
  },
  {
   "cell_type": "markdown",
   "metadata": {},
   "source": [
    "Memilih dua variabel dari data - \"Quantity\" dan \"Value\", dan visualisasikan poin datanya."
   ]
  },
  {
   "cell_type": "code",
   "execution_count": 306,
   "metadata": {},
   "outputs": [
    {
     "data": {
      "image/png": "[encoded data removed]",
      "text/plain": [
       "<Figure size 864x432 with 1 Axes>"
      ]
     },
     "metadata": {
      "needs_background": "light"
     },
     "output_type": "display_data"
    }
   ],
   "source": [
    "X = dc[[\"quantity\", \"value\"]]\n",
    "\n",
    "#Visualise data points\n",
    "plt.figure(figsize=(12,6))\n",
    "plt.scatter(X[\"quantity\"], X[\"value\"])\n",
    "plt.xlabel('Quantity')\n",
    "plt.ylabel('Value')\n",
    "plt.show()"
   ]
  },
  {
   "cell_type": "markdown",
   "metadata": {},
   "source": [
    "Memilih jumlah cluster (k) dan memilih centroid acak untuk setiap cluster. Kami memilih 2 cluster dan kemudian memilih observasi acak dari data sebagai centroid."
   ]
  },
  {
   "cell_type": "code",
   "execution_count": 307,
   "metadata": {},
   "outputs": [
    {
     "data": {
      "image/png": "[encoded data removed]",
      "text/plain": [
       "<Figure size 864x432 with 1 Axes>"
      ]
     },
     "metadata": {
      "needs_background": "light"
     },
     "output_type": "display_data"
    }
   ],
   "source": [
    "#number of clusters\n",
    "K=2\n",
    "\n",
    "#Select random observation as centroids\n",
    "Centroids = (X.sample(n=K))\n",
    "plt.figure(figsize=(12,6))\n",
    "plt.scatter(X[\"quantity\"], X[\"value\"])\n",
    "plt.scatter(Centroids[\"quantity\"], Centroids[\"value\"], c='red')\n",
    "plt.xlabel('Quantity')\n",
    "plt.ylabel('Value')\n",
    "plt.show()"
   ]
  },
  {
   "cell_type": "markdown",
   "metadata": {},
   "source": [
    "Nilai-nilai ini mungkin berbeda setiap kali kami menjalankan ini. Di sini, kami menghentikan pelatihan ketika sentroid tidak berubah setelah dua iterasi. Kami awalnya mendefinisikan diff sebagai 1 dan di dalam while loop, kami menghitung perbedaan ini sebagai perbedaan antara sentroid pada iterasi sebelumnya dan iterasi saat ini. Jika selisihnya adalah 0, kami menghentikan pelatihan."
   ]
  },
  {
   "cell_type": "code",
   "execution_count": 308,
   "metadata": {},
   "outputs": [
    {
     "name": "stderr",
     "output_type": "stream",
     "text": [
      "<ipython-input-308-1b41103d0a25>:13: SettingWithCopyWarning: \n",
      "A value is trying to be set on a copy of a slice from a DataFrame.\n",
      "Try using .loc[row_indexer,col_indexer] = value instead\n",
      "\n",
      "See the caveats in the documentation: https://pandas.pydata.org/pandas-docs/stable/user_guide/indexing.html#returning-a-view-versus-a-copy\n",
      "  X[i]=ED\n",
      "<ipython-input-308-1b41103d0a25>:25: SettingWithCopyWarning: \n",
      "A value is trying to be set on a copy of a slice from a DataFrame.\n",
      "Try using .loc[row_indexer,col_indexer] = value instead\n",
      "\n",
      "See the caveats in the documentation: https://pandas.pydata.org/pandas-docs/stable/user_guide/indexing.html#returning-a-view-versus-a-copy\n",
      "  X[\"Cluster\"]= C\n"
     ]
    },
    {
     "name": "stdout",
     "output_type": "stream",
     "text": [
      "0.0\n"
     ]
    }
   ],
   "source": [
    "diff = 1\n",
    "j=0\n",
    "while(diff!=0):\n",
    "    XD=X\n",
    "    i=1\n",
    "    for index1, row_c in Centroids.iterrows():\n",
    "        ED=[]\n",
    "        for index2, row_d in XD.iterrows():\n",
    "            d1=(row_c[\"quantity\"]-  row_d[\"quantity\"])**2\n",
    "            d2=(row_c[\"value\"]- row_d[\"value\"])**2\n",
    "            d=np.sqrt(d1+d2)\n",
    "            ED.append(d)\n",
    "        X[i]=ED\n",
    "        i=i+1\n",
    "        \n",
    "    C=[]\n",
    "    for index, row in X.iterrows():\n",
    "        min_dist=row[1]\n",
    "        pos=1\n",
    "        for i in range(K):\n",
    "            if row[i+1] < min_dist:\n",
    "                min_dist = row[i+1]\n",
    "                pos=i+1\n",
    "        C.append(pos)\n",
    "    X[\"Cluster\"]= C\n",
    "    Centroids_new = X.groupby([\"Cluster\"]).mean()[[\"value\",\"quantity\"]]\n",
    "    \n",
    "    if j==0:\n",
    "        diff=1\n",
    "        j=j+1\n",
    "    else:\n",
    "        diff = (Centroids_new['quantity'] - Centroids_new['quantity']).sum() + (Centroids_new['quantity'] - Centroids_new['quantity']).sum()\n",
    "        print(diff.sum())\n",
    "    Centroids = X.groupby([\"Cluster\"]).mean()[[\"quantity\",\"value\"]]"
   ]
  },
  {
   "cell_type": "code",
   "execution_count": 299,
   "metadata": {},
   "outputs": [
    {
     "data": {
      "image/png": "[encoded data removed]",
      "text/plain": [
       "<Figure size 864x432 with 1 Axes>"
      ]
     },
     "metadata": {
      "needs_background": "light"
     },
     "output_type": "display_data"
    }
   ],
   "source": [
    "color=['#ff3333', '#333bff']\n",
    "plt.figure(figsize=(12,6))\n",
    "\n",
    "for k in range(K):\n",
    "    data=X[X[\"Cluster\"]==k+1]\n",
    "    plt.scatter(data[\"quantity\"], data[\"value\"], c=color[k])\n",
    "plt.scatter(Centroids[\"quantity\"], Centroids[\"value\"], c='red')\n",
    "plt.xlabel('Quantity')\n",
    "plt.ylabel('Value')\n",
    "plt.show()"
   ]
  },
  {
   "cell_type": "code",
   "execution_count": 309,
   "metadata": {},
   "outputs": [
    {
     "data": {
      "text/html": [
       "<div>\n",
       "<style scoped>\n",
       "    .dataframe tbody tr th:only-of-type {\n",
       "        vertical-align: middle;\n",
       "    }\n",
       "\n",
       "    .dataframe tbody tr th {\n",
       "        vertical-align: top;\n",
       "    }\n",
       "\n",
       "    .dataframe thead th {\n",
       "        text-align: right;\n",
       "    }\n",
       "</style>\n",
       "<table border=\"1\" class=\"dataframe\">\n",
       "  <thead>\n",
       "    <tr style=\"text-align: right;\">\n",
       "      <th></th>\n",
       "      <th>pc_code</th>\n",
       "      <th>pc_description</th>\n",
       "      <th>unit</th>\n",
       "      <th>country_code</th>\n",
       "      <th>country_name</th>\n",
       "      <th>quantity</th>\n",
       "      <th>value</th>\n",
       "    </tr>\n",
       "  </thead>\n",
       "  <tbody>\n",
       "    <tr>\n",
       "      <th>0</th>\n",
       "      <td>99</td>\n",
       "      <td>Other Commodities</td>\n",
       "      <td>Na</td>\n",
       "      <td>599</td>\n",
       "      <td>Unspecified</td>\n",
       "      <td>3903794.0</td>\n",
       "      <td>270.0</td>\n",
       "    </tr>\n",
       "    <tr>\n",
       "      <th>1</th>\n",
       "      <td>99</td>\n",
       "      <td>Other Commodities</td>\n",
       "      <td>Na</td>\n",
       "      <td>1213</td>\n",
       "      <td>Kenya</td>\n",
       "      <td>3903794.0</td>\n",
       "      <td>17.0</td>\n",
       "    </tr>\n",
       "    <tr>\n",
       "      <th>2</th>\n",
       "      <td>99</td>\n",
       "      <td>Other Commodities</td>\n",
       "      <td>Na</td>\n",
       "      <td>1395</td>\n",
       "      <td>Tanzania Rep</td>\n",
       "      <td>3903794.0</td>\n",
       "      <td>8.0</td>\n",
       "    </tr>\n",
       "    <tr>\n",
       "      <th>3</th>\n",
       "      <td>99</td>\n",
       "      <td>Other Commodities</td>\n",
       "      <td>Na</td>\n",
       "      <td>1417</td>\n",
       "      <td>Uganda</td>\n",
       "      <td>3903794.0</td>\n",
       "      <td>5.0</td>\n",
       "    </tr>\n",
       "    <tr>\n",
       "      <th>4</th>\n",
       "      <td>99</td>\n",
       "      <td>Other Commodities</td>\n",
       "      <td>Na</td>\n",
       "      <td>2035</td>\n",
       "      <td>Benin</td>\n",
       "      <td>3903794.0</td>\n",
       "      <td>2.0</td>\n",
       "    </tr>\n",
       "  </tbody>\n",
       "</table>\n",
       "</div>"
      ],
      "text/plain": [
       "  pc_code     pc_description unit  country_code  country_name   quantity  \\\n",
       "0      99  Other Commodities   Na           599   Unspecified  3903794.0   \n",
       "1      99  Other Commodities   Na          1213         Kenya  3903794.0   \n",
       "2      99  Other Commodities   Na          1395  Tanzania Rep  3903794.0   \n",
       "3      99  Other Commodities   Na          1417        Uganda  3903794.0   \n",
       "4      99  Other Commodities   Na          2035         Benin  3903794.0   \n",
       "\n",
       "   value  \n",
       "0  270.0  \n",
       "1   17.0  \n",
       "2    8.0  \n",
       "3    5.0  \n",
       "4    2.0  "
      ]
     },
     "execution_count": 309,
     "metadata": {},
     "output_type": "execute_result"
    }
   ],
   "source": [
    "# reading the data and looking at the first five rows of the data\n",
    "dc.head()"
   ]
  },
  {
   "cell_type": "code",
   "execution_count": 310,
   "metadata": {},
   "outputs": [
    {
     "data": {
      "text/html": [
       "<div>\n",
       "<style scoped>\n",
       "    .dataframe tbody tr th:only-of-type {\n",
       "        vertical-align: middle;\n",
       "    }\n",
       "\n",
       "    .dataframe tbody tr th {\n",
       "        vertical-align: top;\n",
       "    }\n",
       "\n",
       "    .dataframe thead th {\n",
       "        text-align: right;\n",
       "    }\n",
       "</style>\n",
       "<table border=\"1\" class=\"dataframe\">\n",
       "  <thead>\n",
       "    <tr style=\"text-align: right;\">\n",
       "      <th></th>\n",
       "      <th>quantity</th>\n",
       "      <th>value</th>\n",
       "    </tr>\n",
       "  </thead>\n",
       "  <tbody>\n",
       "    <tr>\n",
       "      <th>count</th>\n",
       "      <td>9.287000e+03</td>\n",
       "      <td>9287.000000</td>\n",
       "    </tr>\n",
       "    <tr>\n",
       "      <th>mean</th>\n",
       "      <td>1.796218e+05</td>\n",
       "      <td>11.052228</td>\n",
       "    </tr>\n",
       "    <tr>\n",
       "      <th>std</th>\n",
       "      <td>4.668411e+05</td>\n",
       "      <td>80.880449</td>\n",
       "    </tr>\n",
       "    <tr>\n",
       "      <th>min</th>\n",
       "      <td>1.000000e+00</td>\n",
       "      <td>1.000000</td>\n",
       "    </tr>\n",
       "    <tr>\n",
       "      <th>25%</th>\n",
       "      <td>1.000000e+02</td>\n",
       "      <td>1.939438</td>\n",
       "    </tr>\n",
       "    <tr>\n",
       "      <th>50%</th>\n",
       "      <td>2.828000e+03</td>\n",
       "      <td>3.063857</td>\n",
       "    </tr>\n",
       "    <tr>\n",
       "      <th>75%</th>\n",
       "      <td>7.604900e+04</td>\n",
       "      <td>4.397198</td>\n",
       "    </tr>\n",
       "    <tr>\n",
       "      <th>max</th>\n",
       "      <td>3.006542e+06</td>\n",
       "      <td>5352.000000</td>\n",
       "    </tr>\n",
       "  </tbody>\n",
       "</table>\n",
       "</div>"
      ],
      "text/plain": [
       "           quantity        value\n",
       "count  9.287000e+03  9287.000000\n",
       "mean   1.796218e+05    11.052228\n",
       "std    4.668411e+05    80.880449\n",
       "min    1.000000e+00     1.000000\n",
       "25%    1.000000e+02     1.939438\n",
       "50%    2.828000e+03     3.063857\n",
       "75%    7.604900e+04     4.397198\n",
       "max    3.006542e+06  5352.000000"
      ]
     },
     "execution_count": 310,
     "metadata": {},
     "output_type": "execute_result"
    }
   ],
   "source": [
    "sltd_data = data[[\"quantity\", \"value\"]]\n",
    "\n",
    "# statistics of the data\n",
    "sltd_data.describe()"
   ]
  },
  {
   "cell_type": "code",
   "execution_count": 311,
   "metadata": {},
   "outputs": [
    {
     "data": {
      "text/html": [
       "<div>\n",
       "<style scoped>\n",
       "    .dataframe tbody tr th:only-of-type {\n",
       "        vertical-align: middle;\n",
       "    }\n",
       "\n",
       "    .dataframe tbody tr th {\n",
       "        vertical-align: top;\n",
       "    }\n",
       "\n",
       "    .dataframe thead th {\n",
       "        text-align: right;\n",
       "    }\n",
       "</style>\n",
       "<table border=\"1\" class=\"dataframe\">\n",
       "  <thead>\n",
       "    <tr style=\"text-align: right;\">\n",
       "      <th></th>\n",
       "      <th>0</th>\n",
       "      <th>1</th>\n",
       "    </tr>\n",
       "  </thead>\n",
       "  <tbody>\n",
       "    <tr>\n",
       "      <th>count</th>\n",
       "      <td>9.287000e+03</td>\n",
       "      <td>9.287000e+03</td>\n",
       "    </tr>\n",
       "    <tr>\n",
       "      <th>mean</th>\n",
       "      <td>-2.651050e-16</td>\n",
       "      <td>-2.199645e-16</td>\n",
       "    </tr>\n",
       "    <tr>\n",
       "      <th>std</th>\n",
       "      <td>1.000054e+00</td>\n",
       "      <td>1.000054e+00</td>\n",
       "    </tr>\n",
       "    <tr>\n",
       "      <th>min</th>\n",
       "      <td>-3.847786e-01</td>\n",
       "      <td>-1.242917e-01</td>\n",
       "    </tr>\n",
       "    <tr>\n",
       "      <th>25%</th>\n",
       "      <td>-3.845665e-01</td>\n",
       "      <td>-1.126759e-01</td>\n",
       "    </tr>\n",
       "    <tr>\n",
       "      <th>50%</th>\n",
       "      <td>-3.787227e-01</td>\n",
       "      <td>-9.877296e-02</td>\n",
       "    </tr>\n",
       "    <tr>\n",
       "      <th>75%</th>\n",
       "      <td>-2.218707e-01</td>\n",
       "      <td>-8.228674e-02</td>\n",
       "    </tr>\n",
       "    <tr>\n",
       "      <th>max</th>\n",
       "      <td>6.055749e+00</td>\n",
       "      <td>6.603865e+01</td>\n",
       "    </tr>\n",
       "  </tbody>\n",
       "</table>\n",
       "</div>"
      ],
      "text/plain": [
       "                  0             1\n",
       "count  9.287000e+03  9.287000e+03\n",
       "mean  -2.651050e-16 -2.199645e-16\n",
       "std    1.000054e+00  1.000054e+00\n",
       "min   -3.847786e-01 -1.242917e-01\n",
       "25%   -3.845665e-01 -1.126759e-01\n",
       "50%   -3.787227e-01 -9.877296e-02\n",
       "75%   -2.218707e-01 -8.228674e-02\n",
       "max    6.055749e+00  6.603865e+01"
      ]
     },
     "execution_count": 311,
     "metadata": {},
     "output_type": "execute_result"
    }
   ],
   "source": [
    "#standardizing the data\n",
    "from sklearn.preprocessing import StandardScaler\n",
    "scaler = StandardScaler()\n",
    "data_scaled = scaler.fit_transform(sltd_data)\n",
    "\n",
    "#statistics of scaled data\n",
    "pd.DataFrame(data_scaled).describe()"
   ]
  },
  {
   "cell_type": "code",
   "execution_count": 312,
   "metadata": {},
   "outputs": [
    {
     "data": {
      "text/plain": [
       "(-1.0, 10.0)"
      ]
     },
     "execution_count": 312,
     "metadata": {},
     "output_type": "execute_result"
    },
    {
     "data": {
      "image/png": "[encoded data removed]",
      "text/plain": [
       "<Figure size 864x432 with 1 Axes>"
      ]
     },
     "metadata": {
      "needs_background": "light"
     },
     "output_type": "display_data"
    }
   ],
   "source": [
    "# create scatter plot\n",
    "plt.figure(figsize=(12,6))\n",
    "plt.scatter(data_scaled[:,0], data_scaled[:,1])\n",
    "plt.xlim(-1,10)\n",
    "plt.ylim(-1,10)"
   ]
  },
  {
   "cell_type": "code",
   "execution_count": 313,
   "metadata": {},
   "outputs": [
    {
     "data": {
      "text/plain": [
       "KMeans(init='random', n_clusters=2)"
      ]
     },
     "execution_count": 313,
     "metadata": {},
     "output_type": "execute_result"
    }
   ],
   "source": [
    "# defining the kmeans function with initialization as random\n",
    "kmeans = KMeans(n_clusters=2, init='random')\n",
    "\n",
    "#fitting the k means algorithm on scaled data\n",
    "kmeans.fit(data_scaled)"
   ]
  },
  {
   "cell_type": "code",
   "execution_count": 315,
   "metadata": {},
   "outputs": [],
   "source": [
    "#save new clusters for chart\n",
    "y_km = kmeans.fit_predict(data_scaled)"
   ]
  },
  {
   "cell_type": "code",
   "execution_count": 316,
   "metadata": {},
   "outputs": [
    {
     "data": {
      "text/plain": [
       "11052.173996560432"
      ]
     },
     "execution_count": 316,
     "metadata": {},
     "output_type": "execute_result"
    }
   ],
   "source": [
    "# inertia on the fitted data\n",
    "kmeans.inertia_"
   ]
  },
  {
   "cell_type": "code",
   "execution_count": 317,
   "metadata": {},
   "outputs": [
    {
     "name": "stderr",
     "output_type": "stream",
     "text": [
      "C:\\Users\\Anonymous\\anaconda3\\lib\\site-packages\\sklearn\\cluster\\_kmeans.py:973: FutureWarning: 'n_jobs' was deprecated in version 0.23 and will be removed in 0.25.\n",
      "  warnings.warn(\"'n_jobs' was deprecated in version 0.23 and will be\"\n",
      "C:\\Users\\Anonymous\\anaconda3\\lib\\site-packages\\sklearn\\cluster\\_kmeans.py:973: FutureWarning: 'n_jobs' was deprecated in version 0.23 and will be removed in 0.25.\n",
      "  warnings.warn(\"'n_jobs' was deprecated in version 0.23 and will be\"\n",
      "C:\\Users\\Anonymous\\anaconda3\\lib\\site-packages\\sklearn\\cluster\\_kmeans.py:973: FutureWarning: 'n_jobs' was deprecated in version 0.23 and will be removed in 0.25.\n",
      "  warnings.warn(\"'n_jobs' was deprecated in version 0.23 and will be\"\n",
      "C:\\Users\\Anonymous\\anaconda3\\lib\\site-packages\\sklearn\\cluster\\_kmeans.py:973: FutureWarning: 'n_jobs' was deprecated in version 0.23 and will be removed in 0.25.\n",
      "  warnings.warn(\"'n_jobs' was deprecated in version 0.23 and will be\"\n",
      "C:\\Users\\Anonymous\\anaconda3\\lib\\site-packages\\sklearn\\cluster\\_kmeans.py:973: FutureWarning: 'n_jobs' was deprecated in version 0.23 and will be removed in 0.25.\n",
      "  warnings.warn(\"'n_jobs' was deprecated in version 0.23 and will be\"\n",
      "C:\\Users\\Anonymous\\anaconda3\\lib\\site-packages\\sklearn\\cluster\\_kmeans.py:973: FutureWarning: 'n_jobs' was deprecated in version 0.23 and will be removed in 0.25.\n",
      "  warnings.warn(\"'n_jobs' was deprecated in version 0.23 and will be\"\n",
      "C:\\Users\\Anonymous\\anaconda3\\lib\\site-packages\\sklearn\\cluster\\_kmeans.py:973: FutureWarning: 'n_jobs' was deprecated in version 0.23 and will be removed in 0.25.\n",
      "  warnings.warn(\"'n_jobs' was deprecated in version 0.23 and will be\"\n",
      "C:\\Users\\Anonymous\\anaconda3\\lib\\site-packages\\sklearn\\cluster\\_kmeans.py:973: FutureWarning: 'n_jobs' was deprecated in version 0.23 and will be removed in 0.25.\n",
      "  warnings.warn(\"'n_jobs' was deprecated in version 0.23 and will be\"\n",
      "C:\\Users\\Anonymous\\anaconda3\\lib\\site-packages\\sklearn\\cluster\\_kmeans.py:973: FutureWarning: 'n_jobs' was deprecated in version 0.23 and will be removed in 0.25.\n",
      "  warnings.warn(\"'n_jobs' was deprecated in version 0.23 and will be\"\n",
      "C:\\Users\\Anonymous\\anaconda3\\lib\\site-packages\\sklearn\\cluster\\_kmeans.py:973: FutureWarning: 'n_jobs' was deprecated in version 0.23 and will be removed in 0.25.\n",
      "  warnings.warn(\"'n_jobs' was deprecated in version 0.23 and will be\"\n",
      "C:\\Users\\Anonymous\\anaconda3\\lib\\site-packages\\sklearn\\cluster\\_kmeans.py:973: FutureWarning: 'n_jobs' was deprecated in version 0.23 and will be removed in 0.25.\n",
      "  warnings.warn(\"'n_jobs' was deprecated in version 0.23 and will be\"\n",
      "C:\\Users\\Anonymous\\anaconda3\\lib\\site-packages\\sklearn\\cluster\\_kmeans.py:973: FutureWarning: 'n_jobs' was deprecated in version 0.23 and will be removed in 0.25.\n",
      "  warnings.warn(\"'n_jobs' was deprecated in version 0.23 and will be\"\n",
      "C:\\Users\\Anonymous\\anaconda3\\lib\\site-packages\\sklearn\\cluster\\_kmeans.py:973: FutureWarning: 'n_jobs' was deprecated in version 0.23 and will be removed in 0.25.\n",
      "  warnings.warn(\"'n_jobs' was deprecated in version 0.23 and will be\"\n",
      "C:\\Users\\Anonymous\\anaconda3\\lib\\site-packages\\sklearn\\cluster\\_kmeans.py:973: FutureWarning: 'n_jobs' was deprecated in version 0.23 and will be removed in 0.25.\n",
      "  warnings.warn(\"'n_jobs' was deprecated in version 0.23 and will be\"\n",
      "C:\\Users\\Anonymous\\anaconda3\\lib\\site-packages\\sklearn\\cluster\\_kmeans.py:973: FutureWarning: 'n_jobs' was deprecated in version 0.23 and will be removed in 0.25.\n",
      "  warnings.warn(\"'n_jobs' was deprecated in version 0.23 and will be\"\n",
      "C:\\Users\\Anonymous\\anaconda3\\lib\\site-packages\\sklearn\\cluster\\_kmeans.py:973: FutureWarning: 'n_jobs' was deprecated in version 0.23 and will be removed in 0.25.\n",
      "  warnings.warn(\"'n_jobs' was deprecated in version 0.23 and will be\"\n",
      "C:\\Users\\Anonymous\\anaconda3\\lib\\site-packages\\sklearn\\cluster\\_kmeans.py:973: FutureWarning: 'n_jobs' was deprecated in version 0.23 and will be removed in 0.25.\n",
      "  warnings.warn(\"'n_jobs' was deprecated in version 0.23 and will be\"\n",
      "C:\\Users\\Anonymous\\anaconda3\\lib\\site-packages\\sklearn\\cluster\\_kmeans.py:973: FutureWarning: 'n_jobs' was deprecated in version 0.23 and will be removed in 0.25.\n",
      "  warnings.warn(\"'n_jobs' was deprecated in version 0.23 and will be\"\n",
      "C:\\Users\\Anonymous\\anaconda3\\lib\\site-packages\\sklearn\\cluster\\_kmeans.py:973: FutureWarning: 'n_jobs' was deprecated in version 0.23 and will be removed in 0.25.\n",
      "  warnings.warn(\"'n_jobs' was deprecated in version 0.23 and will be\"\n"
     ]
    },
    {
     "data": {
      "text/plain": [
       "Text(0, 0.5, 'Inertia')"
      ]
     },
     "execution_count": 317,
     "metadata": {},
     "output_type": "execute_result"
    },
    {
     "data": {
      "image/png": "[encoded data removed]",
      "text/plain": [
       "<Figure size 864x432 with 1 Axes>"
      ]
     },
     "metadata": {
      "needs_background": "light"
     },
     "output_type": "display_data"
    }
   ],
   "source": [
    "# fitting multiple k-means algorithms and storing the values in an empty list\n",
    "SSE = []\n",
    "for cluster in range(1,20):\n",
    "    kmeans = KMeans(n_jobs=-1, n_clusters = cluster, init='random') \n",
    "    kmeans.fit(data_scaled)\n",
    "    SSE.append(kmeans.inertia_)\n",
    "\n",
    "# converting the results into a dataframe and plotting them\n",
    "frame = pd.DataFrame({'Cluster':range(1,20), 'SSE':SSE})\n",
    "plt.figure(figsize=(12,6))\n",
    "plt.plot(frame['Cluster'], frame['SSE'], marker='o')\n",
    "plt.xlabel('Number of clusters')\n",
    "plt.ylabel('Inertia')"
   ]
  },
  {
   "cell_type": "code",
   "execution_count": null,
   "metadata": {},
   "outputs": [],
   "source": []
  }
 ],
 "metadata": {
  "colab": {
   "collapsed_sections": [],
   "name": "Data Cleaning.ipynb",
   "provenance": []
  },
  "kernelspec": {
   "display_name": "Python 3",
   "language": "python",
   "name": "python3"
  },
  "language_info": {
   "codemirror_mode": {
    "name": "ipython",
    "version": 3
   },
   "file_extension": ".py",
   "mimetype": "text/x-python",
   "name": "python",
   "nbconvert_exporter": "python",
   "pygments_lexer": "ipython3",
   "version": "3.8.3"
  }
 },
 "nbformat": 4,
 "nbformat_minor": 1
}
