{
 "cells": [
  {
   "cell_type": "code",
   "execution_count": 26,
   "metadata": {
    "id": "bctj9IgRmSOo"
   },
   "outputs": [],
   "source": [
    "import pandas as pd\n",
    "import numpy as np\n",
    "import seaborn as sns\n",
    "import matplotlib.pyplot as plt\n",
    "from sklearn.preprocessing import StandardScaler\n",
    "from sklearn.cluster import KMeans\n",
    "import warnings\n",
    "import random"
   ]
  },
  {
   "cell_type": "code",
   "execution_count": 27,
   "metadata": {
    "colab": {
     "base_uri": "https://localhost:8080/",
     "height": 195
    },
    "id": "mu8lFWGomSOu",
    "outputId": "ff90d2ba-b24a-41d4-9104-7b80aa573226"
   },
   "outputs": [
    {
     "data": {
      "text/html": [
       "<div>\n",
       "<style scoped>\n",
       "    .dataframe tbody tr th:only-of-type {\n",
       "        vertical-align: middle;\n",
       "    }\n",
       "\n",
       "    .dataframe tbody tr th {\n",
       "        vertical-align: top;\n",
       "    }\n",
       "\n",
       "    .dataframe thead th {\n",
       "        text-align: right;\n",
       "    }\n",
       "</style>\n",
       "<table border=\"1\" class=\"dataframe\">\n",
       "  <thead>\n",
       "    <tr style=\"text-align: right;\">\n",
       "      <th></th>\n",
       "      <th>pc_code</th>\n",
       "      <th>pc_description</th>\n",
       "      <th>unit</th>\n",
       "      <th>country_code</th>\n",
       "      <th>country_name</th>\n",
       "      <th>quantity</th>\n",
       "      <th>value</th>\n",
       "    </tr>\n",
       "  </thead>\n",
       "  <tbody>\n",
       "    <tr>\n",
       "      <th>0</th>\n",
       "      <td>99</td>\n",
       "      <td>Other Commodities</td>\n",
       "      <td>Na</td>\n",
       "      <td>599</td>\n",
       "      <td>Unspecified</td>\n",
       "      <td>NaN</td>\n",
       "      <td>270.889542</td>\n",
       "    </tr>\n",
       "    <tr>\n",
       "      <th>1</th>\n",
       "      <td>99</td>\n",
       "      <td>Other Commodities</td>\n",
       "      <td>Na</td>\n",
       "      <td>1213</td>\n",
       "      <td>Kenya</td>\n",
       "      <td>NaN</td>\n",
       "      <td>17.159452</td>\n",
       "    </tr>\n",
       "    <tr>\n",
       "      <th>2</th>\n",
       "      <td>99</td>\n",
       "      <td>Other Commodities</td>\n",
       "      <td>Na</td>\n",
       "      <td>1395</td>\n",
       "      <td>Tanzania Rep</td>\n",
       "      <td>NaN</td>\n",
       "      <td>8.896539</td>\n",
       "    </tr>\n",
       "    <tr>\n",
       "      <th>3</th>\n",
       "      <td>99</td>\n",
       "      <td>Other Commodities</td>\n",
       "      <td>Na</td>\n",
       "      <td>1417</td>\n",
       "      <td>Uganda</td>\n",
       "      <td>NaN</td>\n",
       "      <td>5.181412</td>\n",
       "    </tr>\n",
       "    <tr>\n",
       "      <th>4</th>\n",
       "      <td>99</td>\n",
       "      <td>Other Commodities</td>\n",
       "      <td>Na</td>\n",
       "      <td>2035</td>\n",
       "      <td>Benin</td>\n",
       "      <td>NaN</td>\n",
       "      <td>2.476015</td>\n",
       "    </tr>\n",
       "  </tbody>\n",
       "</table>\n",
       "</div>"
      ],
      "text/plain": [
       "  pc_code     pc_description unit  country_code  country_name  quantity  \\\n",
       "0      99  Other Commodities   Na           599   Unspecified       NaN   \n",
       "1      99  Other Commodities   Na          1213         Kenya       NaN   \n",
       "2      99  Other Commodities   Na          1395  Tanzania Rep       NaN   \n",
       "3      99  Other Commodities   Na          1417        Uganda       NaN   \n",
       "4      99  Other Commodities   Na          2035         Benin       NaN   \n",
       "\n",
       "        value  \n",
       "0  270.889542  \n",
       "1   17.159452  \n",
       "2    8.896539  \n",
       "3    5.181412  \n",
       "4    2.476015  "
      ]
     },
     "execution_count": 27,
     "metadata": {},
     "output_type": "execute_result"
    }
   ],
   "source": [
    "df = pd.read_csv(\"PC_Export_2016_2017.csv\")\n",
    "df.head()"
   ]
  },
  {
   "cell_type": "code",
   "execution_count": 28,
   "metadata": {
    "colab": {
     "base_uri": "https://localhost:8080/",
     "height": 284
    },
    "id": "sTYQZu_KmSO_",
    "outputId": "123c438c-086e-4d9f-9b4c-c6efc668c572"
   },
   "outputs": [
    {
     "data": {
      "text/html": [
       "<div>\n",
       "<style scoped>\n",
       "    .dataframe tbody tr th:only-of-type {\n",
       "        vertical-align: middle;\n",
       "    }\n",
       "\n",
       "    .dataframe tbody tr th {\n",
       "        vertical-align: top;\n",
       "    }\n",
       "\n",
       "    .dataframe thead th {\n",
       "        text-align: right;\n",
       "    }\n",
       "</style>\n",
       "<table border=\"1\" class=\"dataframe\">\n",
       "  <thead>\n",
       "    <tr style=\"text-align: right;\">\n",
       "      <th></th>\n",
       "      <th>country_code</th>\n",
       "      <th>quantity</th>\n",
       "      <th>value</th>\n",
       "    </tr>\n",
       "  </thead>\n",
       "  <tbody>\n",
       "    <tr>\n",
       "      <th>count</th>\n",
       "      <td>20844.000000</td>\n",
       "      <td>1.006500e+04</td>\n",
       "      <td>20844.000000</td>\n",
       "    </tr>\n",
       "    <tr>\n",
       "      <th>mean</th>\n",
       "      <td>9053.099645</td>\n",
       "      <td>3.903794e+06</td>\n",
       "      <td>13.267463</td>\n",
       "    </tr>\n",
       "    <tr>\n",
       "      <th>std</th>\n",
       "      <td>4495.312603</td>\n",
       "      <td>7.484555e+07</td>\n",
       "      <td>136.903421</td>\n",
       "    </tr>\n",
       "    <tr>\n",
       "      <th>min</th>\n",
       "      <td>2.000000</td>\n",
       "      <td>0.000000e+00</td>\n",
       "      <td>0.000000</td>\n",
       "    </tr>\n",
       "    <tr>\n",
       "      <th>25%</th>\n",
       "      <td>4365.000000</td>\n",
       "      <td>1.360000e+02</td>\n",
       "      <td>0.024924</td>\n",
       "    </tr>\n",
       "    <tr>\n",
       "      <th>50%</th>\n",
       "      <td>10179.000000</td>\n",
       "      <td>5.175000e+03</td>\n",
       "      <td>0.299185</td>\n",
       "    </tr>\n",
       "    <tr>\n",
       "      <th>75%</th>\n",
       "      <td>13101.000000</td>\n",
       "      <td>1.690850e+05</td>\n",
       "      <td>2.788682</td>\n",
       "    </tr>\n",
       "    <tr>\n",
       "      <th>max</th>\n",
       "      <td>16409.000000</td>\n",
       "      <td>5.710303e+09</td>\n",
       "      <td>9599.857922</td>\n",
       "    </tr>\n",
       "  </tbody>\n",
       "</table>\n",
       "</div>"
      ],
      "text/plain": [
       "       country_code      quantity         value\n",
       "count  20844.000000  1.006500e+04  20844.000000\n",
       "mean    9053.099645  3.903794e+06     13.267463\n",
       "std     4495.312603  7.484555e+07    136.903421\n",
       "min        2.000000  0.000000e+00      0.000000\n",
       "25%     4365.000000  1.360000e+02      0.024924\n",
       "50%    10179.000000  5.175000e+03      0.299185\n",
       "75%    13101.000000  1.690850e+05      2.788682\n",
       "max    16409.000000  5.710303e+09   9599.857922"
      ]
     },
     "execution_count": 28,
     "metadata": {},
     "output_type": "execute_result"
    }
   ],
   "source": [
    "df.describe()"
   ]
  },
  {
   "cell_type": "code",
   "execution_count": 29,
   "metadata": {
    "colab": {
     "base_uri": "https://localhost:8080/"
    },
    "id": "Ry5rF3HSmSPA",
    "outputId": "4bb66307-4909-4747-bfb6-78e31cd0a6e4"
   },
   "outputs": [
    {
     "name": "stdout",
     "output_type": "stream",
     "text": [
      "<class 'pandas.core.frame.DataFrame'>\n",
      "RangeIndex: 20844 entries, 0 to 20843\n",
      "Data columns (total 7 columns):\n",
      " #   Column          Non-Null Count  Dtype  \n",
      "---  ------          --------------  -----  \n",
      " 0   pc_code         20844 non-null  object \n",
      " 1   pc_description  20844 non-null  object \n",
      " 2   unit            20844 non-null  object \n",
      " 3   country_code    20844 non-null  int64  \n",
      " 4   country_name    20844 non-null  object \n",
      " 5   quantity        10065 non-null  float64\n",
      " 6   value           20844 non-null  float64\n",
      "dtypes: float64(2), int64(1), object(4)\n",
      "memory usage: 1.1+ MB\n"
     ]
    }
   ],
   "source": [
    "#untuk mengetahui informasi dari setiap variabel \n",
    "df.info()"
   ]
  },
  {
   "cell_type": "markdown",
   "metadata": {
    "id": "DmIdgCGtmSPC"
   },
   "source": [
    "Memeriksa nilai yang null"
   ]
  },
  {
   "cell_type": "code",
   "execution_count": 30,
   "metadata": {
    "colab": {
     "base_uri": "https://localhost:8080/",
     "height": 77
    },
    "id": "_PkhCK9TmSPD",
    "outputId": "962160fe-0a56-41eb-cc0b-b2d9e5128df7"
   },
   "outputs": [
    {
     "data": {
      "text/html": [
       "<div>\n",
       "<style scoped>\n",
       "    .dataframe tbody tr th:only-of-type {\n",
       "        vertical-align: middle;\n",
       "    }\n",
       "\n",
       "    .dataframe tbody tr th {\n",
       "        vertical-align: top;\n",
       "    }\n",
       "\n",
       "    .dataframe thead th {\n",
       "        text-align: right;\n",
       "    }\n",
       "</style>\n",
       "<table border=\"1\" class=\"dataframe\">\n",
       "  <thead>\n",
       "    <tr style=\"text-align: right;\">\n",
       "      <th></th>\n",
       "      <th>Total</th>\n",
       "      <th>Missing Percent</th>\n",
       "    </tr>\n",
       "  </thead>\n",
       "  <tbody>\n",
       "    <tr>\n",
       "      <th>quantity</th>\n",
       "      <td>10779</td>\n",
       "      <td>51.712723</td>\n",
       "    </tr>\n",
       "  </tbody>\n",
       "</table>\n",
       "</div>"
      ],
      "text/plain": [
       "          Total  Missing Percent\n",
       "quantity  10779        51.712723"
      ]
     },
     "execution_count": 30,
     "metadata": {},
     "output_type": "execute_result"
    }
   ],
   "source": [
    "total = df.isnull().sum().sort_values(ascending=False)\n",
    "\n",
    "percent = (df.isnull().sum()/df.isnull().count())\\\n",
    ".sort_values(ascending=False)\n",
    "\n",
    "missing_data = pd.concat([total, percent], axis=1, \\\n",
    "                        keys=['Total', 'Missing Percent'])\n",
    "\n",
    "missing_data['Missing Percent'] = \\\n",
    "missing_data['Missing Percent'].apply(lambda x: x * 100)\n",
    "\n",
    "missing_data.loc[missing_data['Missing Percent'] > 10][:10]"
   ]
  },
  {
   "cell_type": "code",
   "execution_count": 31,
   "metadata": {
    "colab": {
     "base_uri": "https://localhost:8080/"
    },
    "id": "CBv9Qj_OmSPF",
    "outputId": "647ea080-7f28-4fae-c7fe-6ca5bab02677"
   },
   "outputs": [
    {
     "name": "stdout",
     "output_type": "stream",
     "text": [
      "(20844, 7)\n"
     ]
    }
   ],
   "source": [
    "print(df.shape)"
   ]
  },
  {
   "cell_type": "markdown",
   "metadata": {
    "id": "Qg4y7jw9mSPG"
   },
   "source": [
    "Analisis Variabel Secara Individual"
   ]
  },
  {
   "cell_type": "code",
   "execution_count": 32,
   "metadata": {
    "id": "biZgsxsjmSPH"
   },
   "outputs": [],
   "source": [
    "numerical_vars = ['country_code','quantity','value']\n",
    "categorical_vars = ['pc_code','pc_description','unit','country_name']"
   ]
  },
  {
   "cell_type": "code",
   "execution_count": 33,
   "metadata": {
    "id": "L-Vhu584mSPH"
   },
   "outputs": [],
   "source": [
    "df = df[numerical_vars+categorical_vars]"
   ]
  },
  {
   "cell_type": "code",
   "execution_count": 34,
   "metadata": {
    "colab": {
     "base_uri": "https://localhost:8080/"
    },
    "id": "O992yuWGmSPJ",
    "outputId": "f2b836cb-11e4-47f5-aa72-b6099dca272e"
   },
   "outputs": [
    {
     "name": "stdout",
     "output_type": "stream",
     "text": [
      "(20844, 7)\n"
     ]
    }
   ],
   "source": [
    "print(df.shape)"
   ]
  },
  {
   "cell_type": "markdown",
   "metadata": {
    "id": "CkLt6GfkmSPL"
   },
   "source": [
    "Memahami Variabel Numerical"
   ]
  },
  {
   "cell_type": "code",
   "execution_count": 35,
   "metadata": {
    "colab": {
     "base_uri": "https://localhost:8080/"
    },
    "id": "uOJPDhiGmSPN",
    "outputId": "ce281eb1-1f37-4ac3-91bd-1fb41aa09ac7"
   },
   "outputs": [
    {
     "data": {
      "text/plain": [
       "count    20844.000000\n",
       "mean      9053.099645\n",
       "std       4495.312603\n",
       "min          2.000000\n",
       "25%       4365.000000\n",
       "50%      10179.000000\n",
       "75%      13101.000000\n",
       "max      16409.000000\n",
       "Name: country_code, dtype: float64"
      ]
     },
     "execution_count": 35,
     "metadata": {},
     "output_type": "execute_result"
    }
   ],
   "source": [
    "df['country_code'].describe()"
   ]
  },
  {
   "cell_type": "code",
   "execution_count": 36,
   "metadata": {
    "colab": {
     "base_uri": "https://localhost:8080/"
    },
    "id": "lChDqUTgmSPP",
    "outputId": "0da7a7d2-769e-44f7-ce80-1cb7c3e9bd21",
    "scrolled": false
   },
   "outputs": [
    {
     "data": {
      "text/plain": [
       "count    1.006500e+04\n",
       "mean     3.903794e+06\n",
       "std      7.484555e+07\n",
       "min      0.000000e+00\n",
       "25%      1.360000e+02\n",
       "50%      5.175000e+03\n",
       "75%      1.690850e+05\n",
       "max      5.710303e+09\n",
       "Name: quantity, dtype: float64"
      ]
     },
     "execution_count": 36,
     "metadata": {},
     "output_type": "execute_result"
    }
   ],
   "source": [
    "df['quantity'].describe()"
   ]
  },
  {
   "cell_type": "code",
   "execution_count": 37,
   "metadata": {
    "colab": {
     "base_uri": "https://localhost:8080/"
    },
    "id": "E6E-FuCkmSPP",
    "outputId": "929cb574-4086-4fef-c6e9-d7da004e6c72",
    "scrolled": true
   },
   "outputs": [
    {
     "data": {
      "text/plain": [
       "count    20844.000000\n",
       "mean        13.267463\n",
       "std        136.903421\n",
       "min          0.000000\n",
       "25%          0.024924\n",
       "50%          0.299185\n",
       "75%          2.788682\n",
       "max       9599.857922\n",
       "Name: value, dtype: float64"
      ]
     },
     "execution_count": 37,
     "metadata": {},
     "output_type": "execute_result"
    }
   ],
   "source": [
    "df['value'].describe()"
   ]
  },
  {
   "cell_type": "code",
   "execution_count": 38,
   "metadata": {
    "colab": {
     "base_uri": "https://localhost:8080/",
     "height": 284
    },
    "id": "JseFeaRkmSPR",
    "outputId": "2513ad64-d9ad-49f2-aad5-2c2cf2763c9e"
   },
   "outputs": [
    {
     "data": {
      "text/html": [
       "<div>\n",
       "<style scoped>\n",
       "    .dataframe tbody tr th:only-of-type {\n",
       "        vertical-align: middle;\n",
       "    }\n",
       "\n",
       "    .dataframe tbody tr th {\n",
       "        vertical-align: top;\n",
       "    }\n",
       "\n",
       "    .dataframe thead th {\n",
       "        text-align: right;\n",
       "    }\n",
       "</style>\n",
       "<table border=\"1\" class=\"dataframe\">\n",
       "  <thead>\n",
       "    <tr style=\"text-align: right;\">\n",
       "      <th></th>\n",
       "      <th>country_code</th>\n",
       "      <th>quantity</th>\n",
       "      <th>value</th>\n",
       "    </tr>\n",
       "  </thead>\n",
       "  <tbody>\n",
       "    <tr>\n",
       "      <th>count</th>\n",
       "      <td>20844.000000</td>\n",
       "      <td>1.006500e+04</td>\n",
       "      <td>20844.000000</td>\n",
       "    </tr>\n",
       "    <tr>\n",
       "      <th>mean</th>\n",
       "      <td>9053.099645</td>\n",
       "      <td>3.903794e+06</td>\n",
       "      <td>13.267463</td>\n",
       "    </tr>\n",
       "    <tr>\n",
       "      <th>std</th>\n",
       "      <td>4495.312603</td>\n",
       "      <td>7.484555e+07</td>\n",
       "      <td>136.903421</td>\n",
       "    </tr>\n",
       "    <tr>\n",
       "      <th>min</th>\n",
       "      <td>2.000000</td>\n",
       "      <td>0.000000e+00</td>\n",
       "      <td>0.000000</td>\n",
       "    </tr>\n",
       "    <tr>\n",
       "      <th>25%</th>\n",
       "      <td>4365.000000</td>\n",
       "      <td>1.360000e+02</td>\n",
       "      <td>0.024924</td>\n",
       "    </tr>\n",
       "    <tr>\n",
       "      <th>50%</th>\n",
       "      <td>10179.000000</td>\n",
       "      <td>5.175000e+03</td>\n",
       "      <td>0.299185</td>\n",
       "    </tr>\n",
       "    <tr>\n",
       "      <th>75%</th>\n",
       "      <td>13101.000000</td>\n",
       "      <td>1.690850e+05</td>\n",
       "      <td>2.788682</td>\n",
       "    </tr>\n",
       "    <tr>\n",
       "      <th>max</th>\n",
       "      <td>16409.000000</td>\n",
       "      <td>5.710303e+09</td>\n",
       "      <td>9599.857922</td>\n",
       "    </tr>\n",
       "  </tbody>\n",
       "</table>\n",
       "</div>"
      ],
      "text/plain": [
       "       country_code      quantity         value\n",
       "count  20844.000000  1.006500e+04  20844.000000\n",
       "mean    9053.099645  3.903794e+06     13.267463\n",
       "std     4495.312603  7.484555e+07    136.903421\n",
       "min        2.000000  0.000000e+00      0.000000\n",
       "25%     4365.000000  1.360000e+02      0.024924\n",
       "50%    10179.000000  5.175000e+03      0.299185\n",
       "75%    13101.000000  1.690850e+05      2.788682\n",
       "max    16409.000000  5.710303e+09   9599.857922"
      ]
     },
     "execution_count": 38,
     "metadata": {},
     "output_type": "execute_result"
    }
   ],
   "source": [
    "df[numerical_vars].describe()"
   ]
  },
  {
   "cell_type": "markdown",
   "metadata": {
    "id": "mWJ7_lxxmSPS"
   },
   "source": [
    "Memahami Variabel Categorical"
   ]
  },
  {
   "cell_type": "code",
   "execution_count": 39,
   "metadata": {
    "colab": {
     "base_uri": "https://localhost:8080/"
    },
    "id": "gyXvNvM5mSPM",
    "outputId": "f9229d73-c4d7-4708-9e30-1ddc1fce576e"
   },
   "outputs": [
    {
     "data": {
      "text/plain": [
       "count     20844\n",
       "unique      168\n",
       "top          H8\n",
       "freq        209\n",
       "Name: pc_code, dtype: object"
      ]
     },
     "execution_count": 39,
     "metadata": {},
     "output_type": "execute_result"
    }
   ],
   "source": [
    "df['pc_code'].describe()"
   ]
  },
  {
   "cell_type": "code",
   "execution_count": 40,
   "metadata": {
    "colab": {
     "base_uri": "https://localhost:8080/"
    },
    "id": "tjVMtS7cmSPS",
    "outputId": "5903308a-4eb5-4741-e994-5f39f0434e51"
   },
   "outputs": [
    {
     "data": {
      "text/plain": [
       "count                              20844\n",
       "unique                               168\n",
       "top       Drug Formulations, Biologicals\n",
       "freq                                 209\n",
       "Name: pc_description, dtype: object"
      ]
     },
     "execution_count": 40,
     "metadata": {},
     "output_type": "execute_result"
    }
   ],
   "source": [
    "df['pc_description'].describe()"
   ]
  },
  {
   "cell_type": "code",
   "execution_count": 41,
   "metadata": {
    "colab": {
     "base_uri": "https://localhost:8080/"
    },
    "id": "iJCPpVAMmSPZ",
    "outputId": "5665a730-f347-4365-8217-de785eaa8e88"
   },
   "outputs": [
    {
     "data": {
      "text/plain": [
       "count     20844\n",
       "unique        6\n",
       "top          Na\n",
       "freq      10779\n",
       "Name: unit, dtype: object"
      ]
     },
     "execution_count": 41,
     "metadata": {},
     "output_type": "execute_result"
    }
   ],
   "source": [
    "df['unit'].describe()"
   ]
  },
  {
   "cell_type": "code",
   "execution_count": 42,
   "metadata": {
    "colab": {
     "base_uri": "https://localhost:8080/"
    },
    "id": "4EqSqJ0WmSPa",
    "outputId": "7029bc72-ed05-450e-9965-55fa40860243"
   },
   "outputs": [
    {
     "data": {
      "text/plain": [
       "count     20844\n",
       "unique      233\n",
       "top       U S A\n",
       "freq        161\n",
       "Name: country_name, dtype: object"
      ]
     },
     "execution_count": 42,
     "metadata": {},
     "output_type": "execute_result"
    }
   ],
   "source": [
    "df['country_name'].describe()"
   ]
  },
  {
   "cell_type": "code",
   "execution_count": 43,
   "metadata": {
    "colab": {
     "base_uri": "https://localhost:8080/",
     "height": 166
    },
    "id": "DmvBlMR5mSPb",
    "outputId": "6e810bdb-dbd8-4f92-b491-914c916f5c45"
   },
   "outputs": [
    {
     "data": {
      "text/html": [
       "<div>\n",
       "<style scoped>\n",
       "    .dataframe tbody tr th:only-of-type {\n",
       "        vertical-align: middle;\n",
       "    }\n",
       "\n",
       "    .dataframe tbody tr th {\n",
       "        vertical-align: top;\n",
       "    }\n",
       "\n",
       "    .dataframe thead th {\n",
       "        text-align: right;\n",
       "    }\n",
       "</style>\n",
       "<table border=\"1\" class=\"dataframe\">\n",
       "  <thead>\n",
       "    <tr style=\"text-align: right;\">\n",
       "      <th></th>\n",
       "      <th>pc_code</th>\n",
       "      <th>pc_description</th>\n",
       "      <th>unit</th>\n",
       "      <th>country_name</th>\n",
       "    </tr>\n",
       "  </thead>\n",
       "  <tbody>\n",
       "    <tr>\n",
       "      <th>count</th>\n",
       "      <td>20844</td>\n",
       "      <td>20844</td>\n",
       "      <td>20844</td>\n",
       "      <td>20844</td>\n",
       "    </tr>\n",
       "    <tr>\n",
       "      <th>unique</th>\n",
       "      <td>168</td>\n",
       "      <td>168</td>\n",
       "      <td>6</td>\n",
       "      <td>233</td>\n",
       "    </tr>\n",
       "    <tr>\n",
       "      <th>top</th>\n",
       "      <td>H8</td>\n",
       "      <td>Drug Formulations, Biologicals</td>\n",
       "      <td>Na</td>\n",
       "      <td>U S A</td>\n",
       "    </tr>\n",
       "    <tr>\n",
       "      <th>freq</th>\n",
       "      <td>209</td>\n",
       "      <td>209</td>\n",
       "      <td>10779</td>\n",
       "      <td>161</td>\n",
       "    </tr>\n",
       "  </tbody>\n",
       "</table>\n",
       "</div>"
      ],
      "text/plain": [
       "       pc_code                  pc_description   unit country_name\n",
       "count    20844                           20844  20844        20844\n",
       "unique     168                             168      6          233\n",
       "top         H8  Drug Formulations, Biologicals     Na        U S A\n",
       "freq       209                             209  10779          161"
      ]
     },
     "execution_count": 43,
     "metadata": {},
     "output_type": "execute_result"
    }
   ],
   "source": [
    "df[categorical_vars].describe()"
   ]
  },
  {
   "cell_type": "markdown",
   "metadata": {
    "id": "0QwcUl5SmSPc"
   },
   "source": [
    "Data Cleaning"
   ]
  },
  {
   "cell_type": "markdown",
   "metadata": {
    "id": "_sSZwlCGmSPd"
   },
   "source": [
    "Metode yang digunakan untuk menangani nilai yang null atau NaN yaitu dengan menggunakan Fill Forward yaitu digunakan untuk mengisi maju, dimana nilai terakhir yang diketahui yang akan digunakan untuk menggati nilai yang null"
   ]
  },
  {
   "cell_type": "code",
   "execution_count": 44,
   "metadata": {
    "id": "gFmkkz0g368g"
   },
   "outputs": [],
   "source": [
    "df = pd.read_csv(\"PC_Export_2016_2017.csv\")"
   ]
  },
  {
   "cell_type": "code",
   "execution_count": 45,
   "metadata": {
    "colab": {
     "base_uri": "https://localhost:8080/",
     "height": 195
    },
    "id": "cFBfo0LY5Wut",
    "outputId": "084700d2-562f-4515-fcc3-a9a0ce1cc561"
   },
   "outputs": [
    {
     "data": {
      "text/html": [
       "<div>\n",
       "<style scoped>\n",
       "    .dataframe tbody tr th:only-of-type {\n",
       "        vertical-align: middle;\n",
       "    }\n",
       "\n",
       "    .dataframe tbody tr th {\n",
       "        vertical-align: top;\n",
       "    }\n",
       "\n",
       "    .dataframe thead th {\n",
       "        text-align: right;\n",
       "    }\n",
       "</style>\n",
       "<table border=\"1\" class=\"dataframe\">\n",
       "  <thead>\n",
       "    <tr style=\"text-align: right;\">\n",
       "      <th></th>\n",
       "      <th>pc_code</th>\n",
       "      <th>pc_description</th>\n",
       "      <th>unit</th>\n",
       "      <th>country_code</th>\n",
       "      <th>country_name</th>\n",
       "      <th>quantity</th>\n",
       "      <th>value</th>\n",
       "    </tr>\n",
       "  </thead>\n",
       "  <tbody>\n",
       "    <tr>\n",
       "      <th>0</th>\n",
       "      <td>99</td>\n",
       "      <td>Other Commodities</td>\n",
       "      <td>Na</td>\n",
       "      <td>599</td>\n",
       "      <td>Unspecified</td>\n",
       "      <td>NaN</td>\n",
       "      <td>270.889542</td>\n",
       "    </tr>\n",
       "    <tr>\n",
       "      <th>1</th>\n",
       "      <td>99</td>\n",
       "      <td>Other Commodities</td>\n",
       "      <td>Na</td>\n",
       "      <td>1213</td>\n",
       "      <td>Kenya</td>\n",
       "      <td>NaN</td>\n",
       "      <td>17.159452</td>\n",
       "    </tr>\n",
       "    <tr>\n",
       "      <th>2</th>\n",
       "      <td>99</td>\n",
       "      <td>Other Commodities</td>\n",
       "      <td>Na</td>\n",
       "      <td>1395</td>\n",
       "      <td>Tanzania Rep</td>\n",
       "      <td>NaN</td>\n",
       "      <td>8.896539</td>\n",
       "    </tr>\n",
       "    <tr>\n",
       "      <th>3</th>\n",
       "      <td>99</td>\n",
       "      <td>Other Commodities</td>\n",
       "      <td>Na</td>\n",
       "      <td>1417</td>\n",
       "      <td>Uganda</td>\n",
       "      <td>NaN</td>\n",
       "      <td>5.181412</td>\n",
       "    </tr>\n",
       "    <tr>\n",
       "      <th>4</th>\n",
       "      <td>99</td>\n",
       "      <td>Other Commodities</td>\n",
       "      <td>Na</td>\n",
       "      <td>2035</td>\n",
       "      <td>Benin</td>\n",
       "      <td>NaN</td>\n",
       "      <td>2.476015</td>\n",
       "    </tr>\n",
       "  </tbody>\n",
       "</table>\n",
       "</div>"
      ],
      "text/plain": [
       "  pc_code     pc_description unit  country_code  country_name  quantity  \\\n",
       "0      99  Other Commodities   Na           599   Unspecified       NaN   \n",
       "1      99  Other Commodities   Na          1213         Kenya       NaN   \n",
       "2      99  Other Commodities   Na          1395  Tanzania Rep       NaN   \n",
       "3      99  Other Commodities   Na          1417        Uganda       NaN   \n",
       "4      99  Other Commodities   Na          2035         Benin       NaN   \n",
       "\n",
       "        value  \n",
       "0  270.889542  \n",
       "1   17.159452  \n",
       "2    8.896539  \n",
       "3    5.181412  \n",
       "4    2.476015  "
      ]
     },
     "execution_count": 45,
     "metadata": {},
     "output_type": "execute_result"
    }
   ],
   "source": [
    "df.head()"
   ]
  },
  {
   "cell_type": "code",
   "execution_count": 46,
   "metadata": {
    "id": "9Jph0Tg1sfTD"
   },
   "outputs": [],
   "source": [
    "dc = df.fillna(df.mean())"
   ]
  },
  {
   "cell_type": "code",
   "execution_count": 47,
   "metadata": {
    "colab": {
     "base_uri": "https://localhost:8080/",
     "height": 195
    },
    "id": "MfosADlAw2-N",
    "outputId": "e6f5545d-65bc-41ba-ffb2-0d773ce21694"
   },
   "outputs": [
    {
     "data": {
      "text/html": [
       "<div>\n",
       "<style scoped>\n",
       "    .dataframe tbody tr th:only-of-type {\n",
       "        vertical-align: middle;\n",
       "    }\n",
       "\n",
       "    .dataframe tbody tr th {\n",
       "        vertical-align: top;\n",
       "    }\n",
       "\n",
       "    .dataframe thead th {\n",
       "        text-align: right;\n",
       "    }\n",
       "</style>\n",
       "<table border=\"1\" class=\"dataframe\">\n",
       "  <thead>\n",
       "    <tr style=\"text-align: right;\">\n",
       "      <th></th>\n",
       "      <th>pc_code</th>\n",
       "      <th>pc_description</th>\n",
       "      <th>unit</th>\n",
       "      <th>country_code</th>\n",
       "      <th>country_name</th>\n",
       "      <th>quantity</th>\n",
       "      <th>value</th>\n",
       "    </tr>\n",
       "  </thead>\n",
       "  <tbody>\n",
       "    <tr>\n",
       "      <th>0</th>\n",
       "      <td>99</td>\n",
       "      <td>Other Commodities</td>\n",
       "      <td>Na</td>\n",
       "      <td>599</td>\n",
       "      <td>Unspecified</td>\n",
       "      <td>3.903794e+06</td>\n",
       "      <td>270.889542</td>\n",
       "    </tr>\n",
       "    <tr>\n",
       "      <th>1</th>\n",
       "      <td>99</td>\n",
       "      <td>Other Commodities</td>\n",
       "      <td>Na</td>\n",
       "      <td>1213</td>\n",
       "      <td>Kenya</td>\n",
       "      <td>3.903794e+06</td>\n",
       "      <td>17.159452</td>\n",
       "    </tr>\n",
       "    <tr>\n",
       "      <th>2</th>\n",
       "      <td>99</td>\n",
       "      <td>Other Commodities</td>\n",
       "      <td>Na</td>\n",
       "      <td>1395</td>\n",
       "      <td>Tanzania Rep</td>\n",
       "      <td>3.903794e+06</td>\n",
       "      <td>8.896539</td>\n",
       "    </tr>\n",
       "    <tr>\n",
       "      <th>3</th>\n",
       "      <td>99</td>\n",
       "      <td>Other Commodities</td>\n",
       "      <td>Na</td>\n",
       "      <td>1417</td>\n",
       "      <td>Uganda</td>\n",
       "      <td>3.903794e+06</td>\n",
       "      <td>5.181412</td>\n",
       "    </tr>\n",
       "    <tr>\n",
       "      <th>4</th>\n",
       "      <td>99</td>\n",
       "      <td>Other Commodities</td>\n",
       "      <td>Na</td>\n",
       "      <td>2035</td>\n",
       "      <td>Benin</td>\n",
       "      <td>3.903794e+06</td>\n",
       "      <td>2.476015</td>\n",
       "    </tr>\n",
       "  </tbody>\n",
       "</table>\n",
       "</div>"
      ],
      "text/plain": [
       "  pc_code     pc_description unit  country_code  country_name      quantity  \\\n",
       "0      99  Other Commodities   Na           599   Unspecified  3.903794e+06   \n",
       "1      99  Other Commodities   Na          1213         Kenya  3.903794e+06   \n",
       "2      99  Other Commodities   Na          1395  Tanzania Rep  3.903794e+06   \n",
       "3      99  Other Commodities   Na          1417        Uganda  3.903794e+06   \n",
       "4      99  Other Commodities   Na          2035         Benin  3.903794e+06   \n",
       "\n",
       "        value  \n",
       "0  270.889542  \n",
       "1   17.159452  \n",
       "2    8.896539  \n",
       "3    5.181412  \n",
       "4    2.476015  "
      ]
     },
     "execution_count": 47,
     "metadata": {},
     "output_type": "execute_result"
    }
   ],
   "source": [
    "dc.head()"
   ]
  },
  {
   "cell_type": "code",
   "execution_count": 48,
   "metadata": {
    "colab": {
     "base_uri": "https://localhost:8080/",
     "height": 195
    },
    "id": "0GiMAJ717I91",
    "outputId": "a32097c8-9f0a-4803-efbc-66d24bcfbc12"
   },
   "outputs": [
    {
     "data": {
      "text/html": [
       "<div>\n",
       "<style scoped>\n",
       "    .dataframe tbody tr th:only-of-type {\n",
       "        vertical-align: middle;\n",
       "    }\n",
       "\n",
       "    .dataframe tbody tr th {\n",
       "        vertical-align: top;\n",
       "    }\n",
       "\n",
       "    .dataframe thead th {\n",
       "        text-align: right;\n",
       "    }\n",
       "</style>\n",
       "<table border=\"1\" class=\"dataframe\">\n",
       "  <thead>\n",
       "    <tr style=\"text-align: right;\">\n",
       "      <th></th>\n",
       "      <th>pc_code</th>\n",
       "      <th>pc_description</th>\n",
       "      <th>unit</th>\n",
       "      <th>country_code</th>\n",
       "      <th>country_name</th>\n",
       "      <th>quantity</th>\n",
       "      <th>value</th>\n",
       "    </tr>\n",
       "  </thead>\n",
       "  <tbody>\n",
       "    <tr>\n",
       "      <th>0</th>\n",
       "      <td>99</td>\n",
       "      <td>Other Commodities</td>\n",
       "      <td>Na</td>\n",
       "      <td>599</td>\n",
       "      <td>Unspecified</td>\n",
       "      <td>3903794</td>\n",
       "      <td>270</td>\n",
       "    </tr>\n",
       "    <tr>\n",
       "      <th>1</th>\n",
       "      <td>99</td>\n",
       "      <td>Other Commodities</td>\n",
       "      <td>Na</td>\n",
       "      <td>1213</td>\n",
       "      <td>Kenya</td>\n",
       "      <td>3903794</td>\n",
       "      <td>17</td>\n",
       "    </tr>\n",
       "    <tr>\n",
       "      <th>2</th>\n",
       "      <td>99</td>\n",
       "      <td>Other Commodities</td>\n",
       "      <td>Na</td>\n",
       "      <td>1395</td>\n",
       "      <td>Tanzania Rep</td>\n",
       "      <td>3903794</td>\n",
       "      <td>8</td>\n",
       "    </tr>\n",
       "    <tr>\n",
       "      <th>3</th>\n",
       "      <td>99</td>\n",
       "      <td>Other Commodities</td>\n",
       "      <td>Na</td>\n",
       "      <td>1417</td>\n",
       "      <td>Uganda</td>\n",
       "      <td>3903794</td>\n",
       "      <td>5</td>\n",
       "    </tr>\n",
       "    <tr>\n",
       "      <th>4</th>\n",
       "      <td>99</td>\n",
       "      <td>Other Commodities</td>\n",
       "      <td>Na</td>\n",
       "      <td>2035</td>\n",
       "      <td>Benin</td>\n",
       "      <td>3903794</td>\n",
       "      <td>2</td>\n",
       "    </tr>\n",
       "    <tr>\n",
       "      <th>...</th>\n",
       "      <td>...</td>\n",
       "      <td>...</td>\n",
       "      <td>...</td>\n",
       "      <td>...</td>\n",
       "      <td>...</td>\n",
       "      <td>...</td>\n",
       "      <td>...</td>\n",
       "    </tr>\n",
       "    <tr>\n",
       "      <th>20839</th>\n",
       "      <td>S6</td>\n",
       "      <td>Petroleum Products</td>\n",
       "      <td>Ton</td>\n",
       "      <td>15430</td>\n",
       "      <td>Uzbekistan</td>\n",
       "      <td>2</td>\n",
       "      <td>0</td>\n",
       "    </tr>\n",
       "    <tr>\n",
       "      <th>20840</th>\n",
       "      <td>S6</td>\n",
       "      <td>Petroleum Products</td>\n",
       "      <td>Ton</td>\n",
       "      <td>16095</td>\n",
       "      <td>Cyprus</td>\n",
       "      <td>36194</td>\n",
       "      <td>20</td>\n",
       "    </tr>\n",
       "    <tr>\n",
       "      <th>20841</th>\n",
       "      <td>S6</td>\n",
       "      <td>Petroleum Products</td>\n",
       "      <td>Ton</td>\n",
       "      <td>16151</td>\n",
       "      <td>Gibraltar</td>\n",
       "      <td>2920254</td>\n",
       "      <td>1285</td>\n",
       "    </tr>\n",
       "    <tr>\n",
       "      <th>20842</th>\n",
       "      <td>S6</td>\n",
       "      <td>Petroleum Products</td>\n",
       "      <td>Ton</td>\n",
       "      <td>16251</td>\n",
       "      <td>Malta</td>\n",
       "      <td>68267</td>\n",
       "      <td>24</td>\n",
       "    </tr>\n",
       "    <tr>\n",
       "      <th>20843</th>\n",
       "      <td>S6</td>\n",
       "      <td>Petroleum Products</td>\n",
       "      <td>Ton</td>\n",
       "      <td>16409</td>\n",
       "      <td>Turkey</td>\n",
       "      <td>2832785</td>\n",
       "      <td>1225</td>\n",
       "    </tr>\n",
       "  </tbody>\n",
       "</table>\n",
       "<p>20844 rows × 7 columns</p>\n",
       "</div>"
      ],
      "text/plain": [
       "      pc_code      pc_description unit  country_code  country_name  quantity  \\\n",
       "0          99   Other Commodities   Na           599   Unspecified   3903794   \n",
       "1          99   Other Commodities   Na          1213         Kenya   3903794   \n",
       "2          99   Other Commodities   Na          1395  Tanzania Rep   3903794   \n",
       "3          99   Other Commodities   Na          1417        Uganda   3903794   \n",
       "4          99   Other Commodities   Na          2035         Benin   3903794   \n",
       "...       ...                 ...  ...           ...           ...       ...   \n",
       "20839      S6  Petroleum Products  Ton         15430    Uzbekistan         2   \n",
       "20840      S6  Petroleum Products  Ton         16095        Cyprus     36194   \n",
       "20841      S6  Petroleum Products  Ton         16151     Gibraltar   2920254   \n",
       "20842      S6  Petroleum Products  Ton         16251         Malta     68267   \n",
       "20843      S6  Petroleum Products  Ton         16409        Turkey   2832785   \n",
       "\n",
       "       value  \n",
       "0        270  \n",
       "1         17  \n",
       "2          8  \n",
       "3          5  \n",
       "4          2  \n",
       "...      ...  \n",
       "20839      0  \n",
       "20840     20  \n",
       "20841   1285  \n",
       "20842     24  \n",
       "20843   1225  \n",
       "\n",
       "[20844 rows x 7 columns]"
      ]
     },
     "metadata": {},
     "output_type": "display_data"
    }
   ],
   "source": [
    "dc['quantity'] = dc['quantity'].astype(int)\n",
    "dc['value'] = dc['value'].astype(int)\n",
    "display(dc)"
   ]
  },
  {
   "cell_type": "code",
   "execution_count": 49,
   "metadata": {
    "colab": {
     "base_uri": "https://localhost:8080/"
    },
    "id": "b46-crUxvfHA",
    "outputId": "4368fc37-796c-4c84-ff13-15f5da641c37"
   },
   "outputs": [
    {
     "name": "stdout",
     "output_type": "stream",
     "text": [
      "(20844, 7)\n"
     ]
    }
   ],
   "source": [
    "print(dc.shape)"
   ]
  },
  {
   "cell_type": "markdown",
   "metadata": {
    "id": "GFG2PEZ39_ya"
   },
   "source": [
    "Check Nilai Null setelah dilakukan data cleaning"
   ]
  },
  {
   "cell_type": "code",
   "execution_count": 50,
   "metadata": {
    "colab": {
     "base_uri": "https://localhost:8080/"
    },
    "id": "wnXkNKoEv0Le",
    "outputId": "a588a72f-50e4-4931-f78d-409de5ee5fb1"
   },
   "outputs": [
    {
     "data": {
      "text/plain": [
       "pc_code           0\n",
       "pc_description    0\n",
       "unit              0\n",
       "country_code      0\n",
       "country_name      0\n",
       "quantity          0\n",
       "value             0\n",
       "dtype: int64"
      ]
     },
     "execution_count": 50,
     "metadata": {},
     "output_type": "execute_result"
    }
   ],
   "source": [
    "dc.isnull().sum()"
   ]
  },
  {
   "cell_type": "code",
   "execution_count": 51,
   "metadata": {},
   "outputs": [
    {
     "data": {
      "text/html": [
       "<div>\n",
       "<style scoped>\n",
       "    .dataframe tbody tr th:only-of-type {\n",
       "        vertical-align: middle;\n",
       "    }\n",
       "\n",
       "    .dataframe tbody tr th {\n",
       "        vertical-align: top;\n",
       "    }\n",
       "\n",
       "    .dataframe thead th {\n",
       "        text-align: right;\n",
       "    }\n",
       "</style>\n",
       "<table border=\"1\" class=\"dataframe\">\n",
       "  <thead>\n",
       "    <tr style=\"text-align: right;\">\n",
       "      <th></th>\n",
       "      <th>Total</th>\n",
       "      <th>Missing Percent</th>\n",
       "    </tr>\n",
       "  </thead>\n",
       "  <tbody>\n",
       "  </tbody>\n",
       "</table>\n",
       "</div>"
      ],
      "text/plain": [
       "Empty DataFrame\n",
       "Columns: [Total, Missing Percent]\n",
       "Index: []"
      ]
     },
     "execution_count": 51,
     "metadata": {},
     "output_type": "execute_result"
    }
   ],
   "source": [
    "total = dc.isnull().sum().sort_values(ascending=False)\n",
    "\n",
    "percent = (dc.isnull().sum()/dc.isnull().count())\\\n",
    ".sort_values(ascending=False)\n",
    "\n",
    "missing_data = pd.concat([total, percent], axis=1, \\\n",
    "                        keys=['Total', 'Missing Percent'])\n",
    "\n",
    "missing_data['Missing Percent'] = \\\n",
    "missing_data['Missing Percent'].apply(lambda x: x * 100)\n",
    "\n",
    "missing_data.loc[missing_data['Missing Percent'] > 10][:10]"
   ]
  },
  {
   "cell_type": "markdown",
   "metadata": {},
   "source": [
    "Mengubah nilai attibut yang bernilai negatif menjadi nol."
   ]
  },
  {
   "cell_type": "code",
   "execution_count": 52,
   "metadata": {},
   "outputs": [],
   "source": [
    "dc['quantity'] = dc['quantity'].apply(lambda x : x if x > 0 else 0)"
   ]
  },
  {
   "cell_type": "code",
   "execution_count": 53,
   "metadata": {
    "scrolled": true
   },
   "outputs": [
    {
     "data": {
      "text/plain": [
       "pc_code               0\n",
       "pc_description        0\n",
       "unit                  0\n",
       "country_code          0\n",
       "country_name          0\n",
       "quantity            517\n",
       "value             13277\n",
       "dtype: int64"
      ]
     },
     "execution_count": 53,
     "metadata": {},
     "output_type": "execute_result"
    }
   ],
   "source": [
    "(dc == 0).astype(int).sum(axis=0)"
   ]
  },
  {
   "cell_type": "code",
   "execution_count": 54,
   "metadata": {},
   "outputs": [
    {
     "data": {
      "text/plain": [
       "count    2.084400e+04\n",
       "mean     3.449267e+06\n",
       "std      2.154227e+07\n",
       "min      0.000000e+00\n",
       "25%      6.826500e+03\n",
       "50%      3.903794e+06\n",
       "75%      3.903794e+06\n",
       "max      1.581681e+09\n",
       "Name: quantity, dtype: float64"
      ]
     },
     "execution_count": 54,
     "metadata": {},
     "output_type": "execute_result"
    }
   ],
   "source": [
    "dc['quantity'].describe()"
   ]
  },
  {
   "cell_type": "code",
   "execution_count": 55,
   "metadata": {},
   "outputs": [],
   "source": [
    "dc['quantity'] = dc['quantity'].apply(lambda x: random.uniform(1, 5) if x == 0 else x)"
   ]
  },
  {
   "cell_type": "code",
   "execution_count": 56,
   "metadata": {},
   "outputs": [],
   "source": [
    "dc['value'] = dc['value'].apply(lambda x: random.uniform(1, 5) if x == 0 else x)"
   ]
  },
  {
   "cell_type": "code",
   "execution_count": 57,
   "metadata": {},
   "outputs": [
    {
     "data": {
      "text/plain": [
       "pc_code           0\n",
       "pc_description    0\n",
       "unit              0\n",
       "country_code      0\n",
       "country_name      0\n",
       "quantity          0\n",
       "value             0\n",
       "dtype: int64"
      ]
     },
     "execution_count": 57,
     "metadata": {},
     "output_type": "execute_result"
    }
   ],
   "source": [
    "(dc == 0).astype(int).sum(axis=0)"
   ]
  },
  {
   "cell_type": "markdown",
   "metadata": {},
   "source": [
    "Memilih dua variabel dari data - \"Quantity\" dan \"Value\", dan visualisasikan poin datanya."
   ]
  },
  {
   "cell_type": "code",
   "execution_count": 58,
   "metadata": {},
   "outputs": [
    {
     "data": {
      "image/png": "[encoded data removed]",
      "text/plain": [
       "<Figure size 864x432 with 1 Axes>"
      ]
     },
     "metadata": {
      "needs_background": "light"
     },
     "output_type": "display_data"
    }
   ],
   "source": [
    "X = dc[[\"quantity\", \"value\"]]\n",
    "\n",
    "#Visualise data points\n",
    "plt.figure(figsize=(12,6))\n",
    "plt.scatter(X[\"quantity\"], X[\"value\"])\n",
    "plt.xlabel('Quantity')\n",
    "plt.ylabel('Value')\n",
    "plt.show()"
   ]
  },
  {
   "cell_type": "markdown",
   "metadata": {},
   "source": [
    "Memilih jumlah cluster (k) dan memilih centroid acak untuk setiap cluster. Kami memilih 2 cluster dan kemudian memilih observasi acak dari data sebagai centroid."
   ]
  },
  {
   "cell_type": "code",
   "execution_count": 62,
   "metadata": {},
   "outputs": [],
   "source": [
    "dc['quantity'] = dc['quantity'].apply(lambda x: random.uniform(1, 5) if x > 5 else x)"
   ]
  },
  {
   "cell_type": "code",
   "execution_count": 63,
   "metadata": {},
   "outputs": [
    {
     "data": {
      "image/png": "[encoded data removed]",
      "text/plain": [
       "<Figure size 864x432 with 1 Axes>"
      ]
     },
     "metadata": {
      "needs_background": "light"
     },
     "output_type": "display_data"
    }
   ],
   "source": [
    "#number of clusters\n",
    "K=2\n",
    "\n",
    "#Select random observation as centroids\n",
    "Centroids = (X.sample(n=K))\n",
    "plt.figure(figsize=(12,6))\n",
    "plt.scatter(X[\"quantity\"], X[\"value\"])\n",
    "plt.scatter(Centroids[\"quantity\"], Centroids[\"value\"], c='red')\n",
    "plt.xlabel('Quantity')\n",
    "plt.ylabel('Value')\n",
    "plt.show()"
   ]
  },
  {
   "cell_type": "markdown",
   "metadata": {},
   "source": [
    "Nilai-nilai ini mungkin berbeda setiap kali kami menjalankan ini. Di sini, kami menghentikan pelatihan ketika sentroid tidak berubah setelah dua iterasi. Kami awalnya mendefinisikan diff sebagai 1 dan di dalam while loop, kami menghitung perbedaan ini sebagai perbedaan antara sentroid pada iterasi sebelumnya dan iterasi saat ini. Jika selisihnya adalah 0, kami menghentikan pelatihan."
   ]
  },
  {
   "cell_type": "code",
   "execution_count": 64,
   "metadata": {},
   "outputs": [
    {
     "name": "stderr",
     "output_type": "stream",
     "text": [
      "<ipython-input-64-1b41103d0a25>:13: SettingWithCopyWarning: \n",
      "A value is trying to be set on a copy of a slice from a DataFrame.\n",
      "Try using .loc[row_indexer,col_indexer] = value instead\n",
      "\n",
      "See the caveats in the documentation: https://pandas.pydata.org/pandas-docs/stable/user_guide/indexing.html#returning-a-view-versus-a-copy\n",
      "  X[i]=ED\n",
      "<ipython-input-64-1b41103d0a25>:25: SettingWithCopyWarning: \n",
      "A value is trying to be set on a copy of a slice from a DataFrame.\n",
      "Try using .loc[row_indexer,col_indexer] = value instead\n",
      "\n",
      "See the caveats in the documentation: https://pandas.pydata.org/pandas-docs/stable/user_guide/indexing.html#returning-a-view-versus-a-copy\n",
      "  X[\"Cluster\"]= C\n"
     ]
    },
    {
     "name": "stdout",
     "output_type": "stream",
     "text": [
      "0.0\n"
     ]
    }
   ],
   "source": [
    "diff = 1\n",
    "j=0\n",
    "while(diff!=0):\n",
    "    XD=X\n",
    "    i=1\n",
    "    for index1, row_c in Centroids.iterrows():\n",
    "        ED=[]\n",
    "        for index2, row_d in XD.iterrows():\n",
    "            d1=(row_c[\"quantity\"]-  row_d[\"quantity\"])**2\n",
    "            d2=(row_c[\"value\"]- row_d[\"value\"])**2\n",
    "            d=np.sqrt(d1+d2)\n",
    "            ED.append(d)\n",
    "        X[i]=ED\n",
    "        i=i+1\n",
    "        \n",
    "    C=[]\n",
    "    for index, row in X.iterrows():\n",
    "        min_dist=row[1]\n",
    "        pos=1\n",
    "        for i in range(K):\n",
    "            if row[i+1] < min_dist:\n",
    "                min_dist = row[i+1]\n",
    "                pos=i+1\n",
    "        C.append(pos)\n",
    "    X[\"Cluster\"]= C\n",
    "    Centroids_new = X.groupby([\"Cluster\"]).mean()[[\"value\",\"quantity\"]]\n",
    "    \n",
    "    if j==0:\n",
    "        diff=1\n",
    "        j=j+1\n",
    "    else:\n",
    "        diff = (Centroids_new['quantity'] - Centroids_new['quantity']).sum() + (Centroids_new['quantity'] - Centroids_new['quantity']).sum()\n",
    "        print(diff.sum())\n",
    "    Centroids = X.groupby([\"Cluster\"]).mean()[[\"quantity\",\"value\"]]"
   ]
  },
  {
   "cell_type": "code",
   "execution_count": 65,
   "metadata": {},
   "outputs": [
    {
     "data": {
      "image/png": "[encoded data removed]",
      "text/plain": [
       "<Figure size 864x432 with 1 Axes>"
      ]
     },
     "metadata": {
      "needs_background": "light"
     },
     "output_type": "display_data"
    }
   ],
   "source": [
    "color=['#ff3333', '#333bff']\n",
    "plt.figure(figsize=(12,6))\n",
    "\n",
    "for k in range(K):\n",
    "    data=X[X[\"Cluster\"]==k+1]\n",
    "    plt.scatter(data[\"quantity\"], data[\"value\"], c=color[k])\n",
    "plt.scatter(Centroids[\"quantity\"], Centroids[\"value\"], c='red')\n",
    "plt.xlabel('Quantity')\n",
    "plt.ylabel('Value')\n",
    "plt.show()"
   ]
  },
  {
   "cell_type": "code",
   "execution_count": 66,
   "metadata": {},
   "outputs": [
    {
     "data": {
      "text/html": [
       "<div>\n",
       "<style scoped>\n",
       "    .dataframe tbody tr th:only-of-type {\n",
       "        vertical-align: middle;\n",
       "    }\n",
       "\n",
       "    .dataframe tbody tr th {\n",
       "        vertical-align: top;\n",
       "    }\n",
       "\n",
       "    .dataframe thead th {\n",
       "        text-align: right;\n",
       "    }\n",
       "</style>\n",
       "<table border=\"1\" class=\"dataframe\">\n",
       "  <thead>\n",
       "    <tr style=\"text-align: right;\">\n",
       "      <th></th>\n",
       "      <th>pc_code</th>\n",
       "      <th>pc_description</th>\n",
       "      <th>unit</th>\n",
       "      <th>country_code</th>\n",
       "      <th>country_name</th>\n",
       "      <th>quantity</th>\n",
       "      <th>value</th>\n",
       "    </tr>\n",
       "  </thead>\n",
       "  <tbody>\n",
       "    <tr>\n",
       "      <th>0</th>\n",
       "      <td>99</td>\n",
       "      <td>Other Commodities</td>\n",
       "      <td>Na</td>\n",
       "      <td>599</td>\n",
       "      <td>Unspecified</td>\n",
       "      <td>3.604302</td>\n",
       "      <td>270.0</td>\n",
       "    </tr>\n",
       "    <tr>\n",
       "      <th>1</th>\n",
       "      <td>99</td>\n",
       "      <td>Other Commodities</td>\n",
       "      <td>Na</td>\n",
       "      <td>1213</td>\n",
       "      <td>Kenya</td>\n",
       "      <td>2.216091</td>\n",
       "      <td>17.0</td>\n",
       "    </tr>\n",
       "    <tr>\n",
       "      <th>2</th>\n",
       "      <td>99</td>\n",
       "      <td>Other Commodities</td>\n",
       "      <td>Na</td>\n",
       "      <td>1395</td>\n",
       "      <td>Tanzania Rep</td>\n",
       "      <td>4.530124</td>\n",
       "      <td>8.0</td>\n",
       "    </tr>\n",
       "    <tr>\n",
       "      <th>3</th>\n",
       "      <td>99</td>\n",
       "      <td>Other Commodities</td>\n",
       "      <td>Na</td>\n",
       "      <td>1417</td>\n",
       "      <td>Uganda</td>\n",
       "      <td>1.916113</td>\n",
       "      <td>5.0</td>\n",
       "    </tr>\n",
       "    <tr>\n",
       "      <th>4</th>\n",
       "      <td>99</td>\n",
       "      <td>Other Commodities</td>\n",
       "      <td>Na</td>\n",
       "      <td>2035</td>\n",
       "      <td>Benin</td>\n",
       "      <td>1.553441</td>\n",
       "      <td>2.0</td>\n",
       "    </tr>\n",
       "  </tbody>\n",
       "</table>\n",
       "</div>"
      ],
      "text/plain": [
       "  pc_code     pc_description unit  country_code  country_name  quantity  value\n",
       "0      99  Other Commodities   Na           599   Unspecified  3.604302  270.0\n",
       "1      99  Other Commodities   Na          1213         Kenya  2.216091   17.0\n",
       "2      99  Other Commodities   Na          1395  Tanzania Rep  4.530124    8.0\n",
       "3      99  Other Commodities   Na          1417        Uganda  1.916113    5.0\n",
       "4      99  Other Commodities   Na          2035         Benin  1.553441    2.0"
      ]
     },
     "execution_count": 66,
     "metadata": {},
     "output_type": "execute_result"
    }
   ],
   "source": [
    "# reading the data and looking at the first five rows of the data\n",
    "dc.head()"
   ]
  },
  {
   "cell_type": "code",
   "execution_count": 67,
   "metadata": {},
   "outputs": [
    {
     "data": {
      "text/html": [
       "<div>\n",
       "<style scoped>\n",
       "    .dataframe tbody tr th:only-of-type {\n",
       "        vertical-align: middle;\n",
       "    }\n",
       "\n",
       "    .dataframe tbody tr th {\n",
       "        vertical-align: top;\n",
       "    }\n",
       "\n",
       "    .dataframe thead th {\n",
       "        text-align: right;\n",
       "    }\n",
       "</style>\n",
       "<table border=\"1\" class=\"dataframe\">\n",
       "  <thead>\n",
       "    <tr style=\"text-align: right;\">\n",
       "      <th></th>\n",
       "      <th>quantity</th>\n",
       "      <th>value</th>\n",
       "    </tr>\n",
       "  </thead>\n",
       "  <tbody>\n",
       "    <tr>\n",
       "      <th>count</th>\n",
       "      <td>3.850000e+02</td>\n",
       "      <td>385.000000</td>\n",
       "    </tr>\n",
       "    <tr>\n",
       "      <th>mean</th>\n",
       "      <td>6.748692e+07</td>\n",
       "      <td>93.218368</td>\n",
       "    </tr>\n",
       "    <tr>\n",
       "      <th>std</th>\n",
       "      <td>1.442222e+08</td>\n",
       "      <td>382.377511</td>\n",
       "    </tr>\n",
       "    <tr>\n",
       "      <th>min</th>\n",
       "      <td>9.649117e+06</td>\n",
       "      <td>1.000000</td>\n",
       "    </tr>\n",
       "    <tr>\n",
       "      <th>25%</th>\n",
       "      <td>1.385196e+07</td>\n",
       "      <td>10.000000</td>\n",
       "    </tr>\n",
       "    <tr>\n",
       "      <th>50%</th>\n",
       "      <td>2.187693e+07</td>\n",
       "      <td>26.000000</td>\n",
       "    </tr>\n",
       "    <tr>\n",
       "      <th>75%</th>\n",
       "      <td>5.220394e+07</td>\n",
       "      <td>69.000000</td>\n",
       "    </tr>\n",
       "    <tr>\n",
       "      <th>max</th>\n",
       "      <td>1.581681e+09</td>\n",
       "      <td>5071.000000</td>\n",
       "    </tr>\n",
       "  </tbody>\n",
       "</table>\n",
       "</div>"
      ],
      "text/plain": [
       "           quantity        value\n",
       "count  3.850000e+02   385.000000\n",
       "mean   6.748692e+07    93.218368\n",
       "std    1.442222e+08   382.377511\n",
       "min    9.649117e+06     1.000000\n",
       "25%    1.385196e+07    10.000000\n",
       "50%    2.187693e+07    26.000000\n",
       "75%    5.220394e+07    69.000000\n",
       "max    1.581681e+09  5071.000000"
      ]
     },
     "execution_count": 67,
     "metadata": {},
     "output_type": "execute_result"
    }
   ],
   "source": [
    "sltd_data = data[[\"quantity\", \"value\"]]\n",
    "\n",
    "# statistics of the data\n",
    "sltd_data.describe()"
   ]
  },
  {
   "cell_type": "code",
   "execution_count": 68,
   "metadata": {},
   "outputs": [
    {
     "data": {
      "text/html": [
       "<div>\n",
       "<style scoped>\n",
       "    .dataframe tbody tr th:only-of-type {\n",
       "        vertical-align: middle;\n",
       "    }\n",
       "\n",
       "    .dataframe tbody tr th {\n",
       "        vertical-align: top;\n",
       "    }\n",
       "\n",
       "    .dataframe thead th {\n",
       "        text-align: right;\n",
       "    }\n",
       "</style>\n",
       "<table border=\"1\" class=\"dataframe\">\n",
       "  <thead>\n",
       "    <tr style=\"text-align: right;\">\n",
       "      <th></th>\n",
       "      <th>0</th>\n",
       "      <th>1</th>\n",
       "    </tr>\n",
       "  </thead>\n",
       "  <tbody>\n",
       "    <tr>\n",
       "      <th>count</th>\n",
       "      <td>3.850000e+02</td>\n",
       "      <td>3.850000e+02</td>\n",
       "    </tr>\n",
       "    <tr>\n",
       "      <th>mean</th>\n",
       "      <td>-9.501779e-17</td>\n",
       "      <td>-9.227828e-18</td>\n",
       "    </tr>\n",
       "    <tr>\n",
       "      <th>std</th>\n",
       "      <td>1.001301e+00</td>\n",
       "      <td>1.001301e+00</td>\n",
       "    </tr>\n",
       "    <tr>\n",
       "      <th>min</th>\n",
       "      <td>-4.015545e-01</td>\n",
       "      <td>-2.414848e-01</td>\n",
       "    </tr>\n",
       "    <tr>\n",
       "      <th>25%</th>\n",
       "      <td>-3.723751e-01</td>\n",
       "      <td>-2.179172e-01</td>\n",
       "    </tr>\n",
       "    <tr>\n",
       "      <th>50%</th>\n",
       "      <td>-3.166596e-01</td>\n",
       "      <td>-1.760193e-01</td>\n",
       "    </tr>\n",
       "    <tr>\n",
       "      <th>75%</th>\n",
       "      <td>-1.061062e-01</td>\n",
       "      <td>-6.341869e-02</td>\n",
       "    </tr>\n",
       "    <tr>\n",
       "      <th>max</th>\n",
       "      <td>1.051270e+01</td>\n",
       "      <td>1.303492e+01</td>\n",
       "    </tr>\n",
       "  </tbody>\n",
       "</table>\n",
       "</div>"
      ],
      "text/plain": [
       "                  0             1\n",
       "count  3.850000e+02  3.850000e+02\n",
       "mean  -9.501779e-17 -9.227828e-18\n",
       "std    1.001301e+00  1.001301e+00\n",
       "min   -4.015545e-01 -2.414848e-01\n",
       "25%   -3.723751e-01 -2.179172e-01\n",
       "50%   -3.166596e-01 -1.760193e-01\n",
       "75%   -1.061062e-01 -6.341869e-02\n",
       "max    1.051270e+01  1.303492e+01"
      ]
     },
     "execution_count": 68,
     "metadata": {},
     "output_type": "execute_result"
    }
   ],
   "source": [
    "#standardizing the data\n",
    "from sklearn.preprocessing import StandardScaler\n",
    "scaler = StandardScaler()\n",
    "data_scaled = scaler.fit_transform(sltd_data)\n",
    "\n",
    "#statistics of scaled data\n",
    "pd.DataFrame(data_scaled).describe()"
   ]
  },
  {
   "cell_type": "code",
   "execution_count": 69,
   "metadata": {},
   "outputs": [
    {
     "data": {
      "text/plain": [
       "(-1.0, 10.0)"
      ]
     },
     "execution_count": 69,
     "metadata": {},
     "output_type": "execute_result"
    },
    {
     "data": {
      "image/png": "[encoded data removed]",
      "text/plain": [
       "<Figure size 864x432 with 1 Axes>"
      ]
     },
     "metadata": {
      "needs_background": "light"
     },
     "output_type": "display_data"
    }
   ],
   "source": [
    "# create scatter plot\n",
    "plt.figure(figsize=(12,6))\n",
    "plt.scatter(data_scaled[:,0], data_scaled[:,1])\n",
    "plt.xlim(-1,10)\n",
    "plt.ylim(-1,10)"
   ]
  },
  {
   "cell_type": "code",
   "execution_count": 141,
   "metadata": {},
   "outputs": [
    {
     "data": {
      "text/plain": [
       "KMeans(init='random', n_clusters=2)"
      ]
     },
     "execution_count": 141,
     "metadata": {},
     "output_type": "execute_result"
    }
   ],
   "source": [
    "# defining the kmeans function with initialization as random\n",
    "kmeans = KMeans(n_clusters=2, init='random')\n",
    "\n",
    "#fitting the k means algorithm on scaled data\n",
    "kmeans.fit(data_scaled)"
   ]
  },
  {
   "cell_type": "code",
   "execution_count": 142,
   "metadata": {},
   "outputs": [],
   "source": [
    "#save new clusters for chart\n",
    "y_km = kmeans.fit_predict(data_scaled)"
   ]
  },
  {
   "cell_type": "code",
   "execution_count": 144,
   "metadata": {},
   "outputs": [
    {
     "data": {
      "text/plain": [
       "(-2.0, 15.0)"
      ]
     },
     "execution_count": 144,
     "metadata": {},
     "output_type": "execute_result"
    },
    {
     "data": {
      "image/png": "[encoded data removed]",
      "text/plain": [
       "<Figure size 864x432 with 1 Axes>"
      ]
     },
     "metadata": {
      "needs_background": "light"
     },
     "output_type": "display_data"
    }
   ],
   "source": [
    "#create scatter plot\n",
    "plt.figure(figsize=(12,6))\n",
    "plt.scatter(data_scaled[y_km ==0,0], data_scaled[y_km == 0,1], c='#ff3333')\n",
    "plt.scatter(data_scaled[y_km ==1,0], data_scaled[y_km == 1,1], c='#333bff')\n",
    "\n",
    "plt.xlim(-1,12)\n",
    "plt.ylim(-2,15)"
   ]
  },
  {
   "cell_type": "code",
   "execution_count": 145,
   "metadata": {},
   "outputs": [
    {
     "data": {
      "text/plain": [
       "482.98117918508757"
      ]
     },
     "execution_count": 145,
     "metadata": {},
     "output_type": "execute_result"
    }
   ],
   "source": [
    "# inertia on the fitted data\n",
    "kmeans.inertia_"
   ]
  },
  {
   "cell_type": "code",
   "execution_count": 146,
   "metadata": {
    "scrolled": false
   },
   "outputs": [
    {
     "name": "stderr",
     "output_type": "stream",
     "text": [
      "C:\\Users\\Anonymous\\anaconda3\\lib\\site-packages\\sklearn\\cluster\\_kmeans.py:973: FutureWarning: 'n_jobs' was deprecated in version 0.23 and will be removed in 0.25.\n",
      "  warnings.warn(\"'n_jobs' was deprecated in version 0.23 and will be\"\n",
      "C:\\Users\\Anonymous\\anaconda3\\lib\\site-packages\\sklearn\\cluster\\_kmeans.py:973: FutureWarning: 'n_jobs' was deprecated in version 0.23 and will be removed in 0.25.\n",
      "  warnings.warn(\"'n_jobs' was deprecated in version 0.23 and will be\"\n",
      "C:\\Users\\Anonymous\\anaconda3\\lib\\site-packages\\sklearn\\cluster\\_kmeans.py:973: FutureWarning: 'n_jobs' was deprecated in version 0.23 and will be removed in 0.25.\n",
      "  warnings.warn(\"'n_jobs' was deprecated in version 0.23 and will be\"\n",
      "C:\\Users\\Anonymous\\anaconda3\\lib\\site-packages\\sklearn\\cluster\\_kmeans.py:973: FutureWarning: 'n_jobs' was deprecated in version 0.23 and will be removed in 0.25.\n",
      "  warnings.warn(\"'n_jobs' was deprecated in version 0.23 and will be\"\n",
      "C:\\Users\\Anonymous\\anaconda3\\lib\\site-packages\\sklearn\\cluster\\_kmeans.py:973: FutureWarning: 'n_jobs' was deprecated in version 0.23 and will be removed in 0.25.\n",
      "  warnings.warn(\"'n_jobs' was deprecated in version 0.23 and will be\"\n",
      "C:\\Users\\Anonymous\\anaconda3\\lib\\site-packages\\sklearn\\cluster\\_kmeans.py:973: FutureWarning: 'n_jobs' was deprecated in version 0.23 and will be removed in 0.25.\n",
      "  warnings.warn(\"'n_jobs' was deprecated in version 0.23 and will be\"\n",
      "C:\\Users\\Anonymous\\anaconda3\\lib\\site-packages\\sklearn\\cluster\\_kmeans.py:973: FutureWarning: 'n_jobs' was deprecated in version 0.23 and will be removed in 0.25.\n",
      "  warnings.warn(\"'n_jobs' was deprecated in version 0.23 and will be\"\n",
      "C:\\Users\\Anonymous\\anaconda3\\lib\\site-packages\\sklearn\\cluster\\_kmeans.py:973: FutureWarning: 'n_jobs' was deprecated in version 0.23 and will be removed in 0.25.\n",
      "  warnings.warn(\"'n_jobs' was deprecated in version 0.23 and will be\"\n",
      "C:\\Users\\Anonymous\\anaconda3\\lib\\site-packages\\sklearn\\cluster\\_kmeans.py:973: FutureWarning: 'n_jobs' was deprecated in version 0.23 and will be removed in 0.25.\n",
      "  warnings.warn(\"'n_jobs' was deprecated in version 0.23 and will be\"\n",
      "C:\\Users\\Anonymous\\anaconda3\\lib\\site-packages\\sklearn\\cluster\\_kmeans.py:973: FutureWarning: 'n_jobs' was deprecated in version 0.23 and will be removed in 0.25.\n",
      "  warnings.warn(\"'n_jobs' was deprecated in version 0.23 and will be\"\n",
      "C:\\Users\\Anonymous\\anaconda3\\lib\\site-packages\\sklearn\\cluster\\_kmeans.py:973: FutureWarning: 'n_jobs' was deprecated in version 0.23 and will be removed in 0.25.\n",
      "  warnings.warn(\"'n_jobs' was deprecated in version 0.23 and will be\"\n",
      "C:\\Users\\Anonymous\\anaconda3\\lib\\site-packages\\sklearn\\cluster\\_kmeans.py:973: FutureWarning: 'n_jobs' was deprecated in version 0.23 and will be removed in 0.25.\n",
      "  warnings.warn(\"'n_jobs' was deprecated in version 0.23 and will be\"\n",
      "C:\\Users\\Anonymous\\anaconda3\\lib\\site-packages\\sklearn\\cluster\\_kmeans.py:973: FutureWarning: 'n_jobs' was deprecated in version 0.23 and will be removed in 0.25.\n",
      "  warnings.warn(\"'n_jobs' was deprecated in version 0.23 and will be\"\n",
      "C:\\Users\\Anonymous\\anaconda3\\lib\\site-packages\\sklearn\\cluster\\_kmeans.py:973: FutureWarning: 'n_jobs' was deprecated in version 0.23 and will be removed in 0.25.\n",
      "  warnings.warn(\"'n_jobs' was deprecated in version 0.23 and will be\"\n",
      "C:\\Users\\Anonymous\\anaconda3\\lib\\site-packages\\sklearn\\cluster\\_kmeans.py:973: FutureWarning: 'n_jobs' was deprecated in version 0.23 and will be removed in 0.25.\n",
      "  warnings.warn(\"'n_jobs' was deprecated in version 0.23 and will be\"\n",
      "C:\\Users\\Anonymous\\anaconda3\\lib\\site-packages\\sklearn\\cluster\\_kmeans.py:973: FutureWarning: 'n_jobs' was deprecated in version 0.23 and will be removed in 0.25.\n",
      "  warnings.warn(\"'n_jobs' was deprecated in version 0.23 and will be\"\n",
      "C:\\Users\\Anonymous\\anaconda3\\lib\\site-packages\\sklearn\\cluster\\_kmeans.py:973: FutureWarning: 'n_jobs' was deprecated in version 0.23 and will be removed in 0.25.\n",
      "  warnings.warn(\"'n_jobs' was deprecated in version 0.23 and will be\"\n",
      "C:\\Users\\Anonymous\\anaconda3\\lib\\site-packages\\sklearn\\cluster\\_kmeans.py:973: FutureWarning: 'n_jobs' was deprecated in version 0.23 and will be removed in 0.25.\n",
      "  warnings.warn(\"'n_jobs' was deprecated in version 0.23 and will be\"\n",
      "C:\\Users\\Anonymous\\anaconda3\\lib\\site-packages\\sklearn\\cluster\\_kmeans.py:973: FutureWarning: 'n_jobs' was deprecated in version 0.23 and will be removed in 0.25.\n",
      "  warnings.warn(\"'n_jobs' was deprecated in version 0.23 and will be\"\n"
     ]
    },
    {
     "data": {
      "text/plain": [
       "Text(0, 0.5, 'Inertia')"
      ]
     },
     "execution_count": 146,
     "metadata": {},
     "output_type": "execute_result"
    },
    {
     "data": {
      "image/png": "[encoded data removed]",
      "text/plain": [
       "<Figure size 864x432 with 1 Axes>"
      ]
     },
     "metadata": {
      "needs_background": "light"
     },
     "output_type": "display_data"
    }
   ],
   "source": [
    "# fitting multiple k-means algorithms and storing the values in an empty list\n",
    "SSE = []\n",
    "for cluster in range(1,20):\n",
    "    kmeans = KMeans(n_jobs=-1, n_clusters = cluster, init='random') \n",
    "    kmeans.fit(data_scaled)\n",
    "    SSE.append(kmeans.inertia_)\n",
    "\n",
    "# converting the results into a dataframe and plotting them\n",
    "frame = pd.DataFrame({'Cluster':range(1,20), 'SSE':SSE})\n",
    "plt.figure(figsize=(12,6))\n",
    "plt.plot(frame['Cluster'], frame['SSE'], marker='o')\n",
    "plt.xlabel('Number of clusters')\n",
    "plt.ylabel('Inertia')"
   ]
  },
  {
   "cell_type": "code",
   "execution_count": 147,
   "metadata": {},
   "outputs": [
    {
     "name": "stderr",
     "output_type": "stream",
     "text": [
      "C:\\Users\\Anonymous\\anaconda3\\lib\\site-packages\\sklearn\\cluster\\_kmeans.py:973: FutureWarning: 'n_jobs' was deprecated in version 0.23 and will be removed in 0.25.\n",
      "  warnings.warn(\"'n_jobs' was deprecated in version 0.23 and will be\"\n"
     ]
    }
   ],
   "source": [
    "# k means using 3 clusters and random initialization\n",
    "kmeans = KMeans(n_jobs=-1, n_clusters = 3, init='random') \n",
    "kmeans.fit(data_scaled)\n",
    "pred = kmeans.predict(data_scaled)"
   ]
  },
  {
   "cell_type": "code",
   "execution_count": 148,
   "metadata": {
    "scrolled": true
   },
   "outputs": [
    {
     "data": {
      "text/plain": [
       "2    372\n",
       "0     11\n",
       "1      2\n",
       "Name: cluster, dtype: int64"
      ]
     },
     "execution_count": 148,
     "metadata": {},
     "output_type": "execute_result"
    }
   ],
   "source": [
    "frame= pd.DataFrame(data_scaled)\n",
    "frame['cluster'] = pred\n",
    "frame['cluster'].value_counts()"
   ]
  },
  {
   "cell_type": "code",
   "execution_count": 149,
   "metadata": {},
   "outputs": [
    {
     "data": {
      "text/plain": [
       "196.00116101275637"
      ]
     },
     "execution_count": 149,
     "metadata": {},
     "output_type": "execute_result"
    }
   ],
   "source": [
    "# inertia on the fitted data\n",
    "kmeans.inertia_"
   ]
  },
  {
   "cell_type": "code",
   "execution_count": 150,
   "metadata": {},
   "outputs": [
    {
     "name": "stderr",
     "output_type": "stream",
     "text": [
      "C:\\Users\\Anonymous\\anaconda3\\lib\\site-packages\\sklearn\\cluster\\_kmeans.py:973: FutureWarning: 'n_jobs' was deprecated in version 0.23 and will be removed in 0.25.\n",
      "  warnings.warn(\"'n_jobs' was deprecated in version 0.23 and will be\"\n"
     ]
    }
   ],
   "source": [
    "# save new clusters for cahrt\n",
    "y_km = kmeans.fit_predict(data_scaled)"
   ]
  },
  {
   "cell_type": "code",
   "execution_count": 157,
   "metadata": {
    "scrolled": false
   },
   "outputs": [
    {
     "data": {
      "text/plain": [
       "(-1.0, 15.0)"
      ]
     },
     "execution_count": 157,
     "metadata": {},
     "output_type": "execute_result"
    },
    {
     "data": {
      "image/png": "[encoded data removed]",
      "text/plain": [
       "<Figure size 864x432 with 1 Axes>"
      ]
     },
     "metadata": {
      "needs_background": "light"
     },
     "output_type": "display_data"
    }
   ],
   "source": [
    "# create scatter plot\n",
    "plt.figure(figsize=(12,6))\n",
    "plt.scatter(data_scaled[y_km ==0,0], data_scaled[y_km == 0,1], c='#f5ff00')\n",
    "plt.scatter(data_scaled[y_km ==1,0], data_scaled[y_km == 1,1], c='#ff3333')\n",
    "plt.scatter(data_scaled[y_km ==2,0], data_scaled[y_km == 2,1], c='#333bff')\n",
    "plt.xlim(-1,12)\n",
    "plt.ylim(-1,15)"
   ]
  },
  {
   "cell_type": "code",
   "execution_count": 146,
   "metadata": {
    "scrolled": false
   },
   "outputs": [
    {
     "name": "stderr",
     "output_type": "stream",
     "text": [
      "C:\\Users\\Anonymous\\anaconda3\\lib\\site-packages\\sklearn\\cluster\\_kmeans.py:973: FutureWarning: 'n_jobs' was deprecated in version 0.23 and will be removed in 0.25.\n",
      "  warnings.warn(\"'n_jobs' was deprecated in version 0.23 and will be\"\n",
      "C:\\Users\\Anonymous\\anaconda3\\lib\\site-packages\\sklearn\\cluster\\_kmeans.py:973: FutureWarning: 'n_jobs' was deprecated in version 0.23 and will be removed in 0.25.\n",
      "  warnings.warn(\"'n_jobs' was deprecated in version 0.23 and will be\"\n",
      "C:\\Users\\Anonymous\\anaconda3\\lib\\site-packages\\sklearn\\cluster\\_kmeans.py:973: FutureWarning: 'n_jobs' was deprecated in version 0.23 and will be removed in 0.25.\n",
      "  warnings.warn(\"'n_jobs' was deprecated in version 0.23 and will be\"\n",
      "C:\\Users\\Anonymous\\anaconda3\\lib\\site-packages\\sklearn\\cluster\\_kmeans.py:973: FutureWarning: 'n_jobs' was deprecated in version 0.23 and will be removed in 0.25.\n",
      "  warnings.warn(\"'n_jobs' was deprecated in version 0.23 and will be\"\n",
      "C:\\Users\\Anonymous\\anaconda3\\lib\\site-packages\\sklearn\\cluster\\_kmeans.py:973: FutureWarning: 'n_jobs' was deprecated in version 0.23 and will be removed in 0.25.\n",
      "  warnings.warn(\"'n_jobs' was deprecated in version 0.23 and will be\"\n",
      "C:\\Users\\Anonymous\\anaconda3\\lib\\site-packages\\sklearn\\cluster\\_kmeans.py:973: FutureWarning: 'n_jobs' was deprecated in version 0.23 and will be removed in 0.25.\n",
      "  warnings.warn(\"'n_jobs' was deprecated in version 0.23 and will be\"\n",
      "C:\\Users\\Anonymous\\anaconda3\\lib\\site-packages\\sklearn\\cluster\\_kmeans.py:973: FutureWarning: 'n_jobs' was deprecated in version 0.23 and will be removed in 0.25.\n",
      "  warnings.warn(\"'n_jobs' was deprecated in version 0.23 and will be\"\n",
      "C:\\Users\\Anonymous\\anaconda3\\lib\\site-packages\\sklearn\\cluster\\_kmeans.py:973: FutureWarning: 'n_jobs' was deprecated in version 0.23 and will be removed in 0.25.\n",
      "  warnings.warn(\"'n_jobs' was deprecated in version 0.23 and will be\"\n",
      "C:\\Users\\Anonymous\\anaconda3\\lib\\site-packages\\sklearn\\cluster\\_kmeans.py:973: FutureWarning: 'n_jobs' was deprecated in version 0.23 and will be removed in 0.25.\n",
      "  warnings.warn(\"'n_jobs' was deprecated in version 0.23 and will be\"\n",
      "C:\\Users\\Anonymous\\anaconda3\\lib\\site-packages\\sklearn\\cluster\\_kmeans.py:973: FutureWarning: 'n_jobs' was deprecated in version 0.23 and will be removed in 0.25.\n",
      "  warnings.warn(\"'n_jobs' was deprecated in version 0.23 and will be\"\n",
      "C:\\Users\\Anonymous\\anaconda3\\lib\\site-packages\\sklearn\\cluster\\_kmeans.py:973: FutureWarning: 'n_jobs' was deprecated in version 0.23 and will be removed in 0.25.\n",
      "  warnings.warn(\"'n_jobs' was deprecated in version 0.23 and will be\"\n",
      "C:\\Users\\Anonymous\\anaconda3\\lib\\site-packages\\sklearn\\cluster\\_kmeans.py:973: FutureWarning: 'n_jobs' was deprecated in version 0.23 and will be removed in 0.25.\n",
      "  warnings.warn(\"'n_jobs' was deprecated in version 0.23 and will be\"\n",
      "C:\\Users\\Anonymous\\anaconda3\\lib\\site-packages\\sklearn\\cluster\\_kmeans.py:973: FutureWarning: 'n_jobs' was deprecated in version 0.23 and will be removed in 0.25.\n",
      "  warnings.warn(\"'n_jobs' was deprecated in version 0.23 and will be\"\n",
      "C:\\Users\\Anonymous\\anaconda3\\lib\\site-packages\\sklearn\\cluster\\_kmeans.py:973: FutureWarning: 'n_jobs' was deprecated in version 0.23 and will be removed in 0.25.\n",
      "  warnings.warn(\"'n_jobs' was deprecated in version 0.23 and will be\"\n",
      "C:\\Users\\Anonymous\\anaconda3\\lib\\site-packages\\sklearn\\cluster\\_kmeans.py:973: FutureWarning: 'n_jobs' was deprecated in version 0.23 and will be removed in 0.25.\n",
      "  warnings.warn(\"'n_jobs' was deprecated in version 0.23 and will be\"\n",
      "C:\\Users\\Anonymous\\anaconda3\\lib\\site-packages\\sklearn\\cluster\\_kmeans.py:973: FutureWarning: 'n_jobs' was deprecated in version 0.23 and will be removed in 0.25.\n",
      "  warnings.warn(\"'n_jobs' was deprecated in version 0.23 and will be\"\n",
      "C:\\Users\\Anonymous\\anaconda3\\lib\\site-packages\\sklearn\\cluster\\_kmeans.py:973: FutureWarning: 'n_jobs' was deprecated in version 0.23 and will be removed in 0.25.\n",
      "  warnings.warn(\"'n_jobs' was deprecated in version 0.23 and will be\"\n",
      "C:\\Users\\Anonymous\\anaconda3\\lib\\site-packages\\sklearn\\cluster\\_kmeans.py:973: FutureWarning: 'n_jobs' was deprecated in version 0.23 and will be removed in 0.25.\n",
      "  warnings.warn(\"'n_jobs' was deprecated in version 0.23 and will be\"\n",
      "C:\\Users\\Anonymous\\anaconda3\\lib\\site-packages\\sklearn\\cluster\\_kmeans.py:973: FutureWarning: 'n_jobs' was deprecated in version 0.23 and will be removed in 0.25.\n",
      "  warnings.warn(\"'n_jobs' was deprecated in version 0.23 and will be\"\n"
     ]
    },
    {
     "data": {
      "text/plain": [
       "Text(0, 0.5, 'Inertia')"
      ]
     },
     "execution_count": 146,
     "metadata": {},
     "output_type": "execute_result"
    },
    {
     "data": {
      "image/png": "[encoded data removed]",
      "text/plain": [
       "<Figure size 864x432 with 1 Axes>"
      ]
     },
     "metadata": {
      "needs_background": "light"
     },
     "output_type": "display_data"
    }
   ],
   "source": [
    "# fitting multiple k-means algorithms and storing the values in an empty list\n",
    "SSE = []\n",
    "for cluster in range(1,20):\n",
    "    kmeans = KMeans(n_jobs=-1, n_clusters = cluster, init='random') \n",
    "    kmeans.fit(data_scaled)\n",
    "    SSE.append(kmeans.inertia_)\n",
    "\n",
    "# converting the results into a dataframe and plotting them\n",
    "frame = pd.DataFrame({'Cluster':range(1,20), 'SSE':SSE})\n",
    "plt.figure(figsize=(12,6))\n",
    "plt.plot(frame['Cluster'], frame['SSE'], marker='o')\n",
    "plt.xlabel('Number of clusters')\n",
    "plt.ylabel('Inertia')"
   ]
  },
  {
   "cell_type": "markdown",
   "metadata": {},
   "source": [
    "Karna pada Grafik Momen Inersia ada grafik garis di atas (seperti sudut), tanda siku pada lengan adalah nilai optimal k(jumlah cluster). Berdasarkan grafik garis siku di atas, jumlah cluster optimal adalah 6."
   ]
  },
  {
   "cell_type": "code",
   "execution_count": 158,
   "metadata": {},
   "outputs": [
    {
     "name": "stderr",
     "output_type": "stream",
     "text": [
      "C:\\Users\\Anonymous\\anaconda3\\lib\\site-packages\\sklearn\\cluster\\_kmeans.py:973: FutureWarning: 'n_jobs' was deprecated in version 0.23 and will be removed in 0.25.\n",
      "  warnings.warn(\"'n_jobs' was deprecated in version 0.23 and will be\"\n"
     ]
    }
   ],
   "source": [
    "# k means using 6 clusters and random initialization\n",
    "kmeans = KMeans(n_jobs=-1, n_clusters = 6, init='random') \n",
    "kmeans.fit(data_scaled)\n",
    "pred = kmeans.predict(data_scaled)"
   ]
  },
  {
   "cell_type": "code",
   "execution_count": 159,
   "metadata": {},
   "outputs": [
    {
     "data": {
      "text/plain": [
       "1    325\n",
       "0     43\n",
       "3      9\n",
       "4      3\n",
       "2      3\n",
       "5      2\n",
       "Name: cluster, dtype: int64"
      ]
     },
     "execution_count": 159,
     "metadata": {},
     "output_type": "execute_result"
    }
   ],
   "source": [
    "frame= pd.DataFrame(data_scaled)\n",
    "frame['cluster'] = pred\n",
    "frame['cluster'].value_counts()"
   ]
  },
  {
   "cell_type": "code",
   "execution_count": 160,
   "metadata": {},
   "outputs": [
    {
     "data": {
      "text/plain": [
       "49.837272093656715"
      ]
     },
     "execution_count": 160,
     "metadata": {},
     "output_type": "execute_result"
    }
   ],
   "source": [
    "# inertia on the fitted data\n",
    "kmeans.inertia_"
   ]
  },
  {
   "cell_type": "code",
   "execution_count": 161,
   "metadata": {},
   "outputs": [
    {
     "name": "stderr",
     "output_type": "stream",
     "text": [
      "C:\\Users\\Anonymous\\anaconda3\\lib\\site-packages\\sklearn\\cluster\\_kmeans.py:973: FutureWarning: 'n_jobs' was deprecated in version 0.23 and will be removed in 0.25.\n",
      "  warnings.warn(\"'n_jobs' was deprecated in version 0.23 and will be\"\n"
     ]
    }
   ],
   "source": [
    "# save new clusters for cahrt\n",
    "y_km = kmeans.fit_predict(data_scaled)"
   ]
  },
  {
   "cell_type": "code",
   "execution_count": 162,
   "metadata": {},
   "outputs": [
    {
     "data": {
      "text/plain": [
       "(-1.0, 15.0)"
      ]
     },
     "execution_count": 162,
     "metadata": {},
     "output_type": "execute_result"
    },
    {
     "data": {
      "image/png": "[encoded data removed]",
      "text/plain": [
       "<Figure size 864x432 with 1 Axes>"
      ]
     },
     "metadata": {
      "needs_background": "light"
     },
     "output_type": "display_data"
    }
   ],
   "source": [
    "# create scatter plot\n",
    "plt.figure(figsize=(12,6))\n",
    "plt.scatter(data_scaled[y_km ==0,0], data_scaled[y_km == 0,1], c='#f5ff00')\n",
    "plt.scatter(data_scaled[y_km ==1,0], data_scaled[y_km == 1,1], c='#ff3333')\n",
    "plt.scatter(data_scaled[y_km ==2,0], data_scaled[y_km == 2,1], c='#333bff')\n",
    "plt.scatter(data_scaled[y_km ==3,0], data_scaled[y_km == 3,1], c='#ff3bff')\n",
    "plt.scatter(data_scaled[y_km ==4,0], data_scaled[y_km == 4,1], c='#fffbff')\n",
    "plt.scatter(data_scaled[y_km ==5,0], data_scaled[y_km == 5,1], c='#33fbff')\n",
    "plt.xlim(-1,12)\n",
    "plt.ylim(-1,15)"
   ]
  }
 ],
 "metadata": {
  "colab": {
   "collapsed_sections": [],
   "name": "Data Cleaning.ipynb",
   "provenance": []
  },
  "kernelspec": {
   "display_name": "Python 3",
   "language": "python",
   "name": "python3"
  },
  "language_info": {
   "codemirror_mode": {
    "name": "ipython",
    "version": 3
   },
   "file_extension": ".py",
   "mimetype": "text/x-python",
   "name": "python",
   "nbconvert_exporter": "python",
   "pygments_lexer": "ipython3",
   "version": "3.8.3"
  }
 },
 "nbformat": 4,
 "nbformat_minor": 1
}
