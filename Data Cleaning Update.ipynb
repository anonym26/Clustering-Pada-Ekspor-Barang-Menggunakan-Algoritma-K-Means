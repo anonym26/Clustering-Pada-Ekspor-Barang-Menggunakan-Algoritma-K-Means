{
  "nbformat": 4,
  "nbformat_minor": 0,
  "metadata": {
    "kernelspec": {
      "display_name": "Python 3",
      "language": "python",
      "name": "python3"
    },
    "language_info": {
      "codemirror_mode": {
        "name": "ipython",
        "version": 3
      },
      "file_extension": ".py",
      "mimetype": "text/x-python",
      "name": "python",
      "nbconvert_exporter": "python",
      "pygments_lexer": "ipython3",
      "version": "3.6.5"
    },
    "colab": {
      "name": "Data Cleaning.ipynb",
      "provenance": [],
      "collapsed_sections": []
    }
  },
  "cells": [
    {
      "cell_type": "code",
      "metadata": {
        "id": "bctj9IgRmSOo"
      },
      "source": [
        "import pandas as pd\n",
        "import numpy as np\n",
        "import seaborn as sns\n",
        "import matplotlib.pyplot as plt\n",
        "from sklearn.preprocessing import StandardScaler\n",
        "from sklearn.cluster import KMeans\n",
        "import warnings\n"
      ],
      "execution_count": null,
      "outputs": []
    },
    {
      "cell_type": "code",
      "metadata": {
        "colab": {
          "base_uri": "https://localhost:8080/",
          "height": 195
        },
        "id": "mu8lFWGomSOu",
        "outputId": "ff90d2ba-b24a-41d4-9104-7b80aa573226"
      },
      "source": [
        "df = pd.read_csv(\"PC_Export_2016_2017.csv\")\n",
        "df.head()"
      ],
      "execution_count": null,
      "outputs": [
        {
          "output_type": "execute_result",
          "data": {
            "text/html": [
              "<div>\n",
              "<style scoped>\n",
              "    .dataframe tbody tr th:only-of-type {\n",
              "        vertical-align: middle;\n",
              "    }\n",
              "\n",
              "    .dataframe tbody tr th {\n",
              "        vertical-align: top;\n",
              "    }\n",
              "\n",
              "    .dataframe thead th {\n",
              "        text-align: right;\n",
              "    }\n",
              "</style>\n",
              "<table border=\"1\" class=\"dataframe\">\n",
              "  <thead>\n",
              "    <tr style=\"text-align: right;\">\n",
              "      <th></th>\n",
              "      <th>pc_code</th>\n",
              "      <th>pc_description</th>\n",
              "      <th>unit</th>\n",
              "      <th>country_code</th>\n",
              "      <th>country_name</th>\n",
              "      <th>quantity</th>\n",
              "      <th>value</th>\n",
              "    </tr>\n",
              "  </thead>\n",
              "  <tbody>\n",
              "    <tr>\n",
              "      <th>0</th>\n",
              "      <td>99</td>\n",
              "      <td>Other Commodities</td>\n",
              "      <td>Na</td>\n",
              "      <td>599</td>\n",
              "      <td>Unspecified</td>\n",
              "      <td>NaN</td>\n",
              "      <td>270.889542</td>\n",
              "    </tr>\n",
              "    <tr>\n",
              "      <th>1</th>\n",
              "      <td>99</td>\n",
              "      <td>Other Commodities</td>\n",
              "      <td>Na</td>\n",
              "      <td>1213</td>\n",
              "      <td>Kenya</td>\n",
              "      <td>NaN</td>\n",
              "      <td>17.159452</td>\n",
              "    </tr>\n",
              "    <tr>\n",
              "      <th>2</th>\n",
              "      <td>99</td>\n",
              "      <td>Other Commodities</td>\n",
              "      <td>Na</td>\n",
              "      <td>1395</td>\n",
              "      <td>Tanzania Rep</td>\n",
              "      <td>NaN</td>\n",
              "      <td>8.896539</td>\n",
              "    </tr>\n",
              "    <tr>\n",
              "      <th>3</th>\n",
              "      <td>99</td>\n",
              "      <td>Other Commodities</td>\n",
              "      <td>Na</td>\n",
              "      <td>1417</td>\n",
              "      <td>Uganda</td>\n",
              "      <td>NaN</td>\n",
              "      <td>5.181412</td>\n",
              "    </tr>\n",
              "    <tr>\n",
              "      <th>4</th>\n",
              "      <td>99</td>\n",
              "      <td>Other Commodities</td>\n",
              "      <td>Na</td>\n",
              "      <td>2035</td>\n",
              "      <td>Benin</td>\n",
              "      <td>NaN</td>\n",
              "      <td>2.476015</td>\n",
              "    </tr>\n",
              "  </tbody>\n",
              "</table>\n",
              "</div>"
            ],
            "text/plain": [
              "  pc_code     pc_description unit  ...  country_name quantity       value\n",
              "0      99  Other Commodities   Na  ...   Unspecified      NaN  270.889542\n",
              "1      99  Other Commodities   Na  ...         Kenya      NaN   17.159452\n",
              "2      99  Other Commodities   Na  ...  Tanzania Rep      NaN    8.896539\n",
              "3      99  Other Commodities   Na  ...        Uganda      NaN    5.181412\n",
              "4      99  Other Commodities   Na  ...         Benin      NaN    2.476015\n",
              "\n",
              "[5 rows x 7 columns]"
            ]
          },
          "metadata": {
            "tags": []
          },
          "execution_count": 3
        }
      ]
    },
    {
      "cell_type": "code",
      "metadata": {
        "colab": {
          "base_uri": "https://localhost:8080/",
          "height": 284
        },
        "id": "sTYQZu_KmSO_",
        "outputId": "123c438c-086e-4d9f-9b4c-c6efc668c572"
      },
      "source": [
        "df.describe()"
      ],
      "execution_count": null,
      "outputs": [
        {
          "output_type": "execute_result",
          "data": {
            "text/html": [
              "<div>\n",
              "<style scoped>\n",
              "    .dataframe tbody tr th:only-of-type {\n",
              "        vertical-align: middle;\n",
              "    }\n",
              "\n",
              "    .dataframe tbody tr th {\n",
              "        vertical-align: top;\n",
              "    }\n",
              "\n",
              "    .dataframe thead th {\n",
              "        text-align: right;\n",
              "    }\n",
              "</style>\n",
              "<table border=\"1\" class=\"dataframe\">\n",
              "  <thead>\n",
              "    <tr style=\"text-align: right;\">\n",
              "      <th></th>\n",
              "      <th>country_code</th>\n",
              "      <th>quantity</th>\n",
              "      <th>value</th>\n",
              "    </tr>\n",
              "  </thead>\n",
              "  <tbody>\n",
              "    <tr>\n",
              "      <th>count</th>\n",
              "      <td>20844.000000</td>\n",
              "      <td>1.006500e+04</td>\n",
              "      <td>20844.000000</td>\n",
              "    </tr>\n",
              "    <tr>\n",
              "      <th>mean</th>\n",
              "      <td>9053.099645</td>\n",
              "      <td>3.903794e+06</td>\n",
              "      <td>13.267463</td>\n",
              "    </tr>\n",
              "    <tr>\n",
              "      <th>std</th>\n",
              "      <td>4495.312603</td>\n",
              "      <td>7.484555e+07</td>\n",
              "      <td>136.903421</td>\n",
              "    </tr>\n",
              "    <tr>\n",
              "      <th>min</th>\n",
              "      <td>2.000000</td>\n",
              "      <td>0.000000e+00</td>\n",
              "      <td>0.000000</td>\n",
              "    </tr>\n",
              "    <tr>\n",
              "      <th>25%</th>\n",
              "      <td>4365.000000</td>\n",
              "      <td>1.360000e+02</td>\n",
              "      <td>0.024924</td>\n",
              "    </tr>\n",
              "    <tr>\n",
              "      <th>50%</th>\n",
              "      <td>10179.000000</td>\n",
              "      <td>5.175000e+03</td>\n",
              "      <td>0.299185</td>\n",
              "    </tr>\n",
              "    <tr>\n",
              "      <th>75%</th>\n",
              "      <td>13101.000000</td>\n",
              "      <td>1.690850e+05</td>\n",
              "      <td>2.788682</td>\n",
              "    </tr>\n",
              "    <tr>\n",
              "      <th>max</th>\n",
              "      <td>16409.000000</td>\n",
              "      <td>5.710303e+09</td>\n",
              "      <td>9599.857922</td>\n",
              "    </tr>\n",
              "  </tbody>\n",
              "</table>\n",
              "</div>"
            ],
            "text/plain": [
              "       country_code      quantity         value\n",
              "count  20844.000000  1.006500e+04  20844.000000\n",
              "mean    9053.099645  3.903794e+06     13.267463\n",
              "std     4495.312603  7.484555e+07    136.903421\n",
              "min        2.000000  0.000000e+00      0.000000\n",
              "25%     4365.000000  1.360000e+02      0.024924\n",
              "50%    10179.000000  5.175000e+03      0.299185\n",
              "75%    13101.000000  1.690850e+05      2.788682\n",
              "max    16409.000000  5.710303e+09   9599.857922"
            ]
          },
          "metadata": {
            "tags": []
          },
          "execution_count": 4
        }
      ]
    },
    {
      "cell_type": "code",
      "metadata": {
        "colab": {
          "base_uri": "https://localhost:8080/"
        },
        "id": "Ry5rF3HSmSPA",
        "outputId": "4bb66307-4909-4747-bfb6-78e31cd0a6e4"
      },
      "source": [
        "#untuk mengetahui informasi dari setiap variabel \n",
        "df.info()"
      ],
      "execution_count": null,
      "outputs": [
        {
          "output_type": "stream",
          "text": [
            "<class 'pandas.core.frame.DataFrame'>\n",
            "RangeIndex: 20844 entries, 0 to 20843\n",
            "Data columns (total 7 columns):\n",
            " #   Column          Non-Null Count  Dtype  \n",
            "---  ------          --------------  -----  \n",
            " 0   pc_code         20844 non-null  object \n",
            " 1   pc_description  20844 non-null  object \n",
            " 2   unit            20844 non-null  object \n",
            " 3   country_code    20844 non-null  int64  \n",
            " 4   country_name    20844 non-null  object \n",
            " 5   quantity        10065 non-null  float64\n",
            " 6   value           20844 non-null  float64\n",
            "dtypes: float64(2), int64(1), object(4)\n",
            "memory usage: 1.1+ MB\n"
          ],
          "name": "stdout"
        }
      ]
    },
    {
      "cell_type": "markdown",
      "metadata": {
        "id": "DmIdgCGtmSPC"
      },
      "source": [
        "Memeriksa nilai yang null"
      ]
    },
    {
      "cell_type": "code",
      "metadata": {
        "colab": {
          "base_uri": "https://localhost:8080/",
          "height": 77
        },
        "id": "_PkhCK9TmSPD",
        "outputId": "962160fe-0a56-41eb-cc0b-b2d9e5128df7"
      },
      "source": [
        "total = df.isnull().sum().sort_values(ascending=False)\n",
        "\n",
        "percent = (df.isnull().sum()/df.isnull().count())\\\n",
        ".sort_values(ascending=False)\n",
        "\n",
        "missing_data = pd.concat([total, percent], axis=1, \\\n",
        "                        keys=['Total', 'Missing Percent'])\n",
        "\n",
        "missing_data['Missing Percent'] = \\\n",
        "missing_data['Missing Percent'].apply(lambda x: x * 100)\n",
        "\n",
        "missing_data.loc[missing_data['Missing Percent'] > 10][:10]"
      ],
      "execution_count": null,
      "outputs": [
        {
          "output_type": "execute_result",
          "data": {
            "text/html": [
              "<div>\n",
              "<style scoped>\n",
              "    .dataframe tbody tr th:only-of-type {\n",
              "        vertical-align: middle;\n",
              "    }\n",
              "\n",
              "    .dataframe tbody tr th {\n",
              "        vertical-align: top;\n",
              "    }\n",
              "\n",
              "    .dataframe thead th {\n",
              "        text-align: right;\n",
              "    }\n",
              "</style>\n",
              "<table border=\"1\" class=\"dataframe\">\n",
              "  <thead>\n",
              "    <tr style=\"text-align: right;\">\n",
              "      <th></th>\n",
              "      <th>Total</th>\n",
              "      <th>Missing Percent</th>\n",
              "    </tr>\n",
              "  </thead>\n",
              "  <tbody>\n",
              "    <tr>\n",
              "      <th>quantity</th>\n",
              "      <td>10779</td>\n",
              "      <td>51.712723</td>\n",
              "    </tr>\n",
              "  </tbody>\n",
              "</table>\n",
              "</div>"
            ],
            "text/plain": [
              "          Total  Missing Percent\n",
              "quantity  10779        51.712723"
            ]
          },
          "metadata": {
            "tags": []
          },
          "execution_count": 6
        }
      ]
    },
    {
      "cell_type": "code",
      "metadata": {
        "colab": {
          "base_uri": "https://localhost:8080/"
        },
        "id": "CBv9Qj_OmSPF",
        "outputId": "647ea080-7f28-4fae-c7fe-6ca5bab02677"
      },
      "source": [
        "print(df.shape)"
      ],
      "execution_count": null,
      "outputs": [
        {
          "output_type": "stream",
          "text": [
            "(20844, 7)\n"
          ],
          "name": "stdout"
        }
      ]
    },
    {
      "cell_type": "markdown",
      "metadata": {
        "id": "Qg4y7jw9mSPG"
      },
      "source": [
        "Analisis Variabel Secara Individual"
      ]
    },
    {
      "cell_type": "code",
      "metadata": {
        "id": "biZgsxsjmSPH"
      },
      "source": [
        "numerical_vars = ['pc_code','country_code','quantity','value']\n",
        "categorical_vars = ['pc_description','unit','country_name']"
      ],
      "execution_count": null,
      "outputs": []
    },
    {
      "cell_type": "code",
      "metadata": {
        "id": "L-Vhu584mSPH"
      },
      "source": [
        "df = df[numerical_vars+categorical_vars]"
      ],
      "execution_count": null,
      "outputs": []
    },
    {
      "cell_type": "code",
      "metadata": {
        "colab": {
          "base_uri": "https://localhost:8080/"
        },
        "id": "O992yuWGmSPJ",
        "outputId": "f2b836cb-11e4-47f5-aa72-b6099dca272e"
      },
      "source": [
        "print(df.shape)"
      ],
      "execution_count": null,
      "outputs": [
        {
          "output_type": "stream",
          "text": [
            "(20844, 7)\n"
          ],
          "name": "stdout"
        }
      ]
    },
    {
      "cell_type": "markdown",
      "metadata": {
        "id": "CkLt6GfkmSPL"
      },
      "source": [
        "Memahami Variabel Numerical"
      ]
    },
    {
      "cell_type": "code",
      "metadata": {
        "colab": {
          "base_uri": "https://localhost:8080/"
        },
        "id": "gyXvNvM5mSPM",
        "outputId": "f9229d73-c4d7-4708-9e30-1ddc1fce576e"
      },
      "source": [
        "df['pc_code'].describe()"
      ],
      "execution_count": null,
      "outputs": [
        {
          "output_type": "execute_result",
          "data": {
            "text/plain": [
              "count     20844\n",
              "unique      168\n",
              "top          99\n",
              "freq        209\n",
              "Name: pc_code, dtype: object"
            ]
          },
          "metadata": {
            "tags": []
          },
          "execution_count": 105
        }
      ]
    },
    {
      "cell_type": "code",
      "metadata": {
        "colab": {
          "base_uri": "https://localhost:8080/"
        },
        "id": "uOJPDhiGmSPN",
        "outputId": "ce281eb1-1f37-4ac3-91bd-1fb41aa09ac7"
      },
      "source": [
        "df['country_code'].describe()"
      ],
      "execution_count": null,
      "outputs": [
        {
          "output_type": "execute_result",
          "data": {
            "text/plain": [
              "count    20844.000000\n",
              "mean      9053.099645\n",
              "std       4495.312603\n",
              "min          2.000000\n",
              "25%       4365.000000\n",
              "50%      10179.000000\n",
              "75%      13101.000000\n",
              "max      16409.000000\n",
              "Name: country_code, dtype: float64"
            ]
          },
          "metadata": {
            "tags": []
          },
          "execution_count": 106
        }
      ]
    },
    {
      "cell_type": "code",
      "metadata": {
        "colab": {
          "base_uri": "https://localhost:8080/"
        },
        "id": "lChDqUTgmSPP",
        "outputId": "0da7a7d2-769e-44f7-ce80-1cb7c3e9bd21"
      },
      "source": [
        "df['quantity'].describe()"
      ],
      "execution_count": null,
      "outputs": [
        {
          "output_type": "execute_result",
          "data": {
            "text/plain": [
              "count    1.006500e+04\n",
              "mean     3.903794e+06\n",
              "std      7.484555e+07\n",
              "min      0.000000e+00\n",
              "25%      1.360000e+02\n",
              "50%      5.175000e+03\n",
              "75%      1.690850e+05\n",
              "max      5.710303e+09\n",
              "Name: quantity, dtype: float64"
            ]
          },
          "metadata": {
            "tags": []
          },
          "execution_count": 107
        }
      ]
    },
    {
      "cell_type": "code",
      "metadata": {
        "colab": {
          "base_uri": "https://localhost:8080/"
        },
        "id": "E6E-FuCkmSPP",
        "outputId": "929cb574-4086-4fef-c6e9-d7da004e6c72"
      },
      "source": [
        "df['value'].describe()"
      ],
      "execution_count": null,
      "outputs": [
        {
          "output_type": "execute_result",
          "data": {
            "text/plain": [
              "count    20844.000000\n",
              "mean        13.267463\n",
              "std        136.903421\n",
              "min          0.000000\n",
              "25%          0.024924\n",
              "50%          0.299185\n",
              "75%          2.788682\n",
              "max       9599.857922\n",
              "Name: value, dtype: float64"
            ]
          },
          "metadata": {
            "tags": []
          },
          "execution_count": 108
        }
      ]
    },
    {
      "cell_type": "code",
      "metadata": {
        "colab": {
          "base_uri": "https://localhost:8080/",
          "height": 284
        },
        "id": "JseFeaRkmSPR",
        "outputId": "2513ad64-d9ad-49f2-aad5-2c2cf2763c9e"
      },
      "source": [
        "df[numerical_vars].describe()"
      ],
      "execution_count": null,
      "outputs": [
        {
          "output_type": "execute_result",
          "data": {
            "text/html": [
              "<div>\n",
              "<style scoped>\n",
              "    .dataframe tbody tr th:only-of-type {\n",
              "        vertical-align: middle;\n",
              "    }\n",
              "\n",
              "    .dataframe tbody tr th {\n",
              "        vertical-align: top;\n",
              "    }\n",
              "\n",
              "    .dataframe thead th {\n",
              "        text-align: right;\n",
              "    }\n",
              "</style>\n",
              "<table border=\"1\" class=\"dataframe\">\n",
              "  <thead>\n",
              "    <tr style=\"text-align: right;\">\n",
              "      <th></th>\n",
              "      <th>country_code</th>\n",
              "      <th>quantity</th>\n",
              "      <th>value</th>\n",
              "    </tr>\n",
              "  </thead>\n",
              "  <tbody>\n",
              "    <tr>\n",
              "      <th>count</th>\n",
              "      <td>20844.000000</td>\n",
              "      <td>1.006500e+04</td>\n",
              "      <td>20844.000000</td>\n",
              "    </tr>\n",
              "    <tr>\n",
              "      <th>mean</th>\n",
              "      <td>9053.099645</td>\n",
              "      <td>3.903794e+06</td>\n",
              "      <td>13.267463</td>\n",
              "    </tr>\n",
              "    <tr>\n",
              "      <th>std</th>\n",
              "      <td>4495.312603</td>\n",
              "      <td>7.484555e+07</td>\n",
              "      <td>136.903421</td>\n",
              "    </tr>\n",
              "    <tr>\n",
              "      <th>min</th>\n",
              "      <td>2.000000</td>\n",
              "      <td>0.000000e+00</td>\n",
              "      <td>0.000000</td>\n",
              "    </tr>\n",
              "    <tr>\n",
              "      <th>25%</th>\n",
              "      <td>4365.000000</td>\n",
              "      <td>1.360000e+02</td>\n",
              "      <td>0.024924</td>\n",
              "    </tr>\n",
              "    <tr>\n",
              "      <th>50%</th>\n",
              "      <td>10179.000000</td>\n",
              "      <td>5.175000e+03</td>\n",
              "      <td>0.299185</td>\n",
              "    </tr>\n",
              "    <tr>\n",
              "      <th>75%</th>\n",
              "      <td>13101.000000</td>\n",
              "      <td>1.690850e+05</td>\n",
              "      <td>2.788682</td>\n",
              "    </tr>\n",
              "    <tr>\n",
              "      <th>max</th>\n",
              "      <td>16409.000000</td>\n",
              "      <td>5.710303e+09</td>\n",
              "      <td>9599.857922</td>\n",
              "    </tr>\n",
              "  </tbody>\n",
              "</table>\n",
              "</div>"
            ],
            "text/plain": [
              "       country_code      quantity         value\n",
              "count  20844.000000  1.006500e+04  20844.000000\n",
              "mean    9053.099645  3.903794e+06     13.267463\n",
              "std     4495.312603  7.484555e+07    136.903421\n",
              "min        2.000000  0.000000e+00      0.000000\n",
              "25%     4365.000000  1.360000e+02      0.024924\n",
              "50%    10179.000000  5.175000e+03      0.299185\n",
              "75%    13101.000000  1.690850e+05      2.788682\n",
              "max    16409.000000  5.710303e+09   9599.857922"
            ]
          },
          "metadata": {
            "tags": []
          },
          "execution_count": 109
        }
      ]
    },
    {
      "cell_type": "markdown",
      "metadata": {
        "id": "mWJ7_lxxmSPS"
      },
      "source": [
        "Memahami Variabel Categorical"
      ]
    },
    {
      "cell_type": "code",
      "metadata": {
        "colab": {
          "base_uri": "https://localhost:8080/"
        },
        "id": "tjVMtS7cmSPS",
        "outputId": "5903308a-4eb5-4741-e994-5f39f0434e51"
      },
      "source": [
        "df['pc_description'].describe()"
      ],
      "execution_count": null,
      "outputs": [
        {
          "output_type": "execute_result",
          "data": {
            "text/plain": [
              "count                              20844\n",
              "unique                               168\n",
              "top       Drug Formulations, Biologicals\n",
              "freq                                 209\n",
              "Name: pc_description, dtype: object"
            ]
          },
          "metadata": {
            "tags": []
          },
          "execution_count": 110
        }
      ]
    },
    {
      "cell_type": "code",
      "metadata": {
        "colab": {
          "base_uri": "https://localhost:8080/"
        },
        "id": "iJCPpVAMmSPZ",
        "outputId": "5665a730-f347-4365-8217-de785eaa8e88"
      },
      "source": [
        "df['unit'].describe()"
      ],
      "execution_count": null,
      "outputs": [
        {
          "output_type": "execute_result",
          "data": {
            "text/plain": [
              "count     20844\n",
              "unique        6\n",
              "top          Na\n",
              "freq      10779\n",
              "Name: unit, dtype: object"
            ]
          },
          "metadata": {
            "tags": []
          },
          "execution_count": 111
        }
      ]
    },
    {
      "cell_type": "code",
      "metadata": {
        "colab": {
          "base_uri": "https://localhost:8080/"
        },
        "id": "4EqSqJ0WmSPa",
        "outputId": "7029bc72-ed05-450e-9965-55fa40860243"
      },
      "source": [
        "df['country_name'].describe()"
      ],
      "execution_count": null,
      "outputs": [
        {
          "output_type": "execute_result",
          "data": {
            "text/plain": [
              "count     20844\n",
              "unique      233\n",
              "top       U S A\n",
              "freq        161\n",
              "Name: country_name, dtype: object"
            ]
          },
          "metadata": {
            "tags": []
          },
          "execution_count": 112
        }
      ]
    },
    {
      "cell_type": "code",
      "metadata": {
        "colab": {
          "base_uri": "https://localhost:8080/",
          "height": 166
        },
        "id": "DmvBlMR5mSPb",
        "outputId": "6e810bdb-dbd8-4f92-b491-914c916f5c45"
      },
      "source": [
        "df[categorical_vars].describe()"
      ],
      "execution_count": null,
      "outputs": [
        {
          "output_type": "execute_result",
          "data": {
            "text/html": [
              "<div>\n",
              "<style scoped>\n",
              "    .dataframe tbody tr th:only-of-type {\n",
              "        vertical-align: middle;\n",
              "    }\n",
              "\n",
              "    .dataframe tbody tr th {\n",
              "        vertical-align: top;\n",
              "    }\n",
              "\n",
              "    .dataframe thead th {\n",
              "        text-align: right;\n",
              "    }\n",
              "</style>\n",
              "<table border=\"1\" class=\"dataframe\">\n",
              "  <thead>\n",
              "    <tr style=\"text-align: right;\">\n",
              "      <th></th>\n",
              "      <th>pc_description</th>\n",
              "      <th>unit</th>\n",
              "      <th>country_name</th>\n",
              "    </tr>\n",
              "  </thead>\n",
              "  <tbody>\n",
              "    <tr>\n",
              "      <th>count</th>\n",
              "      <td>20844</td>\n",
              "      <td>20844</td>\n",
              "      <td>20844</td>\n",
              "    </tr>\n",
              "    <tr>\n",
              "      <th>unique</th>\n",
              "      <td>168</td>\n",
              "      <td>6</td>\n",
              "      <td>233</td>\n",
              "    </tr>\n",
              "    <tr>\n",
              "      <th>top</th>\n",
              "      <td>Drug Formulations, Biologicals</td>\n",
              "      <td>Na</td>\n",
              "      <td>U S A</td>\n",
              "    </tr>\n",
              "    <tr>\n",
              "      <th>freq</th>\n",
              "      <td>209</td>\n",
              "      <td>10779</td>\n",
              "      <td>161</td>\n",
              "    </tr>\n",
              "  </tbody>\n",
              "</table>\n",
              "</div>"
            ],
            "text/plain": [
              "                        pc_description   unit country_name\n",
              "count                            20844  20844        20844\n",
              "unique                             168      6          233\n",
              "top     Drug Formulations, Biologicals     Na        U S A\n",
              "freq                               209  10779          161"
            ]
          },
          "metadata": {
            "tags": []
          },
          "execution_count": 113
        }
      ]
    },
    {
      "cell_type": "markdown",
      "metadata": {
        "id": "0QwcUl5SmSPc"
      },
      "source": [
        "Data Cleaning"
      ]
    },
    {
      "cell_type": "markdown",
      "metadata": {
        "id": "_sSZwlCGmSPd"
      },
      "source": [
        "Metode yang digunakan untuk menangani nilai yang null atau NaN yaitu dengan menggunakan Fill Forward yaitu digunakan untuk mengisi maju, dimana nilai terakhir yang diketahui yang akan digunakan untuk menggati nilai yang null"
      ]
    },
    {
      "cell_type": "code",
      "metadata": {
        "id": "gFmkkz0g368g"
      },
      "source": [
        "df = pd.read_csv(\"PC_Export_2016_2017.csv\")"
      ],
      "execution_count": null,
      "outputs": []
    },
    {
      "cell_type": "code",
      "metadata": {
        "colab": {
          "base_uri": "https://localhost:8080/",
          "height": 195
        },
        "id": "cFBfo0LY5Wut",
        "outputId": "084700d2-562f-4515-fcc3-a9a0ce1cc561"
      },
      "source": [
        "df.head()"
      ],
      "execution_count": null,
      "outputs": [
        {
          "output_type": "execute_result",
          "data": {
            "text/html": [
              "<div>\n",
              "<style scoped>\n",
              "    .dataframe tbody tr th:only-of-type {\n",
              "        vertical-align: middle;\n",
              "    }\n",
              "\n",
              "    .dataframe tbody tr th {\n",
              "        vertical-align: top;\n",
              "    }\n",
              "\n",
              "    .dataframe thead th {\n",
              "        text-align: right;\n",
              "    }\n",
              "</style>\n",
              "<table border=\"1\" class=\"dataframe\">\n",
              "  <thead>\n",
              "    <tr style=\"text-align: right;\">\n",
              "      <th></th>\n",
              "      <th>pc_code</th>\n",
              "      <th>pc_description</th>\n",
              "      <th>unit</th>\n",
              "      <th>country_code</th>\n",
              "      <th>country_name</th>\n",
              "      <th>quantity</th>\n",
              "      <th>value</th>\n",
              "    </tr>\n",
              "  </thead>\n",
              "  <tbody>\n",
              "    <tr>\n",
              "      <th>0</th>\n",
              "      <td>99</td>\n",
              "      <td>Other Commodities</td>\n",
              "      <td>Na</td>\n",
              "      <td>599</td>\n",
              "      <td>Unspecified</td>\n",
              "      <td>NaN</td>\n",
              "      <td>270.889542</td>\n",
              "    </tr>\n",
              "    <tr>\n",
              "      <th>1</th>\n",
              "      <td>99</td>\n",
              "      <td>Other Commodities</td>\n",
              "      <td>Na</td>\n",
              "      <td>1213</td>\n",
              "      <td>Kenya</td>\n",
              "      <td>NaN</td>\n",
              "      <td>17.159452</td>\n",
              "    </tr>\n",
              "    <tr>\n",
              "      <th>2</th>\n",
              "      <td>99</td>\n",
              "      <td>Other Commodities</td>\n",
              "      <td>Na</td>\n",
              "      <td>1395</td>\n",
              "      <td>Tanzania Rep</td>\n",
              "      <td>NaN</td>\n",
              "      <td>8.896539</td>\n",
              "    </tr>\n",
              "    <tr>\n",
              "      <th>3</th>\n",
              "      <td>99</td>\n",
              "      <td>Other Commodities</td>\n",
              "      <td>Na</td>\n",
              "      <td>1417</td>\n",
              "      <td>Uganda</td>\n",
              "      <td>NaN</td>\n",
              "      <td>5.181412</td>\n",
              "    </tr>\n",
              "    <tr>\n",
              "      <th>4</th>\n",
              "      <td>99</td>\n",
              "      <td>Other Commodities</td>\n",
              "      <td>Na</td>\n",
              "      <td>2035</td>\n",
              "      <td>Benin</td>\n",
              "      <td>NaN</td>\n",
              "      <td>2.476015</td>\n",
              "    </tr>\n",
              "  </tbody>\n",
              "</table>\n",
              "</div>"
            ],
            "text/plain": [
              "  pc_code     pc_description unit  ...  country_name quantity       value\n",
              "0      99  Other Commodities   Na  ...   Unspecified      NaN  270.889542\n",
              "1      99  Other Commodities   Na  ...         Kenya      NaN   17.159452\n",
              "2      99  Other Commodities   Na  ...  Tanzania Rep      NaN    8.896539\n",
              "3      99  Other Commodities   Na  ...        Uganda      NaN    5.181412\n",
              "4      99  Other Commodities   Na  ...         Benin      NaN    2.476015\n",
              "\n",
              "[5 rows x 7 columns]"
            ]
          },
          "metadata": {
            "tags": []
          },
          "execution_count": 161
        }
      ]
    },
    {
      "cell_type": "code",
      "metadata": {
        "id": "9Jph0Tg1sfTD"
      },
      "source": [
        "dc = df.fillna(df.mean())"
      ],
      "execution_count": null,
      "outputs": []
    },
    {
      "cell_type": "code",
      "metadata": {
        "colab": {
          "base_uri": "https://localhost:8080/",
          "height": 195
        },
        "id": "MfosADlAw2-N",
        "outputId": "e6f5545d-65bc-41ba-ffb2-0d773ce21694"
      },
      "source": [
        "dc.head()"
      ],
      "execution_count": null,
      "outputs": [
        {
          "output_type": "execute_result",
          "data": {
            "text/html": [
              "<div>\n",
              "<style scoped>\n",
              "    .dataframe tbody tr th:only-of-type {\n",
              "        vertical-align: middle;\n",
              "    }\n",
              "\n",
              "    .dataframe tbody tr th {\n",
              "        vertical-align: top;\n",
              "    }\n",
              "\n",
              "    .dataframe thead th {\n",
              "        text-align: right;\n",
              "    }\n",
              "</style>\n",
              "<table border=\"1\" class=\"dataframe\">\n",
              "  <thead>\n",
              "    <tr style=\"text-align: right;\">\n",
              "      <th></th>\n",
              "      <th>pc_code</th>\n",
              "      <th>pc_description</th>\n",
              "      <th>unit</th>\n",
              "      <th>country_code</th>\n",
              "      <th>country_name</th>\n",
              "      <th>quantity</th>\n",
              "      <th>value</th>\n",
              "    </tr>\n",
              "  </thead>\n",
              "  <tbody>\n",
              "    <tr>\n",
              "      <th>0</th>\n",
              "      <td>99</td>\n",
              "      <td>Other Commodities</td>\n",
              "      <td>Na</td>\n",
              "      <td>599</td>\n",
              "      <td>Unspecified</td>\n",
              "      <td>3.903794e+06</td>\n",
              "      <td>270.889542</td>\n",
              "    </tr>\n",
              "    <tr>\n",
              "      <th>1</th>\n",
              "      <td>99</td>\n",
              "      <td>Other Commodities</td>\n",
              "      <td>Na</td>\n",
              "      <td>1213</td>\n",
              "      <td>Kenya</td>\n",
              "      <td>3.903794e+06</td>\n",
              "      <td>17.159452</td>\n",
              "    </tr>\n",
              "    <tr>\n",
              "      <th>2</th>\n",
              "      <td>99</td>\n",
              "      <td>Other Commodities</td>\n",
              "      <td>Na</td>\n",
              "      <td>1395</td>\n",
              "      <td>Tanzania Rep</td>\n",
              "      <td>3.903794e+06</td>\n",
              "      <td>8.896539</td>\n",
              "    </tr>\n",
              "    <tr>\n",
              "      <th>3</th>\n",
              "      <td>99</td>\n",
              "      <td>Other Commodities</td>\n",
              "      <td>Na</td>\n",
              "      <td>1417</td>\n",
              "      <td>Uganda</td>\n",
              "      <td>3.903794e+06</td>\n",
              "      <td>5.181412</td>\n",
              "    </tr>\n",
              "    <tr>\n",
              "      <th>4</th>\n",
              "      <td>99</td>\n",
              "      <td>Other Commodities</td>\n",
              "      <td>Na</td>\n",
              "      <td>2035</td>\n",
              "      <td>Benin</td>\n",
              "      <td>3.903794e+06</td>\n",
              "      <td>2.476015</td>\n",
              "    </tr>\n",
              "  </tbody>\n",
              "</table>\n",
              "</div>"
            ],
            "text/plain": [
              "  pc_code     pc_description unit  ...  country_name      quantity       value\n",
              "0      99  Other Commodities   Na  ...   Unspecified  3.903794e+06  270.889542\n",
              "1      99  Other Commodities   Na  ...         Kenya  3.903794e+06   17.159452\n",
              "2      99  Other Commodities   Na  ...  Tanzania Rep  3.903794e+06    8.896539\n",
              "3      99  Other Commodities   Na  ...        Uganda  3.903794e+06    5.181412\n",
              "4      99  Other Commodities   Na  ...         Benin  3.903794e+06    2.476015\n",
              "\n",
              "[5 rows x 7 columns]"
            ]
          },
          "metadata": {
            "tags": []
          },
          "execution_count": 163
        }
      ]
    },
    {
      "cell_type": "code",
      "metadata": {
        "colab": {
          "base_uri": "https://localhost:8080/",
          "height": 195
        },
        "id": "0GiMAJ717I91",
        "outputId": "a32097c8-9f0a-4803-efbc-66d24bcfbc12"
      },
      "source": [
        "dc['quantity'] = dc['quantity'].astype(int)\r\n",
        "dc.head()"
      ],
      "execution_count": null,
      "outputs": [
        {
          "output_type": "execute_result",
          "data": {
            "text/html": [
              "<div>\n",
              "<style scoped>\n",
              "    .dataframe tbody tr th:only-of-type {\n",
              "        vertical-align: middle;\n",
              "    }\n",
              "\n",
              "    .dataframe tbody tr th {\n",
              "        vertical-align: top;\n",
              "    }\n",
              "\n",
              "    .dataframe thead th {\n",
              "        text-align: right;\n",
              "    }\n",
              "</style>\n",
              "<table border=\"1\" class=\"dataframe\">\n",
              "  <thead>\n",
              "    <tr style=\"text-align: right;\">\n",
              "      <th></th>\n",
              "      <th>pc_code</th>\n",
              "      <th>pc_description</th>\n",
              "      <th>unit</th>\n",
              "      <th>country_code</th>\n",
              "      <th>country_name</th>\n",
              "      <th>quantity</th>\n",
              "      <th>value</th>\n",
              "    </tr>\n",
              "  </thead>\n",
              "  <tbody>\n",
              "    <tr>\n",
              "      <th>0</th>\n",
              "      <td>99</td>\n",
              "      <td>Other Commodities</td>\n",
              "      <td>Na</td>\n",
              "      <td>599</td>\n",
              "      <td>Unspecified</td>\n",
              "      <td>3903794</td>\n",
              "      <td>270.889542</td>\n",
              "    </tr>\n",
              "    <tr>\n",
              "      <th>1</th>\n",
              "      <td>99</td>\n",
              "      <td>Other Commodities</td>\n",
              "      <td>Na</td>\n",
              "      <td>1213</td>\n",
              "      <td>Kenya</td>\n",
              "      <td>3903794</td>\n",
              "      <td>17.159452</td>\n",
              "    </tr>\n",
              "    <tr>\n",
              "      <th>2</th>\n",
              "      <td>99</td>\n",
              "      <td>Other Commodities</td>\n",
              "      <td>Na</td>\n",
              "      <td>1395</td>\n",
              "      <td>Tanzania Rep</td>\n",
              "      <td>3903794</td>\n",
              "      <td>8.896539</td>\n",
              "    </tr>\n",
              "    <tr>\n",
              "      <th>3</th>\n",
              "      <td>99</td>\n",
              "      <td>Other Commodities</td>\n",
              "      <td>Na</td>\n",
              "      <td>1417</td>\n",
              "      <td>Uganda</td>\n",
              "      <td>3903794</td>\n",
              "      <td>5.181412</td>\n",
              "    </tr>\n",
              "    <tr>\n",
              "      <th>4</th>\n",
              "      <td>99</td>\n",
              "      <td>Other Commodities</td>\n",
              "      <td>Na</td>\n",
              "      <td>2035</td>\n",
              "      <td>Benin</td>\n",
              "      <td>3903794</td>\n",
              "      <td>2.476015</td>\n",
              "    </tr>\n",
              "  </tbody>\n",
              "</table>\n",
              "</div>"
            ],
            "text/plain": [
              "  pc_code     pc_description unit  ...  country_name quantity       value\n",
              "0      99  Other Commodities   Na  ...   Unspecified  3903794  270.889542\n",
              "1      99  Other Commodities   Na  ...         Kenya  3903794   17.159452\n",
              "2      99  Other Commodities   Na  ...  Tanzania Rep  3903794    8.896539\n",
              "3      99  Other Commodities   Na  ...        Uganda  3903794    5.181412\n",
              "4      99  Other Commodities   Na  ...         Benin  3903794    2.476015\n",
              "\n",
              "[5 rows x 7 columns]"
            ]
          },
          "metadata": {
            "tags": []
          },
          "execution_count": 177
        }
      ]
    },
    {
      "cell_type": "code",
      "metadata": {
        "colab": {
          "base_uri": "https://localhost:8080/"
        },
        "id": "b46-crUxvfHA",
        "outputId": "4368fc37-796c-4c84-ff13-15f5da641c37"
      },
      "source": [
        "print(dc.shape)"
      ],
      "execution_count": null,
      "outputs": [
        {
          "output_type": "stream",
          "text": [
            "(20844, 7)\n"
          ],
          "name": "stdout"
        }
      ]
    },
    {
      "cell_type": "markdown",
      "metadata": {
        "id": "GFG2PEZ39_ya"
      },
      "source": [
        "Check Nilai Null setelah dilakukan data cleaning"
      ]
    },
    {
      "cell_type": "code",
      "metadata": {
        "colab": {
          "base_uri": "https://localhost:8080/"
        },
        "id": "wnXkNKoEv0Le",
        "outputId": "a588a72f-50e4-4931-f78d-409de5ee5fb1"
      },
      "source": [
        "dc.isnull().sum()"
      ],
      "execution_count": null,
      "outputs": [
        {
          "output_type": "execute_result",
          "data": {
            "text/plain": [
              "pc_code           0\n",
              "pc_description    0\n",
              "unit              0\n",
              "country_code      0\n",
              "country_name      0\n",
              "quantity          0\n",
              "value             0\n",
              "dtype: int64"
            ]
          },
          "metadata": {
            "tags": []
          },
          "execution_count": 179
        }
      ]
    }
  ]
}